{
 "cells": [
  {
   "cell_type": "code",
   "execution_count": 1,
   "metadata": {},
   "outputs": [],
   "source": [
    "import json\n",
    "import pandas as pd\n",
    "import numpy as np\n",
    "import matplotlib.pyplot as plt\n",
    "import seaborn as sns\n",
    "import re\n",
    "import timeit"
   ]
  },
  {
   "cell_type": "code",
   "execution_count": 2,
   "metadata": {},
   "outputs": [],
   "source": [
    "f = open(\"C:\\\\Users\\\\Mnaas\\\\Desktop\\\\wfh\\\\automatic viz\\\\demand_forcasting.json\",) \n",
    "data = json.load(f)"
   ]
  },
  {
   "cell_type": "code",
   "execution_count": 3,
   "metadata": {},
   "outputs": [
    {
     "data": {
      "text/plain": [
       "[{'Year': 2017, 'Month': 'May', 'Sales': 272},\n",
       " {'Year': 2017, 'Month': 'Apr', 'Sales': 248},\n",
       " {'Year': 2017, 'Month': 'Mar', 'Sales': 324},\n",
       " {'Year': 2017, 'Month': 'Feb', 'Sales': 308},\n",
       " {'Year': 2017, 'Month': 'Jan', 'Sales': 628},\n",
       " {'Year': 2016, 'Month': 'Dec', 'Sales': 664},\n",
       " {'Year': 2016, 'Month': 'Nov', 'Sales': 895},\n",
       " {'Year': 2016, 'Month': 'Oct', 'Sales': 858},\n",
       " {'Year': 2016, 'Month': 'Sep', 'Sales': 677},\n",
       " {'Year': 2016, 'Month': 'Aug', 'Sales': 404},\n",
       " {'Year': 2016, 'Month': 'Jul', 'Sales': 324},\n",
       " {'Year': 2016, 'Month': 'May', 'Sales': 189},\n",
       " {'Year': 2016, 'Month': 'Jun', 'Sales': 257},\n",
       " {'Year': 2016, 'Month': 'Apr', 'Sales': 322},\n",
       " {'Year': 2016, 'Month': 'Feb', 'Sales': 392},\n",
       " {'Year': 2016, 'Month': 'Mar', 'Sales': 273},\n",
       " {'Year': 2016, 'Month': 'Jan', 'Sales': 613},\n",
       " {'Year': 2015, 'Month': 'Dec', 'Sales': 610},\n",
       " {'Year': 2015, 'Month': 'Oct', 'Sales': 680},\n",
       " {'Year': 2015, 'Month': 'Nov', 'Sales': 711}]"
      ]
     },
     "execution_count": 3,
     "metadata": {},
     "output_type": "execute_result"
    }
   ],
   "source": [
    "data"
   ]
  },
  {
   "cell_type": "code",
   "execution_count": 4,
   "metadata": {},
   "outputs": [],
   "source": [
    "data_df =pd.DataFrame(data)"
   ]
  },
  {
   "cell_type": "code",
   "execution_count": 5,
   "metadata": {},
   "outputs": [
    {
     "data": {
      "text/plain": [
       "<matplotlib.axes._subplots.AxesSubplot at 0x1fa96acde48>"
      ]
     },
     "execution_count": 5,
     "metadata": {},
     "output_type": "execute_result"
    },
    {
     "data": {
      "image/png": "[encoded data removed]",
      "text/plain": [
       "<Figure size 432x288 with 1 Axes>"
      ]
     },
     "metadata": {},
     "output_type": "display_data"
    }
   ],
   "source": [
    "data_df[\"Sales\"].plot()"
   ]
  },
  {
   "cell_type": "code",
   "execution_count": 6,
   "metadata": {},
   "outputs": [],
   "source": [
    "corpus = [{\"input_corp\":\"plot my sales for month Jan\",\"output\":\"Single_viz\"},\n",
    "           {\"input_corp\":\"sales for month Jan\",\"output\":\"Single_viz\"},\n",
    "           {\"input_corp\":\"visualise my sales for month Jan\",\"output\":\"Single_viz\"},\n",
    "          {\"input_corp\":\"visualise my sales for month Jan\",\"output\":\"Single_viz\"},\n",
    "          {\"input_corp\":\"visualize my sales for month Jan\",\"output\":\"Single_viz\"},\n",
    "          {\"input_corp\":\"visualise sales for month Jan\",\"output\":\"Single_viz\"},\n",
    "          {\"input_corp\":\"visualize sales for month Jan\",\"output\":\"Single_viz\"},\n",
    "          {\"input_corp\":\"line plot sales for month Jan\",\"output\":\"Single_viz\"},\n",
    "          {\"input_corp\":\"what is my sales for month Jan\",\"output\":\"Single_viz\"},\n",
    "          {\"input_corp\":\"what is sales for month Jan\",\"output\":\"Single_viz\"},\n",
    "          {\"input_corp\":\"plot my sales for month Feb\",\"output\":\"Single_viz\"},\n",
    "           {\"input_corp\":\"sales for month Feb\",\"output\":\"Single_viz\"},\n",
    "           {\"input_corp\":\"visualise my sales for month Feb\",\"output\":\"Single_viz\"},\n",
    "          {\"input_corp\":\"visualise my sales for month Feb\",\"output\":\"Single_viz\"},\n",
    "          {\"input_corp\":\"visualize my sales for month Feb\",\"output\":\"Single_viz\"},\n",
    "          {\"input_corp\":\"visualise sales for month Feb\",\"output\":\"Single_viz\"},\n",
    "          {\"input_corp\":\"visualize sales for month Feb\",\"output\":\"Single_viz\"},\n",
    "          {\"input_corp\":\"line plot sales for month Feb\",\"output\":\"Single_viz\"},\n",
    "          {\"input_corp\":\"what is my sales for month Feb\",\"output\":\"Single_viz\"},\n",
    "          {\"input_corp\":\"what is sales for month Feb\",\"output\":\"Single_viz\"},\n",
    "          {\"input_corp\":\"plot my sales for month Mar\",\"output\":\"Single_viz\"},\n",
    "           {\"input_corp\":\"sales for month Mar\",\"output\":\"Single_viz\"},\n",
    "           {\"input_corp\":\"visualise my sales for month Mar\",\"output\":\"Single_viz\"},\n",
    "          {\"input_corp\":\"visualise my sales for month Mar\",\"output\":\"Single_viz\"},\n",
    "          {\"input_corp\":\"visualize my sales for month Mar\",\"output\":\"Single_viz\"},\n",
    "          {\"input_corp\":\"visualise sales for month Mar\",\"output\":\"Single_viz\"},\n",
    "          {\"input_corp\":\"visualize sales for month Mar\",\"output\":\"Single_viz\"},\n",
    "          {\"input_corp\":\"line plot sales for month Mar\",\"output\":\"Single_viz\"},\n",
    "          {\"input_corp\":\"what is my sales for month Mar\",\"output\":\"Single_viz\"},\n",
    "          {\"input_corp\":\"what is sales for month Mar\",\"output\":\"Single_viz\"},\n",
    "          {\"input_corp\":\"plot my sales for month Apr\",\"output\":\"Single_viz\"},\n",
    "           {\"input_corp\":\"sales for month Apr\",\"output\":\"Single_viz\"},\n",
    "           {\"input_corp\":\"visualise my sales for month Apr\",\"output\":\"Single_viz\"},\n",
    "          {\"input_corp\":\"visualise my sales for month Apr\",\"output\":\"Single_viz\"},\n",
    "          {\"input_corp\":\"visualize my sales for month Apr\",\"output\":\"Single_viz\"},\n",
    "          {\"input_corp\":\"visualise sales for month Apr\",\"output\":\"Single_viz\"},\n",
    "          {\"input_corp\":\"visualize sales for month Apr\",\"output\":\"Single_viz\"},\n",
    "          {\"input_corp\":\"line plot sales for month Apr\",\"output\":\"Single_viz\"},\n",
    "          {\"input_corp\":\"what is my sales for month Apr\",\"output\":\"Single_viz\"},\n",
    "          {\"input_corp\":\"what is sales for month Apr\",\"output\":\"Single_viz\"},\n",
    "          {\"input_corp\":\"plot my sales for month May\",\"output\":\"Single_viz\"},\n",
    "           {\"input_corp\":\"sales for month May\",\"output\":\"Single_viz\"},\n",
    "           {\"input_corp\":\"visualise my sales for month May\",\"output\":\"Single_viz\"},\n",
    "          {\"input_corp\":\"visualise my sales for month May\",\"output\":\"Single_viz\"},\n",
    "          {\"input_corp\":\"visualize my sales for month May\",\"output\":\"Single_viz\"},\n",
    "          {\"input_corp\":\"visualise sales for month May\",\"output\":\"Single_viz\"},\n",
    "          {\"input_corp\":\"visualize sales for month May\",\"output\":\"Single_viz\"},\n",
    "          {\"input_corp\":\"line plot sales for month May\",\"output\":\"Single_viz\"},\n",
    "          {\"input_corp\":\"what is my sales for month May\",\"output\":\"Single_viz\"},\n",
    "          {\"input_corp\":\"what is sales for month May\",\"output\":\"Single_viz\"},\n",
    "          {\"input_corp\":\"plot my sales for month Jun\",\"output\":\"Single_viz\"},\n",
    "           {\"input_corp\":\"sales for month Jun\",\"output\":\"Single_viz\"},\n",
    "           {\"input_corp\":\"visualise my sales for month Jun\",\"output\":\"Single_viz\"},\n",
    "          {\"input_corp\":\"visualise my sales for month Jun\",\"output\":\"Single_viz\"},\n",
    "          {\"input_corp\":\"visualize my sales for month Jun\",\"output\":\"Single_viz\"},\n",
    "          {\"input_corp\":\"visualise sales for month Jun\",\"output\":\"Single_viz\"},\n",
    "          {\"input_corp\":\"visualize sales for month Jun\",\"output\":\"Single_viz\"},\n",
    "          {\"input_corp\":\"line plot sales for month Jun\",\"output\":\"Single_viz\"},\n",
    "          {\"input_corp\":\"what is my sales for month Jun\",\"output\":\"Single_viz\"},\n",
    "          {\"input_corp\":\"what is sales for month Jun\",\"output\":\"Single_viz\"},\n",
    "          {\"input_corp\":\"plot my sales for month Jul\",\"output\":\"Single_viz\"},\n",
    "           {\"input_corp\":\"sales for month Jul\",\"output\":\"Single_viz\"},\n",
    "           {\"input_corp\":\"visualise my sales for month Jul\",\"output\":\"Single_viz\"},\n",
    "          {\"input_corp\":\"visualise my sales for month Jul\",\"output\":\"Single_viz\"},\n",
    "          {\"input_corp\":\"visualize my sales for month Jul\",\"output\":\"Single_viz\"},\n",
    "          {\"input_corp\":\"visualise sales for month Jul\",\"output\":\"Single_viz\"},\n",
    "          {\"input_corp\":\"visualize sales for month Jul\",\"output\":\"Single_viz\"},\n",
    "          {\"input_corp\":\"line plot sales for month Jul\",\"output\":\"Single_viz\"},\n",
    "          {\"input_corp\":\"what is my sales for month Jul\",\"output\":\"Single_viz\"},\n",
    "          {\"input_corp\":\"what is sales for month Jul\",\"output\":\"Single_viz\"},\n",
    "          {\"input_corp\":\"plot my sales for month Aug\",\"output\":\"Single_viz\"},\n",
    "           {\"input_corp\":\"sales for month Aug\",\"output\":\"Single_viz\"},\n",
    "           {\"input_corp\":\"visualise my sales for month Aug\",\"output\":\"Single_viz\"},\n",
    "          {\"input_corp\":\"visualise my sales for month Aug\",\"output\":\"Single_viz\"},\n",
    "          {\"input_corp\":\"visualize my sales for month Aug\",\"output\":\"Single_viz\"},\n",
    "          {\"input_corp\":\"visualise sales for month Aug\",\"output\":\"Single_viz\"},\n",
    "          {\"input_corp\":\"visualize sales for month Aug\",\"output\":\"Single_viz\"},\n",
    "          {\"input_corp\":\"line plot sales for month Aug\",\"output\":\"Single_viz\"},\n",
    "          {\"input_corp\":\"what is my sales for month Aug\",\"output\":\"Single_viz\"},\n",
    "          {\"input_corp\":\"what is sales for month Aug\",\"output\":\"Single_viz\"},\n",
    "          {\"input_corp\":\"plot my sales for month Sep\",\"output\":\"Single_viz\"},\n",
    "           {\"input_corp\":\"sales for month Sep\",\"output\":\"Single_viz\"},\n",
    "           {\"input_corp\":\"visualise my sales for month Sep\",\"output\":\"Single_viz\"},\n",
    "          {\"input_corp\":\"visualise my sales for month Sep\",\"output\":\"Single_viz\"},\n",
    "          {\"input_corp\":\"visualize my sales for month Sep\",\"output\":\"Single_viz\"},\n",
    "          {\"input_corp\":\"visualise sales for month Sep\",\"output\":\"Single_viz\"},\n",
    "          {\"input_corp\":\"visualize sales for month Sep\",\"output\":\"Single_viz\"},\n",
    "          {\"input_corp\":\"line plot sales for month Sep\",\"output\":\"Single_viz\"},\n",
    "          {\"input_corp\":\"what is my sales for month Sep\",\"output\":\"Single_viz\"},\n",
    "          {\"input_corp\":\"what is sales for month Sep\",\"output\":\"Single_viz\"},\n",
    "          {\"input_corp\":\"plot my sales for month Oct\",\"output\":\"Single_viz\"},\n",
    "           {\"input_corp\":\"sales for month Oct\",\"output\":\"Single_viz\"},\n",
    "           {\"input_corp\":\"visualise my sales for month Oct\",\"output\":\"Single_viz\"},\n",
    "          {\"input_corp\":\"visualise my sales for month Oct\",\"output\":\"Single_viz\"},\n",
    "          {\"input_corp\":\"visualize my sales for month Oct\",\"output\":\"Single_viz\"},\n",
    "          {\"input_corp\":\"visualise sales for month Oct\",\"output\":\"Single_viz\"},\n",
    "          {\"input_corp\":\"visualize sales for month Oct\",\"output\":\"Single_viz\"},\n",
    "          {\"input_corp\":\"line plot sales for month Oct\",\"output\":\"Single_viz\"},\n",
    "          {\"input_corp\":\"what is my sales for month Oct\",\"output\":\"Single_viz\"},\n",
    "          {\"input_corp\":\"what is sales for month Oct\",\"output\":\"Single_viz\"},\n",
    "          {\"input_corp\":\"plot my sales for month Nov\",\"output\":\"Single_viz\"},\n",
    "           {\"input_corp\":\"sales for month Nov\",\"output\":\"Single_viz\"},\n",
    "           {\"input_corp\":\"visualise my sales for month Nov\",\"output\":\"Single_viz\"},\n",
    "          {\"input_corp\":\"visualise my sales for month Nov\",\"output\":\"Single_viz\"},\n",
    "          {\"input_corp\":\"visualize my sales for month Nov\",\"output\":\"Single_viz\"},\n",
    "          {\"input_corp\":\"visualise sales for month Nov\",\"output\":\"Single_viz\"},\n",
    "          {\"input_corp\":\"visualize sales for month Nov\",\"output\":\"Single_viz\"},\n",
    "          {\"input_corp\":\"line plot sales for month Nov\",\"output\":\"Single_viz\"},\n",
    "          {\"input_corp\":\"what is my sales for month Nov\",\"output\":\"Single_viz\"},\n",
    "          {\"input_corp\":\"what is sales for month Nov\",\"output\":\"Single_viz\"},\n",
    "          {\"input_corp\":\"plot my sales for month Dec\",\"output\":\"Single_viz\"},\n",
    "           {\"input_corp\":\"sales for month Dec\",\"output\":\"Single_viz\"},\n",
    "           {\"input_corp\":\"visualise my sales for month Dec\",\"output\":\"Single_viz\"},\n",
    "          {\"input_corp\":\"visualise my sales for month Dec\",\"output\":\"Single_viz\"},\n",
    "          {\"input_corp\":\"visualize my sales for month Dec\",\"output\":\"Single_viz\"},\n",
    "          {\"input_corp\":\"visualise sales for month Dec\",\"output\":\"Single_viz\"},\n",
    "          {\"input_corp\":\"visualize sales for month Dec\",\"output\":\"Single_viz\"},\n",
    "          {\"input_corp\":\"line plot sales for month Dec\",\"output\":\"Single_viz\"},\n",
    "          {\"input_corp\":\"what is my sales for month Dec\",\"output\":\"Single_viz\"},\n",
    "          {\"input_corp\":\"what is sales for month Dec\",\"output\":\"Single_viz\"},\n",
    "          {\"input_corp\":\"plot sales from \",\"output\":\"multi_viz\"},\n",
    "           {\"input_corp\":\"sales from \",\"output\":\"multi_viz\"},\n",
    "           {\"input_corp\":\"visualise my sales from month\",\"output\":\"multi_viz\"},\n",
    "          {\"input_corp\":\"visualise my sales from\",\"output\":\"multi_viz\"},\n",
    "          {\"input_corp\":\"visualize my sales from\",\"output\":\"multi_viz\"},\n",
    "          {\"input_corp\":\"visualise sales from month\",\"output\":\"multi_viz\"},\n",
    "          {\"input_corp\":\"visualize sales from\",\"output\":\"multi_viz\"},\n",
    "          {\"input_corp\":\"line plot sales from\",\"output\":\"multi_viz\"},\n",
    "          {\"input_corp\":\"what is my sales from \",\"output\":\"multi_viz\"},\n",
    "          {\"input_corp\":\"what is sales from\",\"output\":\"multi_viz\"}]"
   ]
  },
  {
   "cell_type": "code",
   "execution_count": 7,
   "metadata": {},
   "outputs": [],
   "source": [
    "crop_data = pd.DataFrame(corpus)"
   ]
  },
  {
   "cell_type": "code",
   "execution_count": 8,
   "metadata": {},
   "outputs": [
    {
     "data": {
      "text/html": [
       "<div>\n",
       "<style scoped>\n",
       "    .dataframe tbody tr th:only-of-type {\n",
       "        vertical-align: middle;\n",
       "    }\n",
       "\n",
       "    .dataframe tbody tr th {\n",
       "        vertical-align: top;\n",
       "    }\n",
       "\n",
       "    .dataframe thead th {\n",
       "        text-align: right;\n",
       "    }\n",
       "</style>\n",
       "<table border=\"1\" class=\"dataframe\">\n",
       "  <thead>\n",
       "    <tr style=\"text-align: right;\">\n",
       "      <th></th>\n",
       "      <th>input_corp</th>\n",
       "      <th>output</th>\n",
       "    </tr>\n",
       "  </thead>\n",
       "  <tbody>\n",
       "    <tr>\n",
       "      <th>0</th>\n",
       "      <td>plot my sales for month Jan</td>\n",
       "      <td>Single_viz</td>\n",
       "    </tr>\n",
       "    <tr>\n",
       "      <th>1</th>\n",
       "      <td>sales for month Jan</td>\n",
       "      <td>Single_viz</td>\n",
       "    </tr>\n",
       "    <tr>\n",
       "      <th>2</th>\n",
       "      <td>visualise my sales for month Jan</td>\n",
       "      <td>Single_viz</td>\n",
       "    </tr>\n",
       "    <tr>\n",
       "      <th>3</th>\n",
       "      <td>visualise my sales for month Jan</td>\n",
       "      <td>Single_viz</td>\n",
       "    </tr>\n",
       "    <tr>\n",
       "      <th>4</th>\n",
       "      <td>visualize my sales for month Jan</td>\n",
       "      <td>Single_viz</td>\n",
       "    </tr>\n",
       "    <tr>\n",
       "      <th>5</th>\n",
       "      <td>visualise sales for month Jan</td>\n",
       "      <td>Single_viz</td>\n",
       "    </tr>\n",
       "    <tr>\n",
       "      <th>6</th>\n",
       "      <td>visualize sales for month Jan</td>\n",
       "      <td>Single_viz</td>\n",
       "    </tr>\n",
       "    <tr>\n",
       "      <th>7</th>\n",
       "      <td>line plot sales for month Jan</td>\n",
       "      <td>Single_viz</td>\n",
       "    </tr>\n",
       "    <tr>\n",
       "      <th>8</th>\n",
       "      <td>what is my sales for month Jan</td>\n",
       "      <td>Single_viz</td>\n",
       "    </tr>\n",
       "    <tr>\n",
       "      <th>9</th>\n",
       "      <td>what is sales for month Jan</td>\n",
       "      <td>Single_viz</td>\n",
       "    </tr>\n",
       "    <tr>\n",
       "      <th>10</th>\n",
       "      <td>plot my sales for month Feb</td>\n",
       "      <td>Single_viz</td>\n",
       "    </tr>\n",
       "    <tr>\n",
       "      <th>11</th>\n",
       "      <td>sales for month Feb</td>\n",
       "      <td>Single_viz</td>\n",
       "    </tr>\n",
       "    <tr>\n",
       "      <th>12</th>\n",
       "      <td>visualise my sales for month Feb</td>\n",
       "      <td>Single_viz</td>\n",
       "    </tr>\n",
       "    <tr>\n",
       "      <th>13</th>\n",
       "      <td>visualise my sales for month Feb</td>\n",
       "      <td>Single_viz</td>\n",
       "    </tr>\n",
       "    <tr>\n",
       "      <th>14</th>\n",
       "      <td>visualize my sales for month Feb</td>\n",
       "      <td>Single_viz</td>\n",
       "    </tr>\n",
       "    <tr>\n",
       "      <th>15</th>\n",
       "      <td>visualise sales for month Feb</td>\n",
       "      <td>Single_viz</td>\n",
       "    </tr>\n",
       "    <tr>\n",
       "      <th>16</th>\n",
       "      <td>visualize sales for month Feb</td>\n",
       "      <td>Single_viz</td>\n",
       "    </tr>\n",
       "    <tr>\n",
       "      <th>17</th>\n",
       "      <td>line plot sales for month Feb</td>\n",
       "      <td>Single_viz</td>\n",
       "    </tr>\n",
       "    <tr>\n",
       "      <th>18</th>\n",
       "      <td>what is my sales for month Feb</td>\n",
       "      <td>Single_viz</td>\n",
       "    </tr>\n",
       "    <tr>\n",
       "      <th>19</th>\n",
       "      <td>what is sales for month Feb</td>\n",
       "      <td>Single_viz</td>\n",
       "    </tr>\n",
       "    <tr>\n",
       "      <th>20</th>\n",
       "      <td>plot my sales for month Mar</td>\n",
       "      <td>Single_viz</td>\n",
       "    </tr>\n",
       "    <tr>\n",
       "      <th>21</th>\n",
       "      <td>sales for month Mar</td>\n",
       "      <td>Single_viz</td>\n",
       "    </tr>\n",
       "    <tr>\n",
       "      <th>22</th>\n",
       "      <td>visualise my sales for month Mar</td>\n",
       "      <td>Single_viz</td>\n",
       "    </tr>\n",
       "    <tr>\n",
       "      <th>23</th>\n",
       "      <td>visualise my sales for month Mar</td>\n",
       "      <td>Single_viz</td>\n",
       "    </tr>\n",
       "    <tr>\n",
       "      <th>24</th>\n",
       "      <td>visualize my sales for month Mar</td>\n",
       "      <td>Single_viz</td>\n",
       "    </tr>\n",
       "    <tr>\n",
       "      <th>25</th>\n",
       "      <td>visualise sales for month Mar</td>\n",
       "      <td>Single_viz</td>\n",
       "    </tr>\n",
       "    <tr>\n",
       "      <th>26</th>\n",
       "      <td>visualize sales for month Mar</td>\n",
       "      <td>Single_viz</td>\n",
       "    </tr>\n",
       "    <tr>\n",
       "      <th>27</th>\n",
       "      <td>line plot sales for month Mar</td>\n",
       "      <td>Single_viz</td>\n",
       "    </tr>\n",
       "    <tr>\n",
       "      <th>28</th>\n",
       "      <td>what is my sales for month Mar</td>\n",
       "      <td>Single_viz</td>\n",
       "    </tr>\n",
       "    <tr>\n",
       "      <th>29</th>\n",
       "      <td>what is sales for month Mar</td>\n",
       "      <td>Single_viz</td>\n",
       "    </tr>\n",
       "    <tr>\n",
       "      <th>...</th>\n",
       "      <td>...</td>\n",
       "      <td>...</td>\n",
       "    </tr>\n",
       "    <tr>\n",
       "      <th>100</th>\n",
       "      <td>plot my sales for month Nov</td>\n",
       "      <td>Single_viz</td>\n",
       "    </tr>\n",
       "    <tr>\n",
       "      <th>101</th>\n",
       "      <td>sales for month Nov</td>\n",
       "      <td>Single_viz</td>\n",
       "    </tr>\n",
       "    <tr>\n",
       "      <th>102</th>\n",
       "      <td>visualise my sales for month Nov</td>\n",
       "      <td>Single_viz</td>\n",
       "    </tr>\n",
       "    <tr>\n",
       "      <th>103</th>\n",
       "      <td>visualise my sales for month Nov</td>\n",
       "      <td>Single_viz</td>\n",
       "    </tr>\n",
       "    <tr>\n",
       "      <th>104</th>\n",
       "      <td>visualize my sales for month Nov</td>\n",
       "      <td>Single_viz</td>\n",
       "    </tr>\n",
       "    <tr>\n",
       "      <th>105</th>\n",
       "      <td>visualise sales for month Nov</td>\n",
       "      <td>Single_viz</td>\n",
       "    </tr>\n",
       "    <tr>\n",
       "      <th>106</th>\n",
       "      <td>visualize sales for month Nov</td>\n",
       "      <td>Single_viz</td>\n",
       "    </tr>\n",
       "    <tr>\n",
       "      <th>107</th>\n",
       "      <td>line plot sales for month Nov</td>\n",
       "      <td>Single_viz</td>\n",
       "    </tr>\n",
       "    <tr>\n",
       "      <th>108</th>\n",
       "      <td>what is my sales for month Nov</td>\n",
       "      <td>Single_viz</td>\n",
       "    </tr>\n",
       "    <tr>\n",
       "      <th>109</th>\n",
       "      <td>what is sales for month Nov</td>\n",
       "      <td>Single_viz</td>\n",
       "    </tr>\n",
       "    <tr>\n",
       "      <th>110</th>\n",
       "      <td>plot my sales for month Dec</td>\n",
       "      <td>Single_viz</td>\n",
       "    </tr>\n",
       "    <tr>\n",
       "      <th>111</th>\n",
       "      <td>sales for month Dec</td>\n",
       "      <td>Single_viz</td>\n",
       "    </tr>\n",
       "    <tr>\n",
       "      <th>112</th>\n",
       "      <td>visualise my sales for month Dec</td>\n",
       "      <td>Single_viz</td>\n",
       "    </tr>\n",
       "    <tr>\n",
       "      <th>113</th>\n",
       "      <td>visualise my sales for month Dec</td>\n",
       "      <td>Single_viz</td>\n",
       "    </tr>\n",
       "    <tr>\n",
       "      <th>114</th>\n",
       "      <td>visualize my sales for month Dec</td>\n",
       "      <td>Single_viz</td>\n",
       "    </tr>\n",
       "    <tr>\n",
       "      <th>115</th>\n",
       "      <td>visualise sales for month Dec</td>\n",
       "      <td>Single_viz</td>\n",
       "    </tr>\n",
       "    <tr>\n",
       "      <th>116</th>\n",
       "      <td>visualize sales for month Dec</td>\n",
       "      <td>Single_viz</td>\n",
       "    </tr>\n",
       "    <tr>\n",
       "      <th>117</th>\n",
       "      <td>line plot sales for month Dec</td>\n",
       "      <td>Single_viz</td>\n",
       "    </tr>\n",
       "    <tr>\n",
       "      <th>118</th>\n",
       "      <td>what is my sales for month Dec</td>\n",
       "      <td>Single_viz</td>\n",
       "    </tr>\n",
       "    <tr>\n",
       "      <th>119</th>\n",
       "      <td>what is sales for month Dec</td>\n",
       "      <td>Single_viz</td>\n",
       "    </tr>\n",
       "    <tr>\n",
       "      <th>120</th>\n",
       "      <td>plot sales from</td>\n",
       "      <td>multi_viz</td>\n",
       "    </tr>\n",
       "    <tr>\n",
       "      <th>121</th>\n",
       "      <td>sales from</td>\n",
       "      <td>multi_viz</td>\n",
       "    </tr>\n",
       "    <tr>\n",
       "      <th>122</th>\n",
       "      <td>visualise my sales from month</td>\n",
       "      <td>multi_viz</td>\n",
       "    </tr>\n",
       "    <tr>\n",
       "      <th>123</th>\n",
       "      <td>visualise my sales from</td>\n",
       "      <td>multi_viz</td>\n",
       "    </tr>\n",
       "    <tr>\n",
       "      <th>124</th>\n",
       "      <td>visualize my sales from</td>\n",
       "      <td>multi_viz</td>\n",
       "    </tr>\n",
       "    <tr>\n",
       "      <th>125</th>\n",
       "      <td>visualise sales from month</td>\n",
       "      <td>multi_viz</td>\n",
       "    </tr>\n",
       "    <tr>\n",
       "      <th>126</th>\n",
       "      <td>visualize sales from</td>\n",
       "      <td>multi_viz</td>\n",
       "    </tr>\n",
       "    <tr>\n",
       "      <th>127</th>\n",
       "      <td>line plot sales from</td>\n",
       "      <td>multi_viz</td>\n",
       "    </tr>\n",
       "    <tr>\n",
       "      <th>128</th>\n",
       "      <td>what is my sales from</td>\n",
       "      <td>multi_viz</td>\n",
       "    </tr>\n",
       "    <tr>\n",
       "      <th>129</th>\n",
       "      <td>what is sales from</td>\n",
       "      <td>multi_viz</td>\n",
       "    </tr>\n",
       "  </tbody>\n",
       "</table>\n",
       "<p>130 rows × 2 columns</p>\n",
       "</div>"
      ],
      "text/plain": [
       "                           input_corp      output\n",
       "0         plot my sales for month Jan  Single_viz\n",
       "1                 sales for month Jan  Single_viz\n",
       "2    visualise my sales for month Jan  Single_viz\n",
       "3    visualise my sales for month Jan  Single_viz\n",
       "4    visualize my sales for month Jan  Single_viz\n",
       "5       visualise sales for month Jan  Single_viz\n",
       "6       visualize sales for month Jan  Single_viz\n",
       "7       line plot sales for month Jan  Single_viz\n",
       "8      what is my sales for month Jan  Single_viz\n",
       "9         what is sales for month Jan  Single_viz\n",
       "10        plot my sales for month Feb  Single_viz\n",
       "11                sales for month Feb  Single_viz\n",
       "12   visualise my sales for month Feb  Single_viz\n",
       "13   visualise my sales for month Feb  Single_viz\n",
       "14   visualize my sales for month Feb  Single_viz\n",
       "15      visualise sales for month Feb  Single_viz\n",
       "16      visualize sales for month Feb  Single_viz\n",
       "17      line plot sales for month Feb  Single_viz\n",
       "18     what is my sales for month Feb  Single_viz\n",
       "19        what is sales for month Feb  Single_viz\n",
       "20        plot my sales for month Mar  Single_viz\n",
       "21                sales for month Mar  Single_viz\n",
       "22   visualise my sales for month Mar  Single_viz\n",
       "23   visualise my sales for month Mar  Single_viz\n",
       "24   visualize my sales for month Mar  Single_viz\n",
       "25      visualise sales for month Mar  Single_viz\n",
       "26      visualize sales for month Mar  Single_viz\n",
       "27      line plot sales for month Mar  Single_viz\n",
       "28     what is my sales for month Mar  Single_viz\n",
       "29        what is sales for month Mar  Single_viz\n",
       "..                                ...         ...\n",
       "100       plot my sales for month Nov  Single_viz\n",
       "101               sales for month Nov  Single_viz\n",
       "102  visualise my sales for month Nov  Single_viz\n",
       "103  visualise my sales for month Nov  Single_viz\n",
       "104  visualize my sales for month Nov  Single_viz\n",
       "105     visualise sales for month Nov  Single_viz\n",
       "106     visualize sales for month Nov  Single_viz\n",
       "107     line plot sales for month Nov  Single_viz\n",
       "108    what is my sales for month Nov  Single_viz\n",
       "109       what is sales for month Nov  Single_viz\n",
       "110       plot my sales for month Dec  Single_viz\n",
       "111               sales for month Dec  Single_viz\n",
       "112  visualise my sales for month Dec  Single_viz\n",
       "113  visualise my sales for month Dec  Single_viz\n",
       "114  visualize my sales for month Dec  Single_viz\n",
       "115     visualise sales for month Dec  Single_viz\n",
       "116     visualize sales for month Dec  Single_viz\n",
       "117     line plot sales for month Dec  Single_viz\n",
       "118    what is my sales for month Dec  Single_viz\n",
       "119       what is sales for month Dec  Single_viz\n",
       "120                  plot sales from    multi_viz\n",
       "121                       sales from    multi_viz\n",
       "122     visualise my sales from month   multi_viz\n",
       "123           visualise my sales from   multi_viz\n",
       "124           visualize my sales from   multi_viz\n",
       "125        visualise sales from month   multi_viz\n",
       "126              visualize sales from   multi_viz\n",
       "127              line plot sales from   multi_viz\n",
       "128            what is my sales from    multi_viz\n",
       "129                what is sales from   multi_viz\n",
       "\n",
       "[130 rows x 2 columns]"
      ]
     },
     "execution_count": 8,
     "metadata": {},
     "output_type": "execute_result"
    }
   ],
   "source": [
    "crop_data"
   ]
  },
  {
   "cell_type": "code",
   "execution_count": 9,
   "metadata": {},
   "outputs": [
    {
     "name": "stdout",
     "output_type": "stream",
     "text": [
      "{'the': 7, 'quick': 6, 'brown': 0, 'fox': 2, 'jumped': 3, 'over': 5, 'lazy': 4, 'dog': 1}\n",
      "(1, 8)\n",
      "<class 'scipy.sparse.csr.csr_matrix'>\n",
      "[[1 1 1 1 1 1 1 2]]\n"
     ]
    }
   ],
   "source": [
    "from sklearn.feature_extraction.text import CountVectorizer\n",
    "\n",
    "text = [\"The quick brown fox jumped over the lazy dog.\"]\n",
    "# create the transform\n",
    "vectorizer = CountVectorizer()\n",
    "# tokenize and build vocab\n",
    "vectorizer.fit(text)\n",
    "# summarize\n",
    "print(vectorizer.vocabulary_)\n",
    "# encode document\n",
    "vector = vectorizer.transform(text)\n",
    "# summarize encoded vector\n",
    "print(vector.shape)\n",
    "print(type(vector))\n",
    "print(vector.toarray())"
   ]
  },
  {
   "cell_type": "code",
   "execution_count": 10,
   "metadata": {},
   "outputs": [],
   "source": [
    "words_list=[]\n",
    "vect =[]\n",
    "for i in crop_data[\"input_corp\"].values:\n",
    "    words_list.append(i)\n",
    "    #vectorizer.fit()"
   ]
  },
  {
   "cell_type": "code",
   "execution_count": 11,
   "metadata": {},
   "outputs": [],
   "source": [
    "#"
   ]
  },
  {
   "cell_type": "code",
   "execution_count": 12,
   "metadata": {},
   "outputs": [],
   "source": [
    "from sklearn.feature_extraction.text import CountVectorizer\n",
    "vectorizer = CountVectorizer(max_features=150, min_df=5, max_df=0.7)\n",
    "X = vectorizer.fit(words_list)\n",
    "XX =  X.transform(words_list).toarray()"
   ]
  },
  {
   "cell_type": "code",
   "execution_count": 13,
   "metadata": {},
   "outputs": [
    {
     "data": {
      "text/plain": [
       "ExtraTreeClassifier(class_weight=None, criterion='gini', max_depth=None,\n",
       "          max_features='auto', max_leaf_nodes=None,\n",
       "          min_impurity_decrease=0.0, min_impurity_split=None,\n",
       "          min_samples_leaf=1, min_samples_split=2,\n",
       "          min_weight_fraction_leaf=0.0, random_state=None,\n",
       "          splitter='random')"
      ]
     },
     "execution_count": 13,
     "metadata": {},
     "output_type": "execute_result"
    }
   ],
   "source": [
    "from sklearn.tree import DecisionTreeClassifier\n",
    "dtt = DecisionTreeClassifier( splitter='best',)\n",
    "\n",
    "dtt.fit(XX,crop_data[\"output\"].values)\n",
    "\n",
    "from sklearn.tree import ExtraTreeClassifier\n",
    "ett =ExtraTreeClassifier()\n",
    "\n",
    "ett.fit(XX,crop_data[\"output\"].values)\n"
   ]
  },
  {
   "cell_type": "code",
   "execution_count": 14,
   "metadata": {},
   "outputs": [],
   "source": [
    "#"
   ]
  },
  {
   "cell_type": "code",
   "execution_count": 15,
   "metadata": {},
   "outputs": [],
   "source": [
    "#\"from\" in inp\n",
    "def multi_viz(froma,tod):\n",
    "    all_months=[\"Jan\",\"Feb\",\"Mar\",\"Apr\",\"May\",\"Jun\",\"Jul\",\"Aug\",\"Sep\",\"Oct\",\"Nov\",\"Dec\"]\n",
    "    froma = froma\n",
    "    ind1 = all_months.index(froma)\n",
    "    ind2 = all_months.index(tod)\n",
    "    lss = all_months[ind1:ind2+1]\n",
    "    all_new=pd.DataFrame()\n",
    "    #all_new.sort()\n",
    "    for j in lss:\n",
    "        all_new = all_new.append(data_df[data_df[\"Month\"]==j])\n",
    "    print(all_new)\n",
    "    all_new = all_new.sort_values(\"Year\",axis=0)\n",
    "    plots=[\"line\",\"bar\",\"box\"]\n",
    "    #all_new[\"Year\"].value\n",
    "    \n",
    "    index_years = all_new[\"Year\"].value_counts().index\n",
    "    fig = plt.figure(figsize=(10,10))\n",
    "    j=1\n",
    "    for i in index_years:\n",
    "      \n",
    "    \n",
    "        plt.subplot(len(index_years), 3, j)\n",
    "        plt.title(\"{} year\".format(i))\n",
    "        sns.barplot(all_new[all_new[\"Year\"]==i][\"Sales\"],all_new[all_new[\"Year\"]==i][\"Month\"])\n",
    "        #all_new[all_new[\"Year\"]==i][\"Sales\"].plot(kind=\"bar\",title=\"{} year\".format(i))\n",
    "        j=j+1\n",
    "        plt.subplot(len(index_years), 3, j)\n",
    "        plt.xlabel(all_new[all_new[\"Year\"]==i][\"Month\"].value_counts().index)\n",
    "        all_new[all_new[\"Year\"]==i][\"Sales\"].plot(kind=\"line\",title=\"{} year\".format(i))\n",
    "        \n",
    "        j=j+1\n",
    "        plt.subplot(len(index_years), 3, j)\n",
    "        plt.title(\"{} year\".format(i))\n",
    "        plt.xlabel(lss)\n",
    "        sns.boxplot(all_new[all_new[\"Year\"]==i]['Sales'],all_new[all_new[\"Year\"]==i]['Month'])\n",
    "        j=j+1\n",
    "    return(plt)\n",
    "    \n",
    "    \n",
    "    \n",
    "def m_viz(inp):    \n",
    "    for s in inp.split(' '):\n",
    "        if s.startswith('*'):\n",
    "            ans.append(s[1:])\n",
    "    multi_viz(ans[0],ans[1])\n",
    "def s_viz(inp):\n",
    "    if \"Jan\" in inp:\n",
    "        data_df[data_df[\"Month\"] == \"Jan\"][\"Sales\"].plot()\n",
    "    elif\"Feb\" in inp:\n",
    "        data_df[data_df[\"Month\"] == \"Feb\"][\"Sales\"].plot()\n",
    "    elif \"Mar\" in inp:\n",
    "        data_df[data_df[\"Month\"] == \"Mar\"][\"Sales\"].plot()\n",
    "    elif \"Apr\" in inp:\n",
    "        data_df[data_df[\"Month\"] == \"Apr\"][\"Sales\"].plot()\n",
    "    elif \"May\" in inp:\n",
    "        data_df[data_df[\"Month\"] == \"May\"][\"Sales\"].plot()\n",
    "    elif \"Jun\" in inp:\n",
    "        print(\"yo\")\n",
    "        data_df[data_df[\"Month\"] == \"Jun\"][\"Sales\"].plot()\n",
    "    elif \"Jul\" in inp:\n",
    "        data_df[data_df[\"Month\"] == \"Jul\"][\"Sales\"].plot()\n",
    "    elif \"Aug\" in inp:\n",
    "        data_df[data_df[\"Month\"] == \"Aug\"][\"Sales\"].plot()\n",
    "    elif \"Sep\" in inp:\n",
    "        data_df[data_df[\"Month\"] == \"Sep\"][\"Sales\"].plot()\n",
    "    elif \"Oct\" in inp:\n",
    "        data_df[data_df[\"Month\"] == \"Oct\"][\"Sales\"].plot()\n",
    "    elif \"Nov\" in inp:\n",
    "        data_df[data_df[\"Month\"] == \"Nov\"][\"Sales\"].plot()\n",
    "    else:\n",
    "        data_df[data_df[\"Month\"] == \"Dec\"][\"Sales\"].plot()\n",
    "    \n",
    "ans=[]        \n",
    "def cooporate_learn(inp):\n",
    "    inputt = X.transform([inp]).toarray()\n",
    "    val =dtt.predict(inputt)\n",
    "    ans=[]\n",
    "    if(val[0]=='multi_viz'):\n",
    "        m_viz(inp)\n",
    "    else:\n",
    "        s_viz(inp)\n",
    "    \n"
   ]
  },
  {
   "cell_type": "code",
   "execution_count": null,
   "metadata": {},
   "outputs": [],
   "source": []
  },
  {
   "cell_type": "code",
   "execution_count": 15,
   "metadata": {},
   "outputs": [
    {
     "name": "stdout",
     "output_type": "stream",
     "text": [
      "input me somethingplot *JUn\n"
     ]
    },
    {
     "data": {
      "image/png": "[encoded data removed]",
      "text/plain": [
       "<Figure size 432x288 with 1 Axes>"
      ]
     },
     "metadata": {},
     "output_type": "display_data"
    }
   ],
   "source": [
    "inp = input(\"input me something\")\n",
    "\n",
    "cooporate_learn(inp)"
   ]
  },
  {
   "cell_type": "code",
   "execution_count": 55,
   "metadata": {},
   "outputs": [],
   "source": [
    "#"
   ]
  },
  {
   "cell_type": "code",
   "execution_count": 16,
   "metadata": {},
   "outputs": [
    {
     "data": {
      "text/html": [
       "<div>\n",
       "<style scoped>\n",
       "    .dataframe tbody tr th:only-of-type {\n",
       "        vertical-align: middle;\n",
       "    }\n",
       "\n",
       "    .dataframe tbody tr th {\n",
       "        vertical-align: top;\n",
       "    }\n",
       "\n",
       "    .dataframe thead th {\n",
       "        text-align: right;\n",
       "    }\n",
       "</style>\n",
       "<table border=\"1\" class=\"dataframe\">\n",
       "  <thead>\n",
       "    <tr style=\"text-align: right;\">\n",
       "      <th></th>\n",
       "      <th>Month</th>\n",
       "      <th>Sales</th>\n",
       "      <th>Year</th>\n",
       "    </tr>\n",
       "  </thead>\n",
       "  <tbody>\n",
       "    <tr>\n",
       "      <th>0</th>\n",
       "      <td>May</td>\n",
       "      <td>272</td>\n",
       "      <td>2017</td>\n",
       "    </tr>\n",
       "    <tr>\n",
       "      <th>1</th>\n",
       "      <td>Apr</td>\n",
       "      <td>248</td>\n",
       "      <td>2017</td>\n",
       "    </tr>\n",
       "    <tr>\n",
       "      <th>2</th>\n",
       "      <td>Mar</td>\n",
       "      <td>324</td>\n",
       "      <td>2017</td>\n",
       "    </tr>\n",
       "    <tr>\n",
       "      <th>3</th>\n",
       "      <td>Feb</td>\n",
       "      <td>308</td>\n",
       "      <td>2017</td>\n",
       "    </tr>\n",
       "    <tr>\n",
       "      <th>4</th>\n",
       "      <td>Jan</td>\n",
       "      <td>628</td>\n",
       "      <td>2017</td>\n",
       "    </tr>\n",
       "    <tr>\n",
       "      <th>5</th>\n",
       "      <td>Dec</td>\n",
       "      <td>664</td>\n",
       "      <td>2016</td>\n",
       "    </tr>\n",
       "    <tr>\n",
       "      <th>6</th>\n",
       "      <td>Nov</td>\n",
       "      <td>895</td>\n",
       "      <td>2016</td>\n",
       "    </tr>\n",
       "    <tr>\n",
       "      <th>7</th>\n",
       "      <td>Oct</td>\n",
       "      <td>858</td>\n",
       "      <td>2016</td>\n",
       "    </tr>\n",
       "    <tr>\n",
       "      <th>8</th>\n",
       "      <td>Sep</td>\n",
       "      <td>677</td>\n",
       "      <td>2016</td>\n",
       "    </tr>\n",
       "    <tr>\n",
       "      <th>9</th>\n",
       "      <td>Aug</td>\n",
       "      <td>404</td>\n",
       "      <td>2016</td>\n",
       "    </tr>\n",
       "    <tr>\n",
       "      <th>10</th>\n",
       "      <td>Jul</td>\n",
       "      <td>324</td>\n",
       "      <td>2016</td>\n",
       "    </tr>\n",
       "    <tr>\n",
       "      <th>11</th>\n",
       "      <td>May</td>\n",
       "      <td>189</td>\n",
       "      <td>2016</td>\n",
       "    </tr>\n",
       "    <tr>\n",
       "      <th>12</th>\n",
       "      <td>Jun</td>\n",
       "      <td>257</td>\n",
       "      <td>2016</td>\n",
       "    </tr>\n",
       "    <tr>\n",
       "      <th>13</th>\n",
       "      <td>Apr</td>\n",
       "      <td>322</td>\n",
       "      <td>2016</td>\n",
       "    </tr>\n",
       "    <tr>\n",
       "      <th>14</th>\n",
       "      <td>Feb</td>\n",
       "      <td>392</td>\n",
       "      <td>2016</td>\n",
       "    </tr>\n",
       "    <tr>\n",
       "      <th>15</th>\n",
       "      <td>Mar</td>\n",
       "      <td>273</td>\n",
       "      <td>2016</td>\n",
       "    </tr>\n",
       "    <tr>\n",
       "      <th>16</th>\n",
       "      <td>Jan</td>\n",
       "      <td>613</td>\n",
       "      <td>2016</td>\n",
       "    </tr>\n",
       "    <tr>\n",
       "      <th>17</th>\n",
       "      <td>Dec</td>\n",
       "      <td>610</td>\n",
       "      <td>2015</td>\n",
       "    </tr>\n",
       "    <tr>\n",
       "      <th>18</th>\n",
       "      <td>Oct</td>\n",
       "      <td>680</td>\n",
       "      <td>2015</td>\n",
       "    </tr>\n",
       "    <tr>\n",
       "      <th>19</th>\n",
       "      <td>Nov</td>\n",
       "      <td>711</td>\n",
       "      <td>2015</td>\n",
       "    </tr>\n",
       "  </tbody>\n",
       "</table>\n",
       "</div>"
      ],
      "text/plain": [
       "   Month  Sales  Year\n",
       "0    May    272  2017\n",
       "1    Apr    248  2017\n",
       "2    Mar    324  2017\n",
       "3    Feb    308  2017\n",
       "4    Jan    628  2017\n",
       "5    Dec    664  2016\n",
       "6    Nov    895  2016\n",
       "7    Oct    858  2016\n",
       "8    Sep    677  2016\n",
       "9    Aug    404  2016\n",
       "10   Jul    324  2016\n",
       "11   May    189  2016\n",
       "12   Jun    257  2016\n",
       "13   Apr    322  2016\n",
       "14   Feb    392  2016\n",
       "15   Mar    273  2016\n",
       "16   Jan    613  2016\n",
       "17   Dec    610  2015\n",
       "18   Oct    680  2015\n",
       "19   Nov    711  2015"
      ]
     },
     "execution_count": 16,
     "metadata": {},
     "output_type": "execute_result"
    }
   ],
   "source": [
    "data_df"
   ]
  },
  {
   "cell_type": "code",
   "execution_count": 18,
   "metadata": {},
   "outputs": [],
   "source": [
    "functionality_address(data_df)"
   ]
  },
  {
   "cell_type": "code",
   "execution_count": null,
   "metadata": {},
   "outputs": [],
   "source": []
  },
  {
   "cell_type": "code",
   "execution_count": 15,
   "metadata": {
    "scrolled": true
   },
   "outputs": [],
   "source": [
    "#"
   ]
  },
  {
   "cell_type": "code",
   "execution_count": 22,
   "metadata": {},
   "outputs": [],
   "source": [
    "#"
   ]
  },
  {
   "cell_type": "code",
   "execution_count": 49,
   "metadata": {},
   "outputs": [],
   "source": [
    "#"
   ]
  },
  {
   "cell_type": "code",
   "execution_count": null,
   "metadata": {},
   "outputs": [],
   "source": [
    "#lets understad the decision tree parameters\n",
    "\n",
    "# lets understand extra trees para1meters\n"
   ]
  },
  {
   "cell_type": "code",
   "execution_count": 34,
   "metadata": {},
   "outputs": [],
   "source": [
    "#criterion ..this represents the quality for the split\n",
    "# split:---it can be best or random\n",
    "#max depth --the maximun depth of the tree\n",
    "# min_samples_split: how many samples can be split at each node...by default its bianry 2\n",
    "#min_samples_leaf...the minimum samples that need to present at each node\n",
    "#min_weight_fraction..this represents the what fraction of  weight  of toal weight can be present at each node\n",
    "#max_features to consider for best split\n",
    "#max_leaf_nodes...what should be the max leaf noeds\n",
    "#"
   ]
  },
  {
   "cell_type": "markdown",
   "metadata": {},
   "source": [
    "# Linear Models"
   ]
  },
  {
   "cell_type": "code",
   "execution_count": null,
   "metadata": {},
   "outputs": [],
   "source": []
  },
  {
   "cell_type": "code",
   "execution_count": 18,
   "metadata": {},
   "outputs": [
    {
     "data": {
      "text/plain": [
       "array([[0, 0, 0, 0, 0, 0, 0, 0, 1, 0, 0, 0, 0, 0, 0, 1, 0, 0, 0, 0]],\n",
       "      dtype=int64)"
      ]
     },
     "execution_count": 18,
     "metadata": {},
     "output_type": "execute_result"
    }
   ],
   "source": [
    "X.transform([inp]).toarray()"
   ]
  },
  {
   "cell_type": "code",
   "execution_count": 19,
   "metadata": {
    "scrolled": true
   },
   "outputs": [
    {
     "data": {
      "text/plain": [
       "<matplotlib.axes._subplots.AxesSubplot at 0x1baa062af98>"
      ]
     },
     "execution_count": 19,
     "metadata": {},
     "output_type": "execute_result"
    },
    {
     "data": {
      "image/png": "[encoded data removed]",
      "text/plain": [
       "<Figure size 432x288 with 1 Axes>"
      ]
     },
     "metadata": {},
     "output_type": "display_data"
    }
   ],
   "source": [
    "import pandas as pd \n",
    "from bokeh.plotting import DEFAULT_TOOLS\n",
    "import seaborn as sns\n",
    "sns.boxplot()"
   ]
  },
  {
   "cell_type": "code",
   "execution_count": 16,
   "metadata": {},
   "outputs": [],
   "source": [
    "import re"
   ]
  },
  {
   "cell_type": "code",
   "execution_count": 18,
   "metadata": {},
   "outputs": [],
   "source": [
    "#\"from\" in inp\n",
    "def multi_viz(froma,tod):\n",
    "    all_months=[\"Jan\",\"Feb\",\"Mar\",\"Apr\",\"May\",\"Jun\",\"Jul\",\"Aug\",\"Sep\",\"Oct\",\"Nov\",\"Dec\"]\n",
    "    froma = froma\n",
    "    ind1 = all_months.index(froma)\n",
    "    ind2 = all_months.index(tod)\n",
    "    lss = all_months[ind1:ind2+1]\n",
    "    all_new=pd.DataFrame()\n",
    "    #all_new.sort()\n",
    "    for j in lss:\n",
    "        all_new = all_new.append(data_df[data_df[\"Month\"]==j])\n",
    "    print(all_new)\n",
    "    all_new = all_new.sort_values(\"Year\",axis=0)\n",
    "    plots=[\"line\",\"bar\",\"box\"]\n",
    "    #all_new[\"Year\"].value\n",
    "    \n",
    "    index_years = all_new[\"Year\"].value_counts().index\n",
    "    fig = plt.figure(figsize=(10,10))\n",
    "    j=1\n",
    "    for i in index_years:\n",
    "      \n",
    "    \n",
    "        plt.subplot(len(index_years), 3, j)\n",
    "        plt.title(\"{} year\".format(i))\n",
    "        sns.barplot(all_new[all_new[\"Year\"]==i][\"Sales\"],all_new[all_new[\"Year\"]==i][\"Month\"])\n",
    "        #all_new[all_new[\"Year\"]==i][\"Sales\"].plot(kind=\"bar\",title=\"{} year\".format(i))\n",
    "        j=j+1\n",
    "        plt.subplot(len(index_years), 3, j)\n",
    "        plt.xlabel(all_new[all_new[\"Year\"]==i][\"Month\"].value_counts().index)\n",
    "        all_new[all_new[\"Year\"]==i][\"Sales\"].plot(kind=\"line\",title=\"{} year\".format(i))\n",
    "        \n",
    "        j=j+1\n",
    "        plt.subplot(len(index_years), 3, j)\n",
    "        plt.title(\"{} year\".format(i))\n",
    "        plt.xlabel(lss)\n",
    "        sns.boxplot(all_new[all_new[\"Year\"]==i]['Sales'],all_new[all_new[\"Year\"]==i]['Month'])\n",
    "        j=j+1\n",
    "    return(plt)\n",
    "    \n",
    "    \n",
    "    "
   ]
  },
  {
   "cell_type": "code",
   "execution_count": 40,
   "metadata": {},
   "outputs": [],
   "source": [
    "#"
   ]
  },
  {
   "cell_type": "code",
   "execution_count": 19,
   "metadata": {},
   "outputs": [
    {
     "data": {
      "text/plain": [
       "Index(['Feb', 'Jan', 'Jun', 'Jul', 'Oct', 'Apr', 'Dec', 'Nov', 'Sep', 'Aug',\n",
       "       'May', 'Mar'],\n",
       "      dtype='object')"
      ]
     },
     "execution_count": 19,
     "metadata": {},
     "output_type": "execute_result"
    }
   ],
   "source": [
    "data_df[data_df[\"Year\"]==2016][\"Month\"].value_counts().index"
   ]
  },
  {
   "cell_type": "code",
   "execution_count": 20,
   "metadata": {},
   "outputs": [
    {
     "name": "stdout",
     "output_type": "stream",
     "text": [
      "sdfwe\n"
     ]
    }
   ],
   "source": [
    "print(\"sdfwe\")"
   ]
  },
  {
   "cell_type": "code",
   "execution_count": 21,
   "metadata": {},
   "outputs": [
    {
     "name": "stdout",
     "output_type": "stream",
     "text": [
      "   Month  Sales  Year\n",
      "4    Jan    628  2017\n",
      "16   Jan    613  2016\n",
      "3    Feb    308  2017\n",
      "14   Feb    392  2016\n",
      "2    Mar    324  2017\n",
      "15   Mar    273  2016\n",
      "1    Apr    248  2017\n",
      "13   Apr    322  2016\n",
      "0    May    272  2017\n",
      "11   May    189  2016\n",
      "12   Jun    257  2016\n",
      "10   Jul    324  2016\n",
      "9    Aug    404  2016\n",
      "8    Sep    677  2016\n",
      "7    Oct    858  2016\n",
      "18   Oct    680  2015\n",
      "6    Nov    895  2016\n",
      "19   Nov    711  2015\n",
      "5    Dec    664  2016\n",
      "17   Dec    610  2015\n"
     ]
    },
    {
     "data": {
      "text/plain": [
       "<module 'matplotlib.pyplot' from 'C:\\\\Users\\\\Mnaas\\\\AppData\\\\Roaming\\\\Python\\\\Python36\\\\site-packages\\\\matplotlib\\\\pyplot.py'>"
      ]
     },
     "execution_count": 21,
     "metadata": {},
     "output_type": "execute_result"
    },
    {
     "data": {
      "image/png": "[encoded data removed]",
      "text/plain": [
       "<Figure size 720x720 with 9 Axes>"
      ]
     },
     "metadata": {},
     "output_type": "display_data"
    }
   ],
   "source": [
    "multi_viz(\"Jan\",\"Dec\")"
   ]
  },
  {
   "cell_type": "code",
   "execution_count": 24,
   "metadata": {},
   "outputs": [
    {
     "data": {
      "text/plain": [
       "Int64Index([2016, 2017, 2015], dtype='int64')"
      ]
     },
     "execution_count": 24,
     "metadata": {},
     "output_type": "execute_result"
    }
   ],
   "source": [
    "data_df[\"Year\"].value_counts().index"
   ]
  },
  {
   "cell_type": "code",
   "execution_count": null,
   "metadata": {},
   "outputs": [],
   "source": [
    "len(data_df[\"Year\"].value_counts())    "
   ]
  },
  {
   "cell_type": "code",
   "execution_count": 220,
   "metadata": {},
   "outputs": [],
   "source": [
    "name=\"amans\""
   ]
  },
  {
   "cell_type": "code",
   "execution_count": 224,
   "metadata": {},
   "outputs": [
    {
     "data": {
      "text/plain": [
       "'amans hola'"
      ]
     },
     "execution_count": 224,
     "metadata": {},
     "output_type": "execute_result"
    }
   ],
   "source": [
    "\"{0} hola\".format(name)"
   ]
  },
  {
   "cell_type": "code",
   "execution_count": 17,
   "metadata": {},
   "outputs": [],
   "source": [
    "def read_the_data(data_df):\n",
    "    total_details ={}\n",
    "    total_details[\"missed_data\"]=[]\n",
    "    total_details[\"missed_data_percentage\"]=[]\n",
    "    \n",
    "    if(data_df.shape != 0):\n",
    "        print(\"Data has been read properly\")\n",
    "    else:\n",
    "        return(\"Kindly load the proper data\")\n",
    "    print(\"Let's enter to the demand forecasting\")\n",
    "    def cols(cols_printer):\n",
    "        print(cols_printer)\n",
    "    list(map(cols,data_df.columns))\n",
    "    \n",
    "    target=input(print(\"What column do you want to forecast, *That colum would be the out put\"))\n",
    "    print(\"This is the target column\")\n",
    "    print(\"These would be yours input fieds\\n\")\n",
    "    list(map(cols,data_df.columns[data_df.columns != target]))\n",
    "    print(\"\\n\")\n",
    "    print(\"**[one] [two] [three]**\")\n",
    "    print(\"when not interested in a column say Date use this **[Year] [Month] [0]\")\n",
    "    date_ls = input(print(\"select the columns that represent Year,Month ,Date, you can only select Year or Month or Date it all depends on what timeline you prefer \\n\"))\n",
    "    print(date_ls)\n",
    "    date_columns = re.findall(r'(?<=\\W)[[]\\S*', date_ls)\n",
    "    print(date_columns)\n",
    "    if len(date_columns[0])>3: Year = date_columns[0][1:len(date_columns[0])-1] \n",
    "    if len(date_columns[1])>3 : Month = date_columns[1][1:len(date_columns[1])-1]\n",
    "    if len(date_columns[2])>3: Date = date_columns[2][1:len(date_columns[2])-1] \n",
    "    # if not int(date_columns[1]) ==0: Month=date_columns[1][1:len(date_columns[1])-1]\n",
    "    #if not int(date_columns[2]) ==0: Date = date_columns[2][1:len(date_columns[1])-1]\n",
    "    new_df = pd.DataFrame()# creatinon of new dataframe\n",
    "    try:\n",
    "         if locals()['Year']!= None: new_df = data_df[[Year]]\n",
    "    except Exception:\n",
    "        pass\n",
    "    try:\n",
    "         if locals()['Month']!= None: new_df[\"Month\"] = data_df[Month]\n",
    "    except Exception:\n",
    "        pass\n",
    "    try:\n",
    "         if locals()['Date']!= None: new_df[\"Date\"] = data_df[Date]\n",
    "    except Exception:\n",
    "        pass\n",
    "    print(target)\n",
    "    new_df[target] = data_df[target]\n",
    "    #new dataframe has been created for the further processes\n",
    "    total_details[\"missed_data\"].append(data_df.isnull().sum()[data_df.isnull().sum()>0].index)\n",
    "    total_details[\"missed_data_percentage\"].append(np.array(data_df.isnull().sum()[data_df.isnull().sum()>0].values)/new_df.shape[0])\n",
    "    new_df.dropna(subset=['Sales'],axis=0,inplace=True)# dropping all the missing values\n",
    "    vals=new_df.isnull().sum() [new_df.isnull().sum() >0].empty\n",
    "    empty_names =[]\n",
    "    if vals==True:\n",
    "        empty_names.append(new_df.isnull().sum() [new_df.isnull().sum() >0].index)\n",
    "    for i in empty_names:\n",
    "        new_df.dropna(subset=[i],axis=0)   \n",
    "    #modelling\n",
    "    new_df = pd.get_dummies(new_df)\n",
    "    train = new_df\n",
    "    print(new_df)\n",
    "    model_performances ={}\n",
    "    model_performances[\"model_name\"] =[]\n",
    "    model_performances[\"model_rmse_error\"] =[]\n",
    "    model_performances[\"model_time_taken\"]=[]\n",
    "    model_performances[\"prediction_time_taken\"]=[]\n",
    "    #instantiating models\n",
    "    et = ExtraTreeRegressor()\n",
    "    lr = LinearRegression()\n",
    "    bg = BaggingRegressor()\n",
    "    dt = DecisionTreeRegressor()\n",
    "    time=[]\n",
    "    #decision trees\n",
    "    start = timeit.default_timer()\n",
    "    dt.fit(new_df[new_df.columns[new_df.columns != target]],new_df[target])\n",
    "    stop = timeit.default_timer()\n",
    "    model_performances[\"model_time_taken\"].append(stop-start) \n",
    "    #extratrees\n",
    "    start = timeit.default_timer()\n",
    "    et.fit(new_df[new_df.columns[new_df.columns != target]],new_df[target])\n",
    "    stop = timeit.default_timer()\n",
    "    model_performances[\"model_time_taken\"].append(stop-start)\n",
    "    #Lr\n",
    "    start = timeit.default_timer()\n",
    "    lr.fit(new_df[new_df.columns[new_df.columns != target]],new_df[target])\n",
    "    stop = timeit.default_timer()\n",
    "    model_performances[\"model_time_taken\"].append(stop-start)\n",
    "    #bg\n",
    "    start = timeit.default_timer()\n",
    "    bg.fit(new_df[new_df.columns[new_df.columns != target]],new_df[target])\n",
    "    stop = timeit.default_timer()\n",
    "    model_performances[\"model_time_taken\"].append(stop-start)\n",
    "    \n",
    "    test = new_df[new_df.columns[new_df.columns != target]].tail(5)# for testing alone\n",
    "    test = pd.get_dummies(test)\n",
    "    missing_cols = set( new_df[new_df.columns[new_df.columns != target]].columns ) - set( test.columns )\n",
    "    # Add a missing column in test set with default value equal to 0\n",
    "    for c in missing_cols:\n",
    "        test[c] = 0\n",
    "    # Ensure the order of column in the test set is in the same order than in train set\n",
    "    test = test[new_df[new_df.columns[new_df.columns != target]].columns]\n",
    "   \n",
    "    #decision tree accuracy...\n",
    "    model_performances[\"model_name\"].append(\"Decision Trees\")\n",
    "    start = timeit.default_timer()\n",
    "    vals =dt.predict(test)\n",
    "    stop = timeit.default_timer()\n",
    "    model_performances[\"prediction_time_taken\"].append(stop-start)\n",
    "    #rmse error\n",
    "    rmse_error=np.sqrt(mean_squared_error(new_df[new_df.columns[new_df.columns == target]].tail(5)[target],vals))\n",
    "    model_performances[\"model_rmse_error\"].append(rmse_error)\n",
    "    \n",
    "    #liear regression accuracy\n",
    "    model_performances[\"model_name\"].append(\"Linear regression\")\n",
    "    start = timeit.default_timer()\n",
    "    vals =lr.predict(test)\n",
    "    stop = timeit.default_timer()\n",
    "    model_performances[\"prediction_time_taken\"].append(stop-start)\n",
    "    #rmse error\n",
    "    rmse_error=np.sqrt(mean_squared_error(new_df[new_df.columns[new_df.columns == target]].tail(5)[target],vals))\n",
    "    model_performances[\"model_rmse_error\"].append(rmse_error)\n",
    "    \n",
    "    #bagging regressor\n",
    "    model_performances[\"model_name\"].append(\"Bagging regression\")\n",
    "    start = timeit.default_timer()\n",
    "    vals =bg.predict(test)\n",
    "    stop = timeit.default_timer()\n",
    "    model_performances[\"prediction_time_taken\"].append(stop-start)\n",
    "    #rmse error\n",
    "    rmse_error=np.sqrt(mean_squared_error(new_df[new_df.columns[new_df.columns == target]].tail(5)[target],vals))\n",
    "    model_performances[\"model_rmse_error\"].append(rmse_error)\n",
    "    \n",
    "    #extra tree regressor\n",
    "    model_performances[\"model_name\"].append(\"Extra tree regression\")\n",
    "    start = timeit.default_timer()\n",
    "    vals =et.predict(test)\n",
    "    stop = timeit.default_timer()\n",
    "    model_performances[\"prediction_time_taken\"].append(stop-start)\n",
    "    #rmse error\n",
    "    rmse_error=np.sqrt(mean_squared_error(new_df[new_df.columns[new_df.columns == target]].tail(5)[target],vals))\n",
    "    model_performances[\"model_rmse_error\"].append(rmse_error)\n",
    "    \n",
    "    return(vals,model_performances,total_details)  "
   ]
  },
  {
   "cell_type": "code",
   "execution_count": 20,
   "metadata": {},
   "outputs": [
    {
     "ename": "IndexError",
     "evalue": "index 0 is out of bounds for axis 0 with size 0",
     "output_type": "error",
     "traceback": [
      "\u001b[1;31m---------------------------------------------------------------------------\u001b[0m",
      "\u001b[1;31mIndexError\u001b[0m                                Traceback (most recent call last)",
      "\u001b[1;32m<ipython-input-20-b1942daf1a8e>\u001b[0m in \u001b[0;36m<module>\u001b[1;34m()\u001b[0m\n\u001b[1;32m----> 1\u001b[1;33m \u001b[0mdata_df\u001b[0m\u001b[1;33m.\u001b[0m\u001b[0misnull\u001b[0m\u001b[1;33m(\u001b[0m\u001b[1;33m)\u001b[0m\u001b[1;33m.\u001b[0m\u001b[0msum\u001b[0m\u001b[1;33m(\u001b[0m\u001b[1;33m)\u001b[0m\u001b[1;33m[\u001b[0m\u001b[0mdata_df\u001b[0m\u001b[1;33m.\u001b[0m\u001b[0misnull\u001b[0m\u001b[1;33m(\u001b[0m\u001b[1;33m)\u001b[0m\u001b[1;33m.\u001b[0m\u001b[0msum\u001b[0m\u001b[1;33m(\u001b[0m\u001b[1;33m)\u001b[0m\u001b[1;33m>\u001b[0m\u001b[1;36m0\u001b[0m\u001b[1;33m]\u001b[0m\u001b[1;33m.\u001b[0m\u001b[0mvalues\u001b[0m\u001b[1;33m[\u001b[0m\u001b[1;36m0\u001b[0m\u001b[1;33m]\u001b[0m\u001b[1;33m\u001b[0m\u001b[0m\n\u001b[0m",
      "\u001b[1;31mIndexError\u001b[0m: index 0 is out of bounds for axis 0 with size 0"
     ]
    }
   ],
   "source": [
    "data_df.isnull().sum()[data_df.isnull().sum()>0].values[0]"
   ]
  },
  {
   "cell_type": "code",
   "execution_count": null,
   "metadata": {},
   "outputs": [],
   "source": []
  },
  {
   "cell_type": "code",
   "execution_count": 21,
   "metadata": {},
   "outputs": [
    {
     "data": {
      "text/html": [
       "<div>\n",
       "<style scoped>\n",
       "    .dataframe tbody tr th:only-of-type {\n",
       "        vertical-align: middle;\n",
       "    }\n",
       "\n",
       "    .dataframe tbody tr th {\n",
       "        vertical-align: top;\n",
       "    }\n",
       "\n",
       "    .dataframe thead th {\n",
       "        text-align: right;\n",
       "    }\n",
       "</style>\n",
       "<table border=\"1\" class=\"dataframe\">\n",
       "  <thead>\n",
       "    <tr style=\"text-align: right;\">\n",
       "      <th></th>\n",
       "      <th>Month</th>\n",
       "      <th>Sales</th>\n",
       "      <th>Year</th>\n",
       "    </tr>\n",
       "  </thead>\n",
       "  <tbody>\n",
       "    <tr>\n",
       "      <th>0</th>\n",
       "      <td>May</td>\n",
       "      <td>272</td>\n",
       "      <td>2017</td>\n",
       "    </tr>\n",
       "    <tr>\n",
       "      <th>1</th>\n",
       "      <td>Apr</td>\n",
       "      <td>248</td>\n",
       "      <td>2017</td>\n",
       "    </tr>\n",
       "    <tr>\n",
       "      <th>2</th>\n",
       "      <td>Mar</td>\n",
       "      <td>324</td>\n",
       "      <td>2017</td>\n",
       "    </tr>\n",
       "    <tr>\n",
       "      <th>3</th>\n",
       "      <td>Feb</td>\n",
       "      <td>308</td>\n",
       "      <td>2017</td>\n",
       "    </tr>\n",
       "    <tr>\n",
       "      <th>4</th>\n",
       "      <td>Jan</td>\n",
       "      <td>628</td>\n",
       "      <td>2017</td>\n",
       "    </tr>\n",
       "    <tr>\n",
       "      <th>5</th>\n",
       "      <td>Dec</td>\n",
       "      <td>664</td>\n",
       "      <td>2016</td>\n",
       "    </tr>\n",
       "    <tr>\n",
       "      <th>6</th>\n",
       "      <td>Nov</td>\n",
       "      <td>895</td>\n",
       "      <td>2016</td>\n",
       "    </tr>\n",
       "    <tr>\n",
       "      <th>7</th>\n",
       "      <td>Oct</td>\n",
       "      <td>858</td>\n",
       "      <td>2016</td>\n",
       "    </tr>\n",
       "    <tr>\n",
       "      <th>8</th>\n",
       "      <td>Sep</td>\n",
       "      <td>677</td>\n",
       "      <td>2016</td>\n",
       "    </tr>\n",
       "    <tr>\n",
       "      <th>9</th>\n",
       "      <td>Aug</td>\n",
       "      <td>404</td>\n",
       "      <td>2016</td>\n",
       "    </tr>\n",
       "    <tr>\n",
       "      <th>10</th>\n",
       "      <td>Jul</td>\n",
       "      <td>324</td>\n",
       "      <td>2016</td>\n",
       "    </tr>\n",
       "    <tr>\n",
       "      <th>11</th>\n",
       "      <td>May</td>\n",
       "      <td>189</td>\n",
       "      <td>2016</td>\n",
       "    </tr>\n",
       "    <tr>\n",
       "      <th>12</th>\n",
       "      <td>Jun</td>\n",
       "      <td>257</td>\n",
       "      <td>2016</td>\n",
       "    </tr>\n",
       "    <tr>\n",
       "      <th>13</th>\n",
       "      <td>Apr</td>\n",
       "      <td>322</td>\n",
       "      <td>2016</td>\n",
       "    </tr>\n",
       "    <tr>\n",
       "      <th>14</th>\n",
       "      <td>Feb</td>\n",
       "      <td>392</td>\n",
       "      <td>2016</td>\n",
       "    </tr>\n",
       "    <tr>\n",
       "      <th>15</th>\n",
       "      <td>Mar</td>\n",
       "      <td>273</td>\n",
       "      <td>2016</td>\n",
       "    </tr>\n",
       "    <tr>\n",
       "      <th>16</th>\n",
       "      <td>Jan</td>\n",
       "      <td>613</td>\n",
       "      <td>2016</td>\n",
       "    </tr>\n",
       "    <tr>\n",
       "      <th>17</th>\n",
       "      <td>Dec</td>\n",
       "      <td>610</td>\n",
       "      <td>2015</td>\n",
       "    </tr>\n",
       "    <tr>\n",
       "      <th>18</th>\n",
       "      <td>Oct</td>\n",
       "      <td>680</td>\n",
       "      <td>2015</td>\n",
       "    </tr>\n",
       "    <tr>\n",
       "      <th>19</th>\n",
       "      <td>Nov</td>\n",
       "      <td>711</td>\n",
       "      <td>2015</td>\n",
       "    </tr>\n",
       "  </tbody>\n",
       "</table>\n",
       "</div>"
      ],
      "text/plain": [
       "   Month  Sales  Year\n",
       "0    May    272  2017\n",
       "1    Apr    248  2017\n",
       "2    Mar    324  2017\n",
       "3    Feb    308  2017\n",
       "4    Jan    628  2017\n",
       "5    Dec    664  2016\n",
       "6    Nov    895  2016\n",
       "7    Oct    858  2016\n",
       "8    Sep    677  2016\n",
       "9    Aug    404  2016\n",
       "10   Jul    324  2016\n",
       "11   May    189  2016\n",
       "12   Jun    257  2016\n",
       "13   Apr    322  2016\n",
       "14   Feb    392  2016\n",
       "15   Mar    273  2016\n",
       "16   Jan    613  2016\n",
       "17   Dec    610  2015\n",
       "18   Oct    680  2015\n",
       "19   Nov    711  2015"
      ]
     },
     "execution_count": 21,
     "metadata": {},
     "output_type": "execute_result"
    }
   ],
   "source": [
    "data_df"
   ]
  },
  {
   "cell_type": "code",
   "execution_count": null,
   "metadata": {},
   "outputs": [],
   "source": []
  },
  {
   "cell_type": "code",
   "execution_count": 22,
   "metadata": {},
   "outputs": [
    {
     "name": "stdout",
     "output_type": "stream",
     "text": [
      "fuck you how about that **** \n"
     ]
    }
   ],
   "source": [
    "print(\"fuck you how about that **** \")"
   ]
  },
  {
   "cell_type": "code",
   "execution_count": 18,
   "metadata": {},
   "outputs": [],
   "source": [
    "# preparing the models\n",
    "from sklearn.tree import ExtraTreeRegressor\n",
    "from sklearn.linear_model import LinearRegression\n",
    "from sklearn.ensemble import BaggingRegressor\n",
    "from sklearn.tree import DecisionTreeRegressor\n",
    "from sklearn.metrics import mean_squared_error\n",
    "\n",
    "et = ExtraTreeRegressor()\n",
    "lr = LinearRegression()\n",
    "bg = BaggingRegressor()\n",
    "\n",
    "from sklearn.metrics import mean_squared_error"
   ]
  },
  {
   "cell_type": "code",
   "execution_count": 52,
   "metadata": {},
   "outputs": [],
   "source": [
    "#"
   ]
  },
  {
   "cell_type": "code",
   "execution_count": 29,
   "metadata": {
    "scrolled": true
   },
   "outputs": [
    {
     "name": "stdout",
     "output_type": "stream",
     "text": [
      "Data has been read properly\n",
      "Let's enter to the demand forecasting\n",
      "Month\n",
      "Sales\n",
      "Year\n",
      "sher\n",
      "paki\n",
      "What column do you want to forecast, *That colum would be the out put\n",
      "NoneSales\n",
      "This is the target column\n",
      "These would be yours input fieds\n",
      "\n",
      "Month\n",
      "Year\n",
      "sher\n",
      "paki\n",
      "\n",
      "\n",
      "**[one] [two] [three]**\n",
      "when not interested in a column say Date use this **[Year] [Month] [0]\n",
      "select the columns that represent Year,Month ,Date, you can only select Year or Month or Date it all depends on what timeline you prefer \n",
      "\n",
      "None [Year] [0] [0]\n",
      " [Year] [0] [0]\n",
      "['[Year]', '[0]', '[0]']\n",
      "Sales\n"
     ]
    },
    {
     "name": "stderr",
     "output_type": "stream",
     "text": [
      "C:\\Users\\Mnaas\\Anaconda3\\lib\\site-packages\\ipykernel_launcher.py:45: SettingWithCopyWarning: \n",
      "A value is trying to be set on a copy of a slice from a DataFrame.\n",
      "Try using .loc[row_indexer,col_indexer] = value instead\n",
      "\n",
      "See the caveats in the documentation: http://pandas.pydata.org/pandas-docs/stable/indexing.html#indexing-view-versus-copy\n",
      "C:\\Users\\Mnaas\\Anaconda3\\lib\\site-packages\\ipykernel_launcher.py:49: SettingWithCopyWarning: \n",
      "A value is trying to be set on a copy of a slice from a DataFrame\n",
      "\n",
      "See the caveats in the documentation: http://pandas.pydata.org/pandas-docs/stable/indexing.html#indexing-view-versus-copy\n"
     ]
    },
    {
     "name": "stdout",
     "output_type": "stream",
     "text": [
      "    Year  Sales\n",
      "0   2017    272\n",
      "1   2017    248\n",
      "2   2017    324\n",
      "3   2017    308\n",
      "4   2017    628\n",
      "5   2016    664\n",
      "6   2016    895\n",
      "7   2016    858\n",
      "8   2016    677\n",
      "9   2016    404\n",
      "10  2016    324\n",
      "11  2016    189\n",
      "12  2016    257\n",
      "13  2016    322\n",
      "14  2016    392\n",
      "15  2016    273\n",
      "16  2016    613\n",
      "17  2015    610\n",
      "18  2015    680\n",
      "19  2015    711\n"
     ]
    }
   ],
   "source": [
    "vals =read_the_data(data_df)"
   ]
  },
  {
   "cell_type": "code",
   "execution_count": 30,
   "metadata": {
    "scrolled": true
   },
   "outputs": [
    {
     "data": {
      "text/plain": [
       "(array([489., 489., 667., 667., 667.]),\n",
       " {'model_name': ['Decision Trees',\n",
       "   'Linear regression',\n",
       "   'Bagging regression',\n",
       "   'Extra tree regression'],\n",
       "  'model_rmse_error': [116.09134334652175,\n",
       "   118.34420512882116,\n",
       "   114.33307487283787,\n",
       "   116.09134334652175],\n",
       "  'model_time_taken': [0.006143200000003901,\n",
       "   0.004688900000004992,\n",
       "   0.004842299999999966,\n",
       "   0.05860919999999936],\n",
       "  'prediction_time_taken': [0.0019374999999968168,\n",
       "   0.001987300000003245,\n",
       "   0.004408500000003812,\n",
       "   0.0016406999999958316]},\n",
       " {'missed_data': [Index(['sher', 'paki'], dtype='object')],\n",
       "  'missed_data_percentage': [array([1., 1.])]})"
      ]
     },
     "execution_count": 30,
     "metadata": {},
     "output_type": "execute_result"
    }
   ],
   "source": [
    "vals"
   ]
  },
  {
   "cell_type": "code",
   "execution_count": 19,
   "metadata": {},
   "outputs": [],
   "source": [
    "data_df[\"sher\"]=np.nan\n",
    "data_df[\"paki\"]=np.nan"
   ]
  },
  {
   "cell_type": "code",
   "execution_count": 20,
   "metadata": {},
   "outputs": [
    {
     "data": {
      "text/plain": [
       "Month     object\n",
       "Sales      int64\n",
       "Year       int64\n",
       "sher     float64\n",
       "paki     float64\n",
       "dtype: object"
      ]
     },
     "execution_count": 20,
     "metadata": {},
     "output_type": "execute_result"
    }
   ],
   "source": [
    "data_df.dtypes"
   ]
  },
  {
   "cell_type": "code",
   "execution_count": 26,
   "metadata": {},
   "outputs": [],
   "source": [
    "#print(*vals[0],sep=\"\\n\")"
   ]
  },
  {
   "cell_type": "code",
   "execution_count": 22,
   "metadata": {},
   "outputs": [],
   "source": [
    "def functionality_address(data_df):\n",
    "    global vals \n",
    "    vals =read_the_data(data_df)\n",
    "    print(\"\\n\\n *****\")\n",
    "    print(\"predicted values are\\n\")\n",
    "    print(*vals[0],sep=\"\\n\")\n",
    "    print(vals[0])\n",
    "    fig =plt.figure(figsize=(30,30))\n",
    "    fig.tight_layout()\n",
    "    f, axes = plt.subplots(3, 1)\n",
    "    f.tight_layout()\n",
    "    sns.boxplot(vals[1][\"model_name\"],vals[1][\"model_rmse_error\"],ax=axes[0],width=0.5,linewidth=5,fliersize=10).set_title(\"Model Rmse Error\")\n",
    "    sns.boxplot(vals[1][\"model_name\"],vals[1][\"model_time_taken\"],ax=axes[1],width=0.5,linewidth=5,fliersize=3).set_title(\"Model Time Taken\")\n",
    "    sns.boxplot(vals[1][\"model_name\"],vals[1][\"prediction_time_taken\"],ax=axes[2],width=0.5,linewidth=5,color=\"red\").set_title(\"Prediction Time Taken\")\n",
    "    plt.figure(figsize=(10,10))\n",
    "    sns.boxplot(vals[2][\"missed_data\"][0],vals[2][\"missed_data_percentage\"][0],width=0.5,linewidth=5,color=\"red\").set_title(\"missed data\")  \n",
    "    \n",
    "    "
   ]
  },
  {
   "cell_type": "code",
   "execution_count": 23,
   "metadata": {},
   "outputs": [],
   "source": [
    "#"
   ]
  },
  {
   "cell_type": "code",
   "execution_count": 24,
   "metadata": {
    "scrolled": false
   },
   "outputs": [
    {
     "name": "stdout",
     "output_type": "stream",
     "text": [
      "Data has been read properly\n",
      "Let's enter to the demand forecasting\n",
      "Month\n",
      "Sales\n",
      "Year\n",
      "sher\n",
      "paki\n",
      "What column do you want to forecast, *That colum would be the out put\n",
      "NoneSales\n",
      "This is the target column\n",
      "These would be yours input fieds\n",
      "\n",
      "Month\n",
      "Year\n",
      "sher\n",
      "paki\n",
      "\n",
      "\n",
      "**[one] [two] [three]**\n",
      "when not interested in a column say Date use this **[Year] [Month] [0]\n",
      "select the columns that represent Year,Month ,Date, you can only select Year or Month or Date it all depends on what timeline you prefer \n",
      "\n",
      "None [Year] [Month] [0]\n",
      " [Year] [Month] [0]\n",
      "['[Year]', '[Month]', '[0]']\n",
      "Sales\n"
     ]
    },
    {
     "name": "stderr",
     "output_type": "stream",
     "text": [
      "C:\\Users\\Mnaas\\Anaconda3\\lib\\site-packages\\ipykernel_launcher.py:37: SettingWithCopyWarning: \n",
      "A value is trying to be set on a copy of a slice from a DataFrame.\n",
      "Try using .loc[row_indexer,col_indexer] = value instead\n",
      "\n",
      "See the caveats in the documentation: http://pandas.pydata.org/pandas-docs/stable/indexing.html#indexing-view-versus-copy\n",
      "C:\\Users\\Mnaas\\Anaconda3\\lib\\site-packages\\ipykernel_launcher.py:45: SettingWithCopyWarning: \n",
      "A value is trying to be set on a copy of a slice from a DataFrame.\n",
      "Try using .loc[row_indexer,col_indexer] = value instead\n",
      "\n",
      "See the caveats in the documentation: http://pandas.pydata.org/pandas-docs/stable/indexing.html#indexing-view-versus-copy\n",
      "C:\\Users\\Mnaas\\Anaconda3\\lib\\site-packages\\ipykernel_launcher.py:49: SettingWithCopyWarning: \n",
      "A value is trying to be set on a copy of a slice from a DataFrame\n",
      "\n",
      "See the caveats in the documentation: http://pandas.pydata.org/pandas-docs/stable/indexing.html#indexing-view-versus-copy\n"
     ]
    },
    {
     "name": "stdout",
     "output_type": "stream",
     "text": [
      "    Year  Sales  Month_Apr  Month_Aug  Month_Dec  Month_Feb  Month_Jan  \\\n",
      "0   2017    272          0          0          0          0          0   \n",
      "1   2017    248          1          0          0          0          0   \n",
      "2   2017    324          0          0          0          0          0   \n",
      "3   2017    308          0          0          0          1          0   \n",
      "4   2017    628          0          0          0          0          1   \n",
      "5   2016    664          0          0          1          0          0   \n",
      "6   2016    895          0          0          0          0          0   \n",
      "7   2016    858          0          0          0          0          0   \n",
      "8   2016    677          0          0          0          0          0   \n",
      "9   2016    404          0          1          0          0          0   \n",
      "10  2016    324          0          0          0          0          0   \n",
      "11  2016    189          0          0          0          0          0   \n",
      "12  2016    257          0          0          0          0          0   \n",
      "13  2016    322          1          0          0          0          0   \n",
      "14  2016    392          0          0          0          1          0   \n",
      "15  2016    273          0          0          0          0          0   \n",
      "16  2016    613          0          0          0          0          1   \n",
      "17  2015    610          0          0          1          0          0   \n",
      "18  2015    680          0          0          0          0          0   \n",
      "19  2015    711          0          0          0          0          0   \n",
      "\n",
      "    Month_Jul  Month_Jun  Month_Mar  Month_May  Month_Nov  Month_Oct  \\\n",
      "0           0          0          0          1          0          0   \n",
      "1           0          0          0          0          0          0   \n",
      "2           0          0          1          0          0          0   \n",
      "3           0          0          0          0          0          0   \n",
      "4           0          0          0          0          0          0   \n",
      "5           0          0          0          0          0          0   \n",
      "6           0          0          0          0          1          0   \n",
      "7           0          0          0          0          0          1   \n",
      "8           0          0          0          0          0          0   \n",
      "9           0          0          0          0          0          0   \n",
      "10          1          0          0          0          0          0   \n",
      "11          0          0          0          1          0          0   \n",
      "12          0          1          0          0          0          0   \n",
      "13          0          0          0          0          0          0   \n",
      "14          0          0          0          0          0          0   \n",
      "15          0          0          1          0          0          0   \n",
      "16          0          0          0          0          0          0   \n",
      "17          0          0          0          0          0          0   \n",
      "18          0          0          0          0          0          1   \n",
      "19          0          0          0          0          1          0   \n",
      "\n",
      "    Month_Sep  \n",
      "0           0  \n",
      "1           0  \n",
      "2           0  \n",
      "3           0  \n",
      "4           0  \n",
      "5           0  \n",
      "6           0  \n",
      "7           0  \n",
      "8           1  \n",
      "9           0  \n",
      "10          0  \n",
      "11          0  \n",
      "12          0  \n",
      "13          0  \n",
      "14          0  \n",
      "15          0  \n",
      "16          0  \n",
      "17          0  \n",
      "18          0  \n",
      "19          0  \n",
      "\n",
      "\n",
      " *****\n",
      "predicted values are\n",
      "\n",
      "273.0\n",
      "613.0\n",
      "610.0\n",
      "680.0\n",
      "711.0\n",
      "[273. 613. 610. 680. 711.]\n"
     ]
    },
    {
     "data": {
      "text/plain": [
       "<Figure size 2160x2160 with 0 Axes>"
      ]
     },
     "metadata": {},
     "output_type": "display_data"
    },
    {
     "data": {
      "image/png": "[encoded data removed]",
      "text/plain": [
       "<Figure size 432x288 with 3 Axes>"
      ]
     },
     "metadata": {},
     "output_type": "display_data"
    },
    {
     "data": {
      "image/png": "[encoded data removed]",
      "text/plain": [
       "<Figure size 720x720 with 1 Axes>"
      ]
     },
     "metadata": {},
     "output_type": "display_data"
    }
   ],
   "source": [
    "functionality_address(data_df)"
   ]
  },
  {
   "cell_type": "code",
   "execution_count": 51,
   "metadata": {},
   "outputs": [
    {
     "data": {
      "text/plain": [
       "'sher'"
      ]
     },
     "execution_count": 51,
     "metadata": {},
     "output_type": "execute_result"
    }
   ],
   "source": [
    "vals[2][\"missed_data\"][0][0]"
   ]
  },
  {
   "cell_type": "markdown",
   "metadata": {},
   "source": []
  },
  {
   "cell_type": "markdown",
   "metadata": {},
   "source": [
    "3"
   ]
  },
  {
   "cell_type": "markdown",
   "metadata": {},
   "source": [
    "### data_prep(data_df.copy(),missed_data = vals[2][\"missed_data\"][0])"
   ]
  },
  {
   "cell_type": "code",
   "execution_count": 37,
   "metadata": {},
   "outputs": [
    {
     "name": "stdout",
     "output_type": "stream",
     "text": [
      "Month     object\n",
      "Sales      int64\n",
      "Year       int64\n",
      "sher     float64\n",
      "paki     float64\n",
      "dtype: object\n",
      "   Month  Sales  Year  sher  paki\n",
      "0    May    272  2017   NaN   NaN\n",
      "1    Apr    248  2017   NaN   NaN\n",
      "2    Mar    324  2017   NaN   NaN\n",
      "3    Feb    308  2017   NaN   NaN\n",
      "4    Jan    628  2017   NaN   NaN\n",
      "5    Dec    664  2016   NaN   NaN\n",
      "6    Nov    895  2016   NaN   NaN\n",
      "7    Oct    858  2016   NaN   NaN\n",
      "8    Sep    677  2016   NaN   NaN\n",
      "9    Aug    404  2016   NaN   NaN\n",
      "10   Jul    324  2016   NaN   NaN\n",
      "11   May    189  2016   NaN   NaN\n",
      "12   Jun    257  2016   NaN   NaN\n",
      "13   Apr    322  2016   NaN   NaN\n",
      "14   Feb    392  2016   NaN   NaN\n",
      "15   Mar    273  2016   NaN   NaN\n",
      "16   Jan    613  2016   NaN   NaN\n",
      "17   Dec    610  2015   NaN   NaN\n",
      "18   Oct    680  2015   NaN   NaN\n",
      "19   Nov    711  2015   NaN   NaN\n",
      "Index(['sher', 'paki'], dtype='object')\n",
      "which quantity is most, required columns or elimination columns E or RE\n",
      "['Month', 'Sales', 'Year', 'sher', 'paki']\n",
      "enter Elimation elements []  [paki]\n",
      "       missing_vals\n",
      "Month             0\n",
      "Sales             0\n",
      "Year              0\n",
      "sher             20\n",
      "paki             20\n",
      "\n",
      " *********************** \n",
      "\n",
      "Anything greater than 20% percent should be dropped :- Advice\n",
      "Is there anything you still wanna drop off!!!!\n",
      "\n",
      "which quantity do you feel like dropping.... Yes or NONO\n",
      "\n",
      "\n",
      "\n",
      " \t\t Lets continue then \n",
      "\n",
      "       missing_vals\n",
      "Month           0.0\n",
      "Sales           0.0\n",
      "Year            0.0\n",
      "sher            0.2\n",
      "/n\n",
      "enter the column and the imputation value you wanna give to it\n",
      "enter the column elements first [] [sher]\n",
      "enter the values [] [55]\n",
      "['[55]']\n",
      "\n",
      " ************sjbfjbf*** \n",
      "\n",
      "sher\n",
      "55 <class 'int'>\n",
      "0    NaN\n",
      "1    NaN\n",
      "2    NaN\n",
      "3    NaN\n",
      "4    NaN\n",
      "5    NaN\n",
      "6    NaN\n",
      "7    NaN\n",
      "8    NaN\n",
      "9    NaN\n",
      "10   NaN\n",
      "11   NaN\n",
      "12   NaN\n",
      "13   NaN\n",
      "14   NaN\n",
      "15   NaN\n",
      "16   NaN\n",
      "17   NaN\n",
      "18   NaN\n",
      "19   NaN\n",
      "Name: sher, dtype: float64\n",
      "   Month  Sales  Year  sher\n",
      "0    May    272  2017  55.0\n",
      "1    Apr    248  2017  55.0\n",
      "2    Mar    324  2017  55.0\n",
      "3    Feb    308  2017  55.0\n",
      "4    Jan    628  2017  55.0\n",
      "5    Dec    664  2016  55.0\n",
      "6    Nov    895  2016  55.0\n",
      "7    Oct    858  2016  55.0\n",
      "8    Sep    677  2016  55.0\n",
      "9    Aug    404  2016  55.0\n",
      "10   Jul    324  2016  55.0\n",
      "11   May    189  2016  55.0\n",
      "12   Jun    257  2016  55.0\n",
      "13   Apr    322  2016  55.0\n",
      "14   Feb    392  2016  55.0\n",
      "15   Mar    273  2016  55.0\n",
      "16   Jan    613  2016  55.0\n",
      "17   Dec    610  2015  55.0\n",
      "18   Oct    680  2015  55.0\n",
      "19   Nov    711  2015  55.0\n",
      "For making any transformations you need to select 1.standardization 2.normalization 3.nothing3\n",
      "lets keep moving forward\n"
     ]
    },
    {
     "data": {
      "text/html": [
       "<div>\n",
       "<style scoped>\n",
       "    .dataframe tbody tr th:only-of-type {\n",
       "        vertical-align: middle;\n",
       "    }\n",
       "\n",
       "    .dataframe tbody tr th {\n",
       "        vertical-align: top;\n",
       "    }\n",
       "\n",
       "    .dataframe thead th {\n",
       "        text-align: right;\n",
       "    }\n",
       "</style>\n",
       "<table border=\"1\" class=\"dataframe\">\n",
       "  <thead>\n",
       "    <tr style=\"text-align: right;\">\n",
       "      <th></th>\n",
       "      <th>Month</th>\n",
       "      <th>Sales</th>\n",
       "      <th>Year</th>\n",
       "      <th>sher</th>\n",
       "    </tr>\n",
       "  </thead>\n",
       "  <tbody>\n",
       "    <tr>\n",
       "      <th>0</th>\n",
       "      <td>May</td>\n",
       "      <td>272</td>\n",
       "      <td>2017</td>\n",
       "      <td>55.0</td>\n",
       "    </tr>\n",
       "    <tr>\n",
       "      <th>1</th>\n",
       "      <td>Apr</td>\n",
       "      <td>248</td>\n",
       "      <td>2017</td>\n",
       "      <td>55.0</td>\n",
       "    </tr>\n",
       "    <tr>\n",
       "      <th>2</th>\n",
       "      <td>Mar</td>\n",
       "      <td>324</td>\n",
       "      <td>2017</td>\n",
       "      <td>55.0</td>\n",
       "    </tr>\n",
       "    <tr>\n",
       "      <th>3</th>\n",
       "      <td>Feb</td>\n",
       "      <td>308</td>\n",
       "      <td>2017</td>\n",
       "      <td>55.0</td>\n",
       "    </tr>\n",
       "    <tr>\n",
       "      <th>4</th>\n",
       "      <td>Jan</td>\n",
       "      <td>628</td>\n",
       "      <td>2017</td>\n",
       "      <td>55.0</td>\n",
       "    </tr>\n",
       "    <tr>\n",
       "      <th>5</th>\n",
       "      <td>Dec</td>\n",
       "      <td>664</td>\n",
       "      <td>2016</td>\n",
       "      <td>55.0</td>\n",
       "    </tr>\n",
       "    <tr>\n",
       "      <th>6</th>\n",
       "      <td>Nov</td>\n",
       "      <td>895</td>\n",
       "      <td>2016</td>\n",
       "      <td>55.0</td>\n",
       "    </tr>\n",
       "    <tr>\n",
       "      <th>7</th>\n",
       "      <td>Oct</td>\n",
       "      <td>858</td>\n",
       "      <td>2016</td>\n",
       "      <td>55.0</td>\n",
       "    </tr>\n",
       "    <tr>\n",
       "      <th>8</th>\n",
       "      <td>Sep</td>\n",
       "      <td>677</td>\n",
       "      <td>2016</td>\n",
       "      <td>55.0</td>\n",
       "    </tr>\n",
       "    <tr>\n",
       "      <th>9</th>\n",
       "      <td>Aug</td>\n",
       "      <td>404</td>\n",
       "      <td>2016</td>\n",
       "      <td>55.0</td>\n",
       "    </tr>\n",
       "    <tr>\n",
       "      <th>10</th>\n",
       "      <td>Jul</td>\n",
       "      <td>324</td>\n",
       "      <td>2016</td>\n",
       "      <td>55.0</td>\n",
       "    </tr>\n",
       "    <tr>\n",
       "      <th>11</th>\n",
       "      <td>May</td>\n",
       "      <td>189</td>\n",
       "      <td>2016</td>\n",
       "      <td>55.0</td>\n",
       "    </tr>\n",
       "    <tr>\n",
       "      <th>12</th>\n",
       "      <td>Jun</td>\n",
       "      <td>257</td>\n",
       "      <td>2016</td>\n",
       "      <td>55.0</td>\n",
       "    </tr>\n",
       "    <tr>\n",
       "      <th>13</th>\n",
       "      <td>Apr</td>\n",
       "      <td>322</td>\n",
       "      <td>2016</td>\n",
       "      <td>55.0</td>\n",
       "    </tr>\n",
       "    <tr>\n",
       "      <th>14</th>\n",
       "      <td>Feb</td>\n",
       "      <td>392</td>\n",
       "      <td>2016</td>\n",
       "      <td>55.0</td>\n",
       "    </tr>\n",
       "    <tr>\n",
       "      <th>15</th>\n",
       "      <td>Mar</td>\n",
       "      <td>273</td>\n",
       "      <td>2016</td>\n",
       "      <td>55.0</td>\n",
       "    </tr>\n",
       "    <tr>\n",
       "      <th>16</th>\n",
       "      <td>Jan</td>\n",
       "      <td>613</td>\n",
       "      <td>2016</td>\n",
       "      <td>55.0</td>\n",
       "    </tr>\n",
       "    <tr>\n",
       "      <th>17</th>\n",
       "      <td>Dec</td>\n",
       "      <td>610</td>\n",
       "      <td>2015</td>\n",
       "      <td>55.0</td>\n",
       "    </tr>\n",
       "    <tr>\n",
       "      <th>18</th>\n",
       "      <td>Oct</td>\n",
       "      <td>680</td>\n",
       "      <td>2015</td>\n",
       "      <td>55.0</td>\n",
       "    </tr>\n",
       "    <tr>\n",
       "      <th>19</th>\n",
       "      <td>Nov</td>\n",
       "      <td>711</td>\n",
       "      <td>2015</td>\n",
       "      <td>55.0</td>\n",
       "    </tr>\n",
       "  </tbody>\n",
       "</table>\n",
       "</div>"
      ],
      "text/plain": [
       "   Month  Sales  Year  sher\n",
       "0    May    272  2017  55.0\n",
       "1    Apr    248  2017  55.0\n",
       "2    Mar    324  2017  55.0\n",
       "3    Feb    308  2017  55.0\n",
       "4    Jan    628  2017  55.0\n",
       "5    Dec    664  2016  55.0\n",
       "6    Nov    895  2016  55.0\n",
       "7    Oct    858  2016  55.0\n",
       "8    Sep    677  2016  55.0\n",
       "9    Aug    404  2016  55.0\n",
       "10   Jul    324  2016  55.0\n",
       "11   May    189  2016  55.0\n",
       "12   Jun    257  2016  55.0\n",
       "13   Apr    322  2016  55.0\n",
       "14   Feb    392  2016  55.0\n",
       "15   Mar    273  2016  55.0\n",
       "16   Jan    613  2016  55.0\n",
       "17   Dec    610  2015  55.0\n",
       "18   Oct    680  2015  55.0\n",
       "19   Nov    711  2015  55.0"
      ]
     },
     "execution_count": 37,
     "metadata": {},
     "output_type": "execute_result"
    }
   ],
   "source": [
    "data_prep(data_df.copy(),missed_data = vals[2][\"missed_data\"][0])"
   ]
  },
  {
   "cell_type": "code",
   "execution_count": 31,
   "metadata": {},
   "outputs": [],
   "source": [
    "#data_df"
   ]
  },
  {
   "cell_type": "code",
   "execution_count": 33,
   "metadata": {},
   "outputs": [
    {
     "name": "stdout",
     "output_type": "stream",
     "text": [
      "   Month  Sales  Year  sher  paki\n",
      "0    May    272  2017   0.0   NaN\n",
      "1    Apr    248  2017   0.0   NaN\n",
      "2    Mar    324  2017   0.0   NaN\n",
      "3    Feb    308  2017   0.0   NaN\n",
      "4    Jan    628  2017   0.0   NaN\n",
      "5    Dec    664  2016   0.0   NaN\n",
      "6    Nov    895  2016   0.0   NaN\n",
      "7    Oct    858  2016   0.0   NaN\n",
      "8    Sep    677  2016   0.0   NaN\n",
      "9    Aug    404  2016   0.0   NaN\n",
      "10   Jul    324  2016   0.0   NaN\n",
      "11   May    189  2016   0.0   NaN\n",
      "12   Jun    257  2016   0.0   NaN\n",
      "13   Apr    322  2016   0.0   NaN\n",
      "14   Feb    392  2016   0.0   NaN\n",
      "15   Mar    273  2016   0.0   NaN\n",
      "16   Jan    613  2016   0.0   NaN\n",
      "17   Dec    610  2015   0.0   NaN\n",
      "18   Oct    680  2015   0.0   NaN\n",
      "19   Nov    711  2015   0.0   NaN\n"
     ]
    }
   ],
   "source": [
    "def data_prep1(ddd,md):\n",
    "    ddd[\"sher\"].fillna(0,inplace=True)\n",
    "    print(ddd)\n",
    "data_prep1(data_df.copy(),vals[2][\"missed_data\"][0])"
   ]
  },
  {
   "cell_type": "code",
   "execution_count": 36,
   "metadata": {},
   "outputs": [],
   "source": [
    "from sklearn.preprocessing import StandardScaler\n",
    "from sklearn.preprocessing import MinMaxScaler\n",
    "def data_prep(data_phase_two, missed_data):\n",
    "    data_phase_tw=data_phase_two.copy()\n",
    "    print(data_phase_tw.dtypes)\n",
    "    print(data_phase_tw)\n",
    "    #global data_phase_two\n",
    "    global needed_data \n",
    "    global unneeded_data\n",
    "    global find_columns\n",
    "    needed_data=[]\n",
    "    unneeded_data=[]\n",
    "    print(missed_data)\n",
    "    choice_one = input(\"which quantity is most, required columns or elimination columns E or R\")\n",
    "    print([*data_phase_tw.columns])\n",
    "    if(choice_one == \"R\"):\n",
    "        req_one = input(\"enter REQ elements []\")\n",
    "        find_columns = re.findall(r'(?<=\\W)[[]\\S*', req_one)\n",
    "        find_columns_up =[]\n",
    "        for i in find_columns:\n",
    "            find_columns_up.append(i[1:-1])\n",
    "        data_phase_tw =data_phase_tw[find_columns_up]\n",
    "    else:\n",
    "        req_one = input(\"enter Elimation elements [] \")\n",
    "        find_columns = re.findall(r'(?<=\\W)[[]\\S*', req_one)\n",
    "        find_columns_up =[]\n",
    "        for i in find_columns:\n",
    "            find_columns_up.append(i[1:-1])\n",
    "        data_phase_tw =data_phase_tw.drop(find_columns_up,axis=1)\n",
    "    #checking for the null values... in the system\n",
    "    \n",
    "    print(pd.DataFrame(data_phase_two.isnull().sum(),columns=[\"missing_vals\"]))\n",
    "    #\n",
    "    print(\"\\n *********************** \\n\")\n",
    "    \n",
    "    print(\"Anything greater than 20% percent should be dropped :- Advice\")\n",
    "    #imputation\n",
    "    \n",
    "    print(\"Is there anything you still wanna drop off!!!!\\n\")\n",
    "    choice_two = input(\"which quantity do you feel like dropping.... Yes or NO\")\n",
    "    print(\"\\n\")\n",
    "    if (choice_two == \"yes\"):\n",
    "        req_two = input(\"enter REQ elements []\")\n",
    "        find_columns = re.findall(r'(?<=\\W)[[]\\S*', req_two)\n",
    "        find_columns_up =[]\n",
    "        for i in find_columns:\n",
    "            find_columns_up.append(i[1:-1])\n",
    "        data_phase_tw =data_phase_tw.drop(find_columns_up,axis=1)\n",
    "    else:\n",
    "        print(\"\\n \\t\\t Lets continue then \\n\")\n",
    "    \n",
    "        \n",
    "    print(pd.DataFrame(data_phase_tw.isnull().sum()/100,columns=[\"missing_vals\"]))\n",
    "    print(\"/n\")\n",
    "    print(\"enter the column and the imputation value you wanna give to it\")\n",
    "    \n",
    "    req_three = input(\"enter the column elements first []\")\n",
    "    req_four = input(\"enter the values []\")\n",
    "    impute_columns = re.findall(r'(?<=\\W)[[]\\S*', req_three)\n",
    "    impute_columns_up =[]\n",
    "    for i in impute_columns:\n",
    "        impute_columns_up.append(i[1:-1])\n",
    "    \n",
    "    impute_columns_values = re.findall(r'(?<=\\W)[[]\\S*', req_four)\n",
    "    impute_columns_values_up =[]\n",
    "    print(impute_columns_values)\n",
    "    for i in impute_columns_values:\n",
    "        impute_columns_values_up.append(int(i[1:-1]))\n",
    "    \n",
    "    for val in range(0,len(impute_columns_up)):\n",
    "        print(\"\\n ************sjbfjbf*** \\n\")\n",
    "        print(impute_columns_up[val])\n",
    "        print(impute_columns_values_up[val],type(impute_columns_values_up[val]))\n",
    "        print(data_phase_tw[impute_columns_up[val]])\n",
    "        data_phase_tw[impute_columns_up[val]].fillna(impute_columns_values_up[val],inplace=True)\n",
    "        #print(dss)\n",
    "        #impute_columns_values_up[val]\n",
    "        #data_phase_two[impute_columns_up[val]] = dss[impute_columns_up[val]]\n",
    "        #data_phase_two=0\n",
    "        print(data_phase_tw)\n",
    "        \n",
    "    #standardising or noramlizing \n",
    "    choice_three = int(input(\"For making any transformations you need to select 1.standardization 2.normalization 3.nothing\"))\n",
    "    if(choice_three == 1):\n",
    "        scaler = StandardScaler() \n",
    "        data_phase_two_scaled = scaler.fit_transform(data_phase_tw)\n",
    "    elif (choice_three == 2):\n",
    "        scaler = MinMaxScaler() \n",
    "        data_phase_two_scaled = scaler.fit_transform(data_phase_tw)\n",
    "    else:\n",
    "        print(\"lets keep moving forward\")\n",
    "    data_phase_tw.to_csv(\"data.csv\")\n",
    "    \n",
    "    return(data_phase_tw)\n",
    "    \n",
    "        \n",
    "\n",
    "        \n",
    "    \n",
    "    \n",
    "    \n",
    "\n",
    "    "
   ]
  },
  {
   "cell_type": "code",
   "execution_count": 43,
   "metadata": {},
   "outputs": [],
   "source": [
    "#"
   ]
  },
  {
   "cell_type": "code",
   "execution_count": 33,
   "metadata": {},
   "outputs": [
    {
     "data": {
      "text/html": [
       "<div>\n",
       "<style scoped>\n",
       "    .dataframe tbody tr th:only-of-type {\n",
       "        vertical-align: middle;\n",
       "    }\n",
       "\n",
       "    .dataframe tbody tr th {\n",
       "        vertical-align: top;\n",
       "    }\n",
       "\n",
       "    .dataframe thead th {\n",
       "        text-align: right;\n",
       "    }\n",
       "</style>\n",
       "<table border=\"1\" class=\"dataframe\">\n",
       "  <thead>\n",
       "    <tr style=\"text-align: right;\">\n",
       "      <th></th>\n",
       "      <th>Month</th>\n",
       "      <th>Sales</th>\n",
       "      <th>Year</th>\n",
       "      <th>sher</th>\n",
       "      <th>paki</th>\n",
       "    </tr>\n",
       "  </thead>\n",
       "  <tbody>\n",
       "    <tr>\n",
       "      <th>0</th>\n",
       "      <td>May</td>\n",
       "      <td>272</td>\n",
       "      <td>2017</td>\n",
       "      <td>NaN</td>\n",
       "      <td>NaN</td>\n",
       "    </tr>\n",
       "    <tr>\n",
       "      <th>1</th>\n",
       "      <td>Apr</td>\n",
       "      <td>248</td>\n",
       "      <td>2017</td>\n",
       "      <td>NaN</td>\n",
       "      <td>NaN</td>\n",
       "    </tr>\n",
       "    <tr>\n",
       "      <th>2</th>\n",
       "      <td>Mar</td>\n",
       "      <td>324</td>\n",
       "      <td>2017</td>\n",
       "      <td>NaN</td>\n",
       "      <td>NaN</td>\n",
       "    </tr>\n",
       "    <tr>\n",
       "      <th>3</th>\n",
       "      <td>Feb</td>\n",
       "      <td>308</td>\n",
       "      <td>2017</td>\n",
       "      <td>NaN</td>\n",
       "      <td>NaN</td>\n",
       "    </tr>\n",
       "    <tr>\n",
       "      <th>4</th>\n",
       "      <td>Jan</td>\n",
       "      <td>628</td>\n",
       "      <td>2017</td>\n",
       "      <td>NaN</td>\n",
       "      <td>NaN</td>\n",
       "    </tr>\n",
       "    <tr>\n",
       "      <th>5</th>\n",
       "      <td>Dec</td>\n",
       "      <td>664</td>\n",
       "      <td>2016</td>\n",
       "      <td>NaN</td>\n",
       "      <td>NaN</td>\n",
       "    </tr>\n",
       "    <tr>\n",
       "      <th>6</th>\n",
       "      <td>Nov</td>\n",
       "      <td>895</td>\n",
       "      <td>2016</td>\n",
       "      <td>NaN</td>\n",
       "      <td>NaN</td>\n",
       "    </tr>\n",
       "    <tr>\n",
       "      <th>7</th>\n",
       "      <td>Oct</td>\n",
       "      <td>858</td>\n",
       "      <td>2016</td>\n",
       "      <td>NaN</td>\n",
       "      <td>NaN</td>\n",
       "    </tr>\n",
       "    <tr>\n",
       "      <th>8</th>\n",
       "      <td>Sep</td>\n",
       "      <td>677</td>\n",
       "      <td>2016</td>\n",
       "      <td>NaN</td>\n",
       "      <td>NaN</td>\n",
       "    </tr>\n",
       "    <tr>\n",
       "      <th>9</th>\n",
       "      <td>Aug</td>\n",
       "      <td>404</td>\n",
       "      <td>2016</td>\n",
       "      <td>NaN</td>\n",
       "      <td>NaN</td>\n",
       "    </tr>\n",
       "    <tr>\n",
       "      <th>10</th>\n",
       "      <td>Jul</td>\n",
       "      <td>324</td>\n",
       "      <td>2016</td>\n",
       "      <td>NaN</td>\n",
       "      <td>NaN</td>\n",
       "    </tr>\n",
       "    <tr>\n",
       "      <th>11</th>\n",
       "      <td>May</td>\n",
       "      <td>189</td>\n",
       "      <td>2016</td>\n",
       "      <td>NaN</td>\n",
       "      <td>NaN</td>\n",
       "    </tr>\n",
       "    <tr>\n",
       "      <th>12</th>\n",
       "      <td>Jun</td>\n",
       "      <td>257</td>\n",
       "      <td>2016</td>\n",
       "      <td>NaN</td>\n",
       "      <td>NaN</td>\n",
       "    </tr>\n",
       "    <tr>\n",
       "      <th>13</th>\n",
       "      <td>Apr</td>\n",
       "      <td>322</td>\n",
       "      <td>2016</td>\n",
       "      <td>NaN</td>\n",
       "      <td>NaN</td>\n",
       "    </tr>\n",
       "    <tr>\n",
       "      <th>14</th>\n",
       "      <td>Feb</td>\n",
       "      <td>392</td>\n",
       "      <td>2016</td>\n",
       "      <td>NaN</td>\n",
       "      <td>NaN</td>\n",
       "    </tr>\n",
       "    <tr>\n",
       "      <th>15</th>\n",
       "      <td>Mar</td>\n",
       "      <td>273</td>\n",
       "      <td>2016</td>\n",
       "      <td>NaN</td>\n",
       "      <td>NaN</td>\n",
       "    </tr>\n",
       "    <tr>\n",
       "      <th>16</th>\n",
       "      <td>Jan</td>\n",
       "      <td>613</td>\n",
       "      <td>2016</td>\n",
       "      <td>NaN</td>\n",
       "      <td>NaN</td>\n",
       "    </tr>\n",
       "    <tr>\n",
       "      <th>17</th>\n",
       "      <td>Dec</td>\n",
       "      <td>610</td>\n",
       "      <td>2015</td>\n",
       "      <td>NaN</td>\n",
       "      <td>NaN</td>\n",
       "    </tr>\n",
       "    <tr>\n",
       "      <th>18</th>\n",
       "      <td>Oct</td>\n",
       "      <td>680</td>\n",
       "      <td>2015</td>\n",
       "      <td>NaN</td>\n",
       "      <td>NaN</td>\n",
       "    </tr>\n",
       "    <tr>\n",
       "      <th>19</th>\n",
       "      <td>Nov</td>\n",
       "      <td>711</td>\n",
       "      <td>2015</td>\n",
       "      <td>NaN</td>\n",
       "      <td>NaN</td>\n",
       "    </tr>\n",
       "  </tbody>\n",
       "</table>\n",
       "</div>"
      ],
      "text/plain": [
       "   Month  Sales  Year  sher  paki\n",
       "0    May    272  2017   NaN   NaN\n",
       "1    Apr    248  2017   NaN   NaN\n",
       "2    Mar    324  2017   NaN   NaN\n",
       "3    Feb    308  2017   NaN   NaN\n",
       "4    Jan    628  2017   NaN   NaN\n",
       "5    Dec    664  2016   NaN   NaN\n",
       "6    Nov    895  2016   NaN   NaN\n",
       "7    Oct    858  2016   NaN   NaN\n",
       "8    Sep    677  2016   NaN   NaN\n",
       "9    Aug    404  2016   NaN   NaN\n",
       "10   Jul    324  2016   NaN   NaN\n",
       "11   May    189  2016   NaN   NaN\n",
       "12   Jun    257  2016   NaN   NaN\n",
       "13   Apr    322  2016   NaN   NaN\n",
       "14   Feb    392  2016   NaN   NaN\n",
       "15   Mar    273  2016   NaN   NaN\n",
       "16   Jan    613  2016   NaN   NaN\n",
       "17   Dec    610  2015   NaN   NaN\n",
       "18   Oct    680  2015   NaN   NaN\n",
       "19   Nov    711  2015   NaN   NaN"
      ]
     },
     "execution_count": 33,
     "metadata": {},
     "output_type": "execute_result"
    }
   ],
   "source": [
    "data_df"
   ]
  },
  {
   "cell_type": "code",
   "execution_count": 108,
   "metadata": {},
   "outputs": [],
   "source": [
    "import sys\n",
    "sys.path.append('C:\\\\Users\\\\Mnaas\\\\Desktop\\\\wfh\\\\automatic viz\\\\automl-gs-master\\\\automl_gs')\n",
    "sys.path.append('C:\\\\Users\\\\Mnaas\\\\Desktop\\\\wfh\\\\automatic viz\\\\automl-gs-master')"
   ]
  },
  {
   "cell_type": "code",
   "execution_count": 220,
   "metadata": {
    "scrolled": true
   },
   "outputs": [],
   "source": [
    "import importlib\n",
    "\n",
    "import automl_gs\n",
    "importlib.reload(automl_gs)\n",
    "from automl_gs import automl_grid_search\n",
    "import pandas as pd\n",
    "\n",
    "#.reload(automl_gs)"
   ]
  },
  {
   "cell_type": "code",
   "execution_count": 209,
   "metadata": {},
   "outputs": [
    {
     "data": {
      "text/html": [
       "<div>\n",
       "<style scoped>\n",
       "    .dataframe tbody tr th:only-of-type {\n",
       "        vertical-align: middle;\n",
       "    }\n",
       "\n",
       "    .dataframe tbody tr th {\n",
       "        vertical-align: top;\n",
       "    }\n",
       "\n",
       "    .dataframe thead th {\n",
       "        text-align: right;\n",
       "    }\n",
       "</style>\n",
       "<table border=\"1\" class=\"dataframe\">\n",
       "  <thead>\n",
       "    <tr style=\"text-align: right;\">\n",
       "      <th></th>\n",
       "      <th>0</th>\n",
       "      <th>0</th>\n",
       "    </tr>\n",
       "  </thead>\n",
       "  <tbody>\n",
       "    <tr>\n",
       "      <th>0</th>\n",
       "      <td>manas</td>\n",
       "      <td>aa</td>\n",
       "    </tr>\n",
       "    <tr>\n",
       "      <th>1</th>\n",
       "      <td>manas</td>\n",
       "      <td>1</td>\n",
       "    </tr>\n",
       "    <tr>\n",
       "      <th>2</th>\n",
       "      <td>manas</td>\n",
       "      <td>2</td>\n",
       "    </tr>\n",
       "    <tr>\n",
       "      <th>3</th>\n",
       "      <td>manas</td>\n",
       "      <td>5</td>\n",
       "    </tr>\n",
       "    <tr>\n",
       "      <th>4</th>\n",
       "      <td>manas</td>\n",
       "      <td>3</td>\n",
       "    </tr>\n",
       "  </tbody>\n",
       "</table>\n",
       "</div>"
      ],
      "text/plain": [
       "       0   0\n",
       "0  manas  aa\n",
       "1  manas   1\n",
       "2  manas   2\n",
       "3  manas   5\n",
       "4  manas   3"
      ]
     },
     "execution_count": 209,
     "metadata": {},
     "output_type": "execute_result"
    }
   ],
   "source": [
    "dgh = pd.read_csv(\"automl_train\\\\metadata\\\\results1.csv\",header=None,delim_whitespace=True,error_bad_lines=False)\n",
    "dgh.insert(0,\"0\",\"manas\")\n",
    "dgh"
   ]
  },
  {
   "cell_type": "code",
   "execution_count": 221,
   "metadata": {
    "scrolled": true
   },
   "outputs": [
    {
     "name": "stdout",
     "output_type": "stream",
     "text": [
      "\n",
      " preparing the environment\n",
      "***********************************************\n",
      "data loaded\n",
      "    Unnamed: 0 Month  Sales  Year  sher\n",
      "0            0   May    272  2017  55.0\n",
      "1            1   Apr    248  2017  55.0\n",
      "2            2   Mar    324  2017  55.0\n",
      "3            3   Feb    308  2017  55.0\n",
      "4            4   Jan    628  2017  55.0\n",
      "5            5   Dec    664  2016  55.0\n",
      "6            6   Nov    895  2016  55.0\n",
      "7            7   Oct    858  2016  55.0\n",
      "8            8   Sep    677  2016  55.0\n",
      "9            9   Aug    404  2016  55.0\n",
      "10          10   Jul    324  2016  55.0\n",
      "11          11   May    189  2016  55.0\n",
      "12          12   Jun    257  2016  55.0\n",
      "13          13   Apr    322  2016  55.0\n",
      "14          14   Feb    392  2016  55.0\n",
      "15          15   Mar    273  2016  55.0\n",
      "16          16   Jan    613  2016  55.0\n",
      "17          17   Dec    610  2015  55.0\n",
      "18          18   Oct    680  2015  55.0\n",
      "19          19   Nov    711  2015  55.0\n",
      "Solving a classification problem, maximizing accuracy using tensorflow.\n",
      "\n",
      "Modeling with field specifications:\n",
      "Unnamed: 0: numeric\n",
      "Month: categorical\n",
      "Year: categorical\n",
      "sher: numeric\n",
      "\n",
      " ******* \n",
      "\n",
      "\n",
      " hyper parameters loaded for build hp grid\n",
      "\n",
      "\n",
      " grid all set \n",
      "\n",
      "\n",
      "all the columns names are set and normalized\n",
      "\n",
      "\n",
      " metrics loaded...\n",
      "\n",
      "\n",
      " Build subprocess _cmd----\n",
      "\tcsv path joined\n",
      "C:\\Users\\Mnaas\\Desktop\\wfh\\automatic viz\\data.csv\n",
      "\n",
      "build sub process loaded...this function has been loaded propery\n",
      "\n",
      "['C:\\\\Users\\\\Mnaas\\\\Anaconda3\\\\python.EXE', 'model.py', '-d', 'C:\\\\Users\\\\Mnaas\\\\Desktop\\\\wfh\\\\automatic viz\\\\data.csv', '-m', 'train', '-c', 'automl-gs']\n"
     ]
    },
    {
     "data": {
      "application/vnd.jupyter.widget-view+json": {
       "model_id": "b02a2b143b2847f98351f7d66772bc9a",
       "version_major": 2,
       "version_minor": 0
      },
      "text/plain": [
       "HBox(children=(IntProgress(value=0), HTML(value='')))"
      ]
     },
     "metadata": {},
     "output_type": "display_data"
    },
    {
     "data": {
      "application/vnd.jupyter.widget-view+json": {
       "model_id": "760c839636d6427d8c184598d39b8d95",
       "version_major": 2,
       "version_minor": 0
      },
      "text/plain": [
       "HBox(children=(IntProgress(value=0, max=20), HTML(value='')))"
      ]
     },
     "metadata": {},
     "output_type": "display_data"
    },
    {
     "name": "stdout",
     "output_type": "stream",
     "text": [
      "pbar_sub  working properly\n",
      "\n",
      " all the fields of render model have been assigned properly\n",
      "\n",
      "/n render model functining properly/n\n",
      "/n render model functining properly/n\n",
      "/n render model functining properly/n\n",
      "model render working properly\n",
      "train_generated_model\n",
      "/n All the above functioning is working properly \n",
      "\n",
      "automl_train/metadata/results.csv\n",
      "\n",
      "assign is used to assign new columns to the dataframe\n",
      "\n",
      "columns have been assigned to dataframe\n",
      "Empty DataFrame\n",
      "Columns: [base_lr, numeric_strat, categorical_strat, weight_decay, batch_size, mlp_blocks, mlp_first_size, mlp_size, mlp_dropout, mlp_activation, mlp_regularizer, output_regularizer]\n",
      "Index: []\n",
      "\n",
      " 9c86c52d-eaec-464d-9bf9-26bc8f597478 \n",
      "\n",
      "insert working properly\n",
      "results have been sent to automl_results\n"
     ]
    },
    {
     "ename": "IndexError",
     "evalue": "list index out of range",
     "output_type": "error",
     "traceback": [
      "\u001b[1;31m---------------------------------------------------------------------------\u001b[0m",
      "\u001b[1;31mIndexError\u001b[0m                                Traceback (most recent call last)",
      "\u001b[1;32m<ipython-input-221-7b81117750fd>\u001b[0m in \u001b[0;36m<module>\u001b[1;34m()\u001b[0m\n\u001b[0;32m      1\u001b[0m \u001b[0mddf\u001b[0m \u001b[1;33m=\u001b[0m \u001b[0mpd\u001b[0m\u001b[1;33m.\u001b[0m\u001b[0mread_csv\u001b[0m\u001b[1;33m(\u001b[0m\u001b[1;34m\"data.csv\"\u001b[0m\u001b[1;33m)\u001b[0m\u001b[1;33m\u001b[0m\u001b[0m\n\u001b[0;32m      2\u001b[0m \u001b[1;33m\u001b[0m\u001b[0m\n\u001b[1;32m----> 3\u001b[1;33m \u001b[0mautoml_grid_search\u001b[0m\u001b[1;33m(\u001b[0m\u001b[1;34m'C:\\\\Users\\\\Mnaas\\\\Desktop\\\\wfh\\\\automatic viz\\\\data.csv'\u001b[0m\u001b[1;33m,\u001b[0m \u001b[1;34m'Sales'\u001b[0m\u001b[1;33m)\u001b[0m\u001b[1;33m\u001b[0m\u001b[0m\n\u001b[0m",
      "\u001b[1;32m~\\Desktop\\wfh\\automatic viz\\automl-gs-master\\automl_gs\\automl_gs.py\u001b[0m in \u001b[0;36mautoml_grid_search\u001b[1;34m(csv_path, target_field, target_metric, framework, model_name, context, num_trials, split, num_epochs, col_types, gpu, tpu_address)\u001b[0m\n\u001b[0;32m    126\u001b[0m         \u001b[0mprint\u001b[0m\u001b[1;33m(\u001b[0m\u001b[1;34m\"results have been sent to automl_results\"\u001b[0m\u001b[1;33m)\u001b[0m\u001b[1;33m\u001b[0m\u001b[0m\n\u001b[0;32m    127\u001b[0m         \u001b[1;31m#there is a problem here\u001b[0m\u001b[1;33m\u001b[0m\u001b[1;33m\u001b[0m\u001b[0m\n\u001b[1;32m--> 128\u001b[1;33m         \u001b[0mtrain_results\u001b[0m \u001b[1;33m=\u001b[0m \u001b[0mresults\u001b[0m\u001b[1;33m.\u001b[0m\u001b[0mtail\u001b[0m\u001b[1;33m(\u001b[0m\u001b[1;36m1\u001b[0m\u001b[1;33m)\u001b[0m\u001b[1;33m.\u001b[0m\u001b[0mto_dict\u001b[0m\u001b[1;33m(\u001b[0m\u001b[1;34m'records'\u001b[0m\u001b[1;33m)\u001b[0m\u001b[1;33m[\u001b[0m\u001b[1;36m0\u001b[0m\u001b[1;33m]\u001b[0m\u001b[1;33m\u001b[0m\u001b[0m\n\u001b[0m\u001b[0;32m    129\u001b[0m         \u001b[0mprint\u001b[0m\u001b[1;33m(\u001b[0m\u001b[0mtrain_results\u001b[0m\u001b[1;33m)\u001b[0m\u001b[1;33m\u001b[0m\u001b[0m\n\u001b[0;32m    130\u001b[0m         \u001b[1;31m# If the target metric improves, save the new hps/files,\u001b[0m\u001b[1;33m\u001b[0m\u001b[1;33m\u001b[0m\u001b[0m\n",
      "\u001b[1;31mIndexError\u001b[0m: list index out of range"
     ]
    }
   ],
   "source": [
    "ddf = pd.read_csv(\"data.csv\")\n",
    "\n",
    "automl_grid_search('C:\\\\Users\\\\Mnaas\\\\Desktop\\\\wfh\\\\automatic viz\\\\data.csv', 'Sales')"
   ]
  },
  {
   "cell_type": "code",
   "execution_count": 216,
   "metadata": {},
   "outputs": [],
   "source": [
    "asdd = data_df.copy()"
   ]
  },
  {
   "cell_type": "code",
   "execution_count": 188,
   "metadata": {},
   "outputs": [],
   "source": [
    "asdd = pd.DataFrame()"
   ]
  },
  {
   "cell_type": "code",
   "execution_count": 217,
   "metadata": {},
   "outputs": [
    {
     "data": {
      "text/html": [
       "<div>\n",
       "<style scoped>\n",
       "    .dataframe tbody tr th:only-of-type {\n",
       "        vertical-align: middle;\n",
       "    }\n",
       "\n",
       "    .dataframe tbody tr th {\n",
       "        vertical-align: top;\n",
       "    }\n",
       "\n",
       "    .dataframe thead th {\n",
       "        text-align: right;\n",
       "    }\n",
       "</style>\n",
       "<table border=\"1\" class=\"dataframe\">\n",
       "  <thead>\n",
       "    <tr style=\"text-align: right;\">\n",
       "      <th></th>\n",
       "      <th>Month</th>\n",
       "      <th>Month1</th>\n",
       "      <th>Sales</th>\n",
       "      <th>Year</th>\n",
       "      <th>sher</th>\n",
       "      <th>paki</th>\n",
       "    </tr>\n",
       "  </thead>\n",
       "  <tbody>\n",
       "    <tr>\n",
       "      <th>0</th>\n",
       "      <td>May</td>\n",
       "      <td>pop</td>\n",
       "      <td>272</td>\n",
       "      <td>2017</td>\n",
       "      <td>NaN</td>\n",
       "      <td>NaN</td>\n",
       "    </tr>\n",
       "    <tr>\n",
       "      <th>1</th>\n",
       "      <td>Apr</td>\n",
       "      <td>pop</td>\n",
       "      <td>248</td>\n",
       "      <td>2017</td>\n",
       "      <td>NaN</td>\n",
       "      <td>NaN</td>\n",
       "    </tr>\n",
       "    <tr>\n",
       "      <th>2</th>\n",
       "      <td>Mar</td>\n",
       "      <td>pop</td>\n",
       "      <td>324</td>\n",
       "      <td>2017</td>\n",
       "      <td>NaN</td>\n",
       "      <td>NaN</td>\n",
       "    </tr>\n",
       "    <tr>\n",
       "      <th>3</th>\n",
       "      <td>Feb</td>\n",
       "      <td>pop</td>\n",
       "      <td>308</td>\n",
       "      <td>2017</td>\n",
       "      <td>NaN</td>\n",
       "      <td>NaN</td>\n",
       "    </tr>\n",
       "    <tr>\n",
       "      <th>4</th>\n",
       "      <td>Jan</td>\n",
       "      <td>pop</td>\n",
       "      <td>628</td>\n",
       "      <td>2017</td>\n",
       "      <td>NaN</td>\n",
       "      <td>NaN</td>\n",
       "    </tr>\n",
       "    <tr>\n",
       "      <th>5</th>\n",
       "      <td>Dec</td>\n",
       "      <td>pop</td>\n",
       "      <td>664</td>\n",
       "      <td>2016</td>\n",
       "      <td>NaN</td>\n",
       "      <td>NaN</td>\n",
       "    </tr>\n",
       "    <tr>\n",
       "      <th>6</th>\n",
       "      <td>Nov</td>\n",
       "      <td>pop</td>\n",
       "      <td>895</td>\n",
       "      <td>2016</td>\n",
       "      <td>NaN</td>\n",
       "      <td>NaN</td>\n",
       "    </tr>\n",
       "    <tr>\n",
       "      <th>7</th>\n",
       "      <td>Oct</td>\n",
       "      <td>pop</td>\n",
       "      <td>858</td>\n",
       "      <td>2016</td>\n",
       "      <td>NaN</td>\n",
       "      <td>NaN</td>\n",
       "    </tr>\n",
       "    <tr>\n",
       "      <th>8</th>\n",
       "      <td>Sep</td>\n",
       "      <td>pop</td>\n",
       "      <td>677</td>\n",
       "      <td>2016</td>\n",
       "      <td>NaN</td>\n",
       "      <td>NaN</td>\n",
       "    </tr>\n",
       "    <tr>\n",
       "      <th>9</th>\n",
       "      <td>Aug</td>\n",
       "      <td>pop</td>\n",
       "      <td>404</td>\n",
       "      <td>2016</td>\n",
       "      <td>NaN</td>\n",
       "      <td>NaN</td>\n",
       "    </tr>\n",
       "    <tr>\n",
       "      <th>10</th>\n",
       "      <td>Jul</td>\n",
       "      <td>pop</td>\n",
       "      <td>324</td>\n",
       "      <td>2016</td>\n",
       "      <td>NaN</td>\n",
       "      <td>NaN</td>\n",
       "    </tr>\n",
       "    <tr>\n",
       "      <th>11</th>\n",
       "      <td>May</td>\n",
       "      <td>pop</td>\n",
       "      <td>189</td>\n",
       "      <td>2016</td>\n",
       "      <td>NaN</td>\n",
       "      <td>NaN</td>\n",
       "    </tr>\n",
       "    <tr>\n",
       "      <th>12</th>\n",
       "      <td>Jun</td>\n",
       "      <td>pop</td>\n",
       "      <td>257</td>\n",
       "      <td>2016</td>\n",
       "      <td>NaN</td>\n",
       "      <td>NaN</td>\n",
       "    </tr>\n",
       "    <tr>\n",
       "      <th>13</th>\n",
       "      <td>Apr</td>\n",
       "      <td>pop</td>\n",
       "      <td>322</td>\n",
       "      <td>2016</td>\n",
       "      <td>NaN</td>\n",
       "      <td>NaN</td>\n",
       "    </tr>\n",
       "    <tr>\n",
       "      <th>14</th>\n",
       "      <td>Feb</td>\n",
       "      <td>pop</td>\n",
       "      <td>392</td>\n",
       "      <td>2016</td>\n",
       "      <td>NaN</td>\n",
       "      <td>NaN</td>\n",
       "    </tr>\n",
       "    <tr>\n",
       "      <th>15</th>\n",
       "      <td>Mar</td>\n",
       "      <td>pop</td>\n",
       "      <td>273</td>\n",
       "      <td>2016</td>\n",
       "      <td>NaN</td>\n",
       "      <td>NaN</td>\n",
       "    </tr>\n",
       "    <tr>\n",
       "      <th>16</th>\n",
       "      <td>Jan</td>\n",
       "      <td>pop</td>\n",
       "      <td>613</td>\n",
       "      <td>2016</td>\n",
       "      <td>NaN</td>\n",
       "      <td>NaN</td>\n",
       "    </tr>\n",
       "    <tr>\n",
       "      <th>17</th>\n",
       "      <td>Dec</td>\n",
       "      <td>pop</td>\n",
       "      <td>610</td>\n",
       "      <td>2015</td>\n",
       "      <td>NaN</td>\n",
       "      <td>NaN</td>\n",
       "    </tr>\n",
       "    <tr>\n",
       "      <th>18</th>\n",
       "      <td>Oct</td>\n",
       "      <td>pop</td>\n",
       "      <td>680</td>\n",
       "      <td>2015</td>\n",
       "      <td>NaN</td>\n",
       "      <td>NaN</td>\n",
       "    </tr>\n",
       "    <tr>\n",
       "      <th>19</th>\n",
       "      <td>Nov</td>\n",
       "      <td>pop</td>\n",
       "      <td>711</td>\n",
       "      <td>2015</td>\n",
       "      <td>NaN</td>\n",
       "      <td>NaN</td>\n",
       "    </tr>\n",
       "  </tbody>\n",
       "</table>\n",
       "</div>"
      ],
      "text/plain": [
       "   Month Month1  Sales  Year  sher  paki\n",
       "0    May    pop    272  2017   NaN   NaN\n",
       "1    Apr    pop    248  2017   NaN   NaN\n",
       "2    Mar    pop    324  2017   NaN   NaN\n",
       "3    Feb    pop    308  2017   NaN   NaN\n",
       "4    Jan    pop    628  2017   NaN   NaN\n",
       "5    Dec    pop    664  2016   NaN   NaN\n",
       "6    Nov    pop    895  2016   NaN   NaN\n",
       "7    Oct    pop    858  2016   NaN   NaN\n",
       "8    Sep    pop    677  2016   NaN   NaN\n",
       "9    Aug    pop    404  2016   NaN   NaN\n",
       "10   Jul    pop    324  2016   NaN   NaN\n",
       "11   May    pop    189  2016   NaN   NaN\n",
       "12   Jun    pop    257  2016   NaN   NaN\n",
       "13   Apr    pop    322  2016   NaN   NaN\n",
       "14   Feb    pop    392  2016   NaN   NaN\n",
       "15   Mar    pop    273  2016   NaN   NaN\n",
       "16   Jan    pop    613  2016   NaN   NaN\n",
       "17   Dec    pop    610  2015   NaN   NaN\n",
       "18   Oct    pop    680  2015   NaN   NaN\n",
       "19   Nov    pop    711  2015   NaN   NaN"
      ]
     },
     "execution_count": 217,
     "metadata": {},
     "output_type": "execute_result"
    }
   ],
   "source": [
    "asdd.insert(1,\"Month1\",\"pop\")\n",
    "asdd"
   ]
  },
  {
   "cell_type": "code",
   "execution_count": 25,
   "metadata": {},
   "outputs": [],
   "source": [
    "#"
   ]
  },
  {
   "cell_type": "code",
   "execution_count": 26,
   "metadata": {},
   "outputs": [],
   "source": [
    "#"
   ]
  },
  {
   "cell_type": "code",
   "execution_count": 27,
   "metadata": {},
   "outputs": [],
   "source": [
    "#"
   ]
  },
  {
   "cell_type": "code",
   "execution_count": 69,
   "metadata": {},
   "outputs": [
    {
     "data": {
      "text/plain": [
       "[Index(['sher'], dtype='object')]"
      ]
     },
     "execution_count": 69,
     "metadata": {},
     "output_type": "execute_result"
    }
   ],
   "source": [
    "vals[2][\"missed_data\"]"
   ]
  },
  {
   "cell_type": "code",
   "execution_count": 37,
   "metadata": {},
   "outputs": [],
   "source": [
    "# new dataset working on"
   ]
  },
  {
   "cell_type": "code",
   "execution_count": 39,
   "metadata": {},
   "outputs": [],
   "source": [
    "new_data  = pd.read_csv(\"crimes-in-boston/crime.csv\",engine='python')"
   ]
  },
  {
   "cell_type": "code",
   "execution_count": 40,
   "metadata": {},
   "outputs": [
    {
     "data": {
      "text/plain": [
       "Index(['INCIDENT_NUMBER', 'OFFENSE_CODE', 'OFFENSE_CODE_GROUP',\n",
       "       'OFFENSE_DESCRIPTION', 'DISTRICT', 'REPORTING_AREA', 'SHOOTING',\n",
       "       'OCCURRED_ON_DATE', 'YEAR', 'MONTH', 'DAY_OF_WEEK', 'HOUR', 'UCR_PART',\n",
       "       'STREET', 'Lat', 'Long', 'Location'],\n",
       "      dtype='object')"
      ]
     },
     "execution_count": 40,
     "metadata": {},
     "output_type": "execute_result"
    }
   ],
   "source": [
    "new_data.columns"
   ]
  },
  {
   "cell_type": "code",
   "execution_count": 52,
   "metadata": {},
   "outputs": [],
   "source": [
    "#"
   ]
  },
  {
   "cell_type": "code",
   "execution_count": 47,
   "metadata": {},
   "outputs": [
    {
     "data": {
      "text/plain": [
       "(0          9\n",
       " 1          8\n",
       " 2          9\n",
       " 3          9\n",
       " 4          9\n",
       " 5          9\n",
       " 6          9\n",
       " 7          9\n",
       " 8          9\n",
       " 9          9\n",
       " 10         9\n",
       " 11         9\n",
       " 12         9\n",
       " 13         9\n",
       " 14         9\n",
       " 15         9\n",
       " 16         9\n",
       " 17         9\n",
       " 18         9\n",
       " 19         9\n",
       " 20         9\n",
       " 21         9\n",
       " 22         9\n",
       " 23         9\n",
       " 24         9\n",
       " 25         9\n",
       " 26         9\n",
       " 27         9\n",
       " 28         9\n",
       " 29         9\n",
       "           ..\n",
       " 319043     7\n",
       " 319044     7\n",
       " 319045     6\n",
       " 319046     6\n",
       " 319047     7\n",
       " 319048     7\n",
       " 319049    10\n",
       " 319050    10\n",
       " 319051    10\n",
       " 319052     6\n",
       " 319053     6\n",
       " 319054     7\n",
       " 319055     7\n",
       " 319056     8\n",
       " 319057     7\n",
       " 319058     7\n",
       " 319059     2\n",
       " 319060     2\n",
       " 319061    11\n",
       " 319062    11\n",
       " 319063     8\n",
       " 319064     8\n",
       " 319065     8\n",
       " 319066     1\n",
       " 319067     1\n",
       " 319068     6\n",
       " 319069     7\n",
       " 319070     7\n",
       " 319071     5\n",
       " 319072     6\n",
       " Name: MONTH, Length: 319073, dtype: int64, 0     May\n",
       " 1     Apr\n",
       " 2     Mar\n",
       " 3     Feb\n",
       " 4     Jan\n",
       " 5     Dec\n",
       " 6     Nov\n",
       " 7     Oct\n",
       " 8     Sep\n",
       " 9     Aug\n",
       " 10    Jul\n",
       " 11    May\n",
       " 12    Jun\n",
       " 13    Apr\n",
       " 14    Feb\n",
       " 15    Mar\n",
       " 16    Jan\n",
       " 17    Dec\n",
       " 18    Oct\n",
       " 19    Nov\n",
       " Name: Month, dtype: object, 0            Sunday\n",
       " 1           Tuesday\n",
       " 2            Monday\n",
       " 3            Monday\n",
       " 4            Monday\n",
       " 5            Monday\n",
       " 6            Monday\n",
       " 7            Monday\n",
       " 8            Monday\n",
       " 9            Monday\n",
       " 10           Monday\n",
       " 11           Monday\n",
       " 12           Monday\n",
       " 13           Monday\n",
       " 14           Sunday\n",
       " 15           Monday\n",
       " 16           Monday\n",
       " 17           Monday\n",
       " 18           Monday\n",
       " 19           Sunday\n",
       " 20           Monday\n",
       " 21           Monday\n",
       " 22           Monday\n",
       " 23           Monday\n",
       " 24           Monday\n",
       " 25           Monday\n",
       " 26           Monday\n",
       " 27           Monday\n",
       " 28           Monday\n",
       " 29           Monday\n",
       "             ...    \n",
       " 319043    Wednesday\n",
       " 319044    Wednesday\n",
       " 319045      Tuesday\n",
       " 319046      Tuesday\n",
       " 319047       Friday\n",
       " 319048       Friday\n",
       " 319049       Friday\n",
       " 319050       Friday\n",
       " 319051       Friday\n",
       " 319052       Sunday\n",
       " 319053       Sunday\n",
       " 319054       Monday\n",
       " 319055       Monday\n",
       " 319056       Monday\n",
       " 319057       Friday\n",
       " 319058       Friday\n",
       " 319059       Monday\n",
       " 319060       Monday\n",
       " 319061       Friday\n",
       " 319062       Friday\n",
       " 319063    Wednesday\n",
       " 319064    Wednesday\n",
       " 319065    Wednesday\n",
       " 319066     Saturday\n",
       " 319067     Saturday\n",
       " 319068       Sunday\n",
       " 319069     Thursday\n",
       " 319070     Thursday\n",
       " 319071      Tuesday\n",
       " 319072       Monday\n",
       " Name: DAY_OF_WEEK, Length: 319073, dtype: object)"
      ]
     },
     "execution_count": 47,
     "metadata": {},
     "output_type": "execute_result"
    }
   ],
   "source": [
    "new_data[\"MONTH\"],data_df[\"Month\"],new_data[\"DAY_OF_WEEK\"]"
   ]
  },
  {
   "cell_type": "markdown",
   "metadata": {},
   "source": [
    "# 2nd phase"
   ]
  },
  {
   "cell_type": "code",
   "execution_count": 23,
   "metadata": {},
   "outputs": [
    {
     "ename": "SyntaxError",
     "evalue": "unexpected EOF while parsing (<ipython-input-23-89dcce483681>, line 1)",
     "output_type": "error",
     "traceback": [
      "\u001b[1;36m  File \u001b[1;32m\"<ipython-input-23-89dcce483681>\"\u001b[1;36m, line \u001b[1;32m1\u001b[0m\n\u001b[1;33m    def data_prep():\u001b[0m\n\u001b[1;37m                    ^\u001b[0m\n\u001b[1;31mSyntaxError\u001b[0m\u001b[1;31m:\u001b[0m unexpected EOF while parsing\n"
     ]
    }
   ],
   "source": []
  },
  {
   "cell_type": "code",
   "execution_count": 53,
   "metadata": {},
   "outputs": [
    {
     "name": "stdout",
     "output_type": "stream",
     "text": [
      "['Month', 'Sales', 'Year', 'sher', 'paki']\n"
     ]
    }
   ],
   "source": [
    "print([* data_df.columns])"
   ]
  },
  {
   "cell_type": "markdown",
   "metadata": {},
   "source": [
    "# "
   ]
  },
  {
   "cell_type": "code",
   "execution_count": 21,
   "metadata": {},
   "outputs": [
    {
     "name": "stdout",
     "output_type": "stream",
     "text": [
      "Collecting maya\n",
      "  Downloading https://files.pythonhosted.org/packages/1d/56/789ebf410acc1491bf4078ef57a7a277b42c0b18f43e17007bfb6c1caaf3/maya-0.6.1-py2.py3-none-any.whl\n",
      "Collecting snaptime\n",
      "  Downloading https://files.pythonhosted.org/packages/f3/f4/cb818c9bfdac4605f13296f7fcfe068aee7d1c3aa89f8cc22a064c1fab20/snaptime-0.2.4.tar.gz\n",
      "Requirement already satisfied: pytz in c:\\users\\mnaas\\anaconda3\\lib\\site-packages (from maya) (2019.3)\n",
      "Collecting dateparser>=0.7.0\n",
      "  Downloading https://files.pythonhosted.org/packages/ad/0c/aba72d8454c28ab3800f3efd1ab3fe4f3fa41eb2746adc0cdcb318200796/dateparser-0.7.4-py2.py3-none-any.whl (353kB)\n",
      "Collecting pendulum>=2.0.2\n",
      "  Downloading https://files.pythonhosted.org/packages/9d/f3/23cfd1541f2f5ea05057b38fa67391fe639fd145dcd3632d7914d9e59d87/pendulum-2.1.0-cp36-cp36m-win_amd64.whl (217kB)\n",
      "Collecting tzlocal\n",
      "  Downloading https://files.pythonhosted.org/packages/ef/99/53bd1ac9349262f59c1c421d8fcc2559ae8a5eeffed9202684756b648d33/tzlocal-2.0.0-py2.py3-none-any.whl\n",
      "Collecting humanize\n",
      "  Downloading https://files.pythonhosted.org/packages/f6/84/6682ee831fc4a7d0146d8d86116746a541a927963f969bc1747406ccffc5/humanize-2.2.0-py3-none-any.whl (56kB)\n",
      "Requirement already satisfied: python-dateutil in c:\\users\\mnaas\\anaconda3\\lib\\site-packages (from snaptime->maya) (2.7.3)\n",
      "Requirement already satisfied: regex!=2019.02.19 in c:\\users\\mnaas\\anaconda3\\lib\\site-packages (from dateparser>=0.7.0->maya) (2017.11.9)\n",
      "Collecting pytzdata>=2018.3\n",
      "  Downloading https://files.pythonhosted.org/packages/7f/f9/cdd39831b0465285c02ed90cfbf0db25bb951cb2a35ded0e69222375bea3/pytzdata-2019.3-py2.py3-none-any.whl (489kB)\n",
      "Requirement already satisfied: six>=1.5 in c:\\users\\mnaas\\anaconda3\\lib\\site-packages (from python-dateutil->snaptime->maya) (1.11.0)\n",
      "Building wheels for collected packages: snaptime\n",
      "  Building wheel for snaptime (setup.py): started\n",
      "  Building wheel for snaptime (setup.py): finished with status 'done'\n",
      "  Created wheel for snaptime: filename=snaptime-0.2.4-cp36-none-any.whl size=3603 sha256=b5f08d915476174afe77b9123c9603fda6829e5cc71753315f4c4ea78170069b\n",
      "  Stored in directory: C:\\Users\\Mnaas\\AppData\\Local\\pip\\Cache\\wheels\\59\\e3\\55\\b528efc85cc6a85b6ac7b7d7af10e82b09d1299c49aeddeaf3\n",
      "Successfully built snaptime\n",
      "Installing collected packages: snaptime, tzlocal, dateparser, pytzdata, pendulum, humanize, maya\n",
      "Successfully installed dateparser-0.7.4 humanize-2.2.0 maya-0.6.1 pendulum-2.1.0 pytzdata-2019.3 snaptime-0.2.4 tzlocal-2.0.0\n"
     ]
    },
    {
     "name": "stderr",
     "output_type": "stream",
     "text": [
      "WARNING: You are using pip version 19.3.1; however, version 20.0.2 is available.\n",
      "You should consider upgrading via the 'python -m pip install --upgrade pip' command.\n"
     ]
    }
   ],
   "source": [
    "!pip install maya"
   ]
  },
  {
   "cell_type": "markdown",
   "metadata": {},
   "source": [
    "# LINEAR MODELS"
   ]
  },
  {
   "cell_type": "code",
   "execution_count": 35,
   "metadata": {},
   "outputs": [],
   "source": [
    "#1.1.1. Ordinary Least Squares"
   ]
  },
  {
   "cell_type": "code",
   "execution_count": 38,
   "metadata": {},
   "outputs": [
    {
     "data": {
      "text/plain": [
       "LinearRegression(copy_X=True, fit_intercept=True, n_jobs=None,\n",
       "         normalize=False)"
      ]
     },
     "execution_count": 38,
     "metadata": {},
     "output_type": "execute_result"
    }
   ],
   "source": [
    "from sklearn import linear_model\n",
    "reg = linear_model.LinearRegression()\n",
    "reg.fit([[0, 0], [1, 1], [2, 2]], [0, 1, 2])"
   ]
  },
  {
   "cell_type": "code",
   "execution_count": 40,
   "metadata": {},
   "outputs": [
    {
     "data": {
      "text/plain": [
       "array([0.5, 0.5])"
      ]
     },
     "execution_count": 40,
     "metadata": {},
     "output_type": "execute_result"
    }
   ],
   "source": [
    "reg.coef_ # sooo 0.5 s the coeeficients here"
   ]
  },
  {
   "cell_type": "code",
   "execution_count": 41,
   "metadata": {},
   "outputs": [],
   "source": [
    "#Ordinary Least Squares Complexity¶\n",
    "# we need to use the singular value decomposition  for the least sqaures emthod.\n",
    "\n",
    "# samples>= features "
   ]
  },
  {
   "cell_type": "code",
   "execution_count": null,
   "metadata": {},
   "outputs": [],
   "source": [
    "#ridge  regression\n",
    "# lasso regression\n"
   ]
  },
  {
   "cell_type": "code",
   "execution_count": null,
   "metadata": {},
   "outputs": [],
   "source": []
  },
  {
   "cell_type": "code",
   "execution_count": null,
   "metadata": {},
   "outputs": [],
   "source": []
  },
  {
   "cell_type": "code",
   "execution_count": null,
   "metadata": {},
   "outputs": [],
   "source": []
  },
  {
   "cell_type": "code",
   "execution_count": null,
   "metadata": {},
   "outputs": [],
   "source": []
  },
  {
   "cell_type": "code",
   "execution_count": null,
   "metadata": {},
   "outputs": [],
   "source": []
  },
  {
   "cell_type": "code",
   "execution_count": null,
   "metadata": {},
   "outputs": [],
   "source": []
  },
  {
   "cell_type": "code",
   "execution_count": null,
   "metadata": {},
   "outputs": [],
   "source": []
  },
  {
   "cell_type": "code",
   "execution_count": null,
   "metadata": {},
   "outputs": [],
   "source": []
  },
  {
   "cell_type": "code",
   "execution_count": 268,
   "metadata": {},
   "outputs": [
    {
     "name": "stdout",
     "output_type": "stream",
     "text": [
      "Collecting statistics\n",
      "  Downloading https://files.pythonhosted.org/packages/bb/3a/ae99a15e65636559d936dd2159d75af1619491e8cb770859fbc8aa62cef6/statistics-1.0.3.5.tar.gz\n",
      "Requirement already satisfied: docutils>=0.3 in c:\\users\\mnaas\\anaconda3\\lib\\site-packages (from statistics) (0.14)\n",
      "Building wheels for collected packages: statistics\n",
      "  Building wheel for statistics (setup.py): started\n",
      "  Building wheel for statistics (setup.py): finished with status 'done'\n",
      "  Created wheel for statistics: filename=statistics-1.0.3.5-cp36-none-any.whl size=7465 sha256=060a4f7166b6d0d83f6db9023ea06135974d2b063364d055237695af946edf91\n",
      "  Stored in directory: C:\\Users\\Mnaas\\AppData\\Local\\pip\\Cache\\wheels\\75\\55\\90\\73aa7662bfb4565b567618547a275f01372a678ca92ecd64f3\n",
      "Successfully built statistics\n",
      "Installing collected packages: statistics\n",
      "Successfully installed statistics-1.0.3.5\n"
     ]
    },
    {
     "name": "stderr",
     "output_type": "stream",
     "text": [
      "WARNING: You are using pip version 19.3.1; however, version 20.0.2 is available.\n",
      "You should consider upgrading via the 'python -m pip install --upgrade pip' command.\n"
     ]
    }
   ],
   "source": [
    "!pip install statistics"
   ]
  },
  {
   "cell_type": "code",
   "execution_count": 269,
   "metadata": {},
   "outputs": [],
   "source": [
    "import statistics"
   ]
  },
  {
   "cell_type": "code",
   "execution_count": 311,
   "metadata": {},
   "outputs": [
    {
     "data": {
      "text/plain": [
       "array([['May', 2017],\n",
       "       ['Apr', 2017],\n",
       "       ['Mar', 2017],\n",
       "       ['Feb', 2017],\n",
       "       ['Jan', 2017],\n",
       "       ['Dec', 2016],\n",
       "       ['Nov', 2016],\n",
       "       ['Oct', 2016],\n",
       "       ['Sep', 2016],\n",
       "       ['Aug', 2016],\n",
       "       ['Jul', 2016],\n",
       "       ['May', 2016],\n",
       "       ['Jun', 2016],\n",
       "       ['Apr', 2016],\n",
       "       ['Feb', 2016],\n",
       "       ['Mar', 2016],\n",
       "       ['Jan', 2016],\n",
       "       ['Dec', 2015],\n",
       "       ['Oct', 2015],\n",
       "       ['Nov', 2015]], dtype=object)"
      ]
     },
     "execution_count": 311,
     "metadata": {},
     "output_type": "execute_result"
    }
   ],
   "source": [
    "data_df[data_df.columns[data_df.columns != \"Sales\"]].values"
   ]
  },
  {
   "cell_type": "code",
   "execution_count": 1,
   "metadata": {},
   "outputs": [],
   "source": [
    "#torch tensors"
   ]
  },
  {
   "cell_type": "code",
   "execution_count": 2,
   "metadata": {},
   "outputs": [],
   "source": [
    "import torch as nn"
   ]
  },
  {
   "cell_type": "code",
   "execution_count": 3,
   "metadata": {},
   "outputs": [
    {
     "data": {
      "text/plain": [
       "tensor([1, 2, 3, 4], dtype=torch.int32)"
      ]
     },
     "execution_count": 3,
     "metadata": {},
     "output_type": "execute_result"
    }
   ],
   "source": [
    "\n",
    "nn.IntTensor([1,2,3,4])"
   ]
  },
  {
   "cell_type": "code",
   "execution_count": 5,
   "metadata": {},
   "outputs": [
    {
     "data": {
      "text/plain": [
       "tensor([       1048,           0,         411,  1596877921,        1052,\n",
       "                  0,         411,    16777216,        1060,           0,\n",
       "                411,          10,         760,           0,         411,\n",
       "         1912678734,        1220,           0,         411,          20,\n",
       "               1320,           0,         411,   570425344,        1348,\n",
       "                  0,         411,  1769437812,        1316,           0,\n",
       "                411,  1600480117,        1220,           0,           4,\n",
       "          879886336,        1348,           0,           4,     8286720,\n",
       "         2054291456,  1912602624,          20,        5234,     1339904,\n",
       "          359792640,  1912602624,           8,         236,        2163,\n",
       "          134285312,   134416430,      418564,           0,      589824,\n",
       "             393216,     4390912,  1416822784,  1946157056,  2080401920,\n",
       "         1677818880,  2080603137,  2097513220,  1778809862,  2080537601,\n",
       "        -2096993786,  1677727744,  1677727234,  1677727489,  2097253635,\n",
       "         2080865287,   402744325,   335770624,  2097157888,  1778940936,\n",
       "         1795259396,  2085646851,   939750408,  2080931072,   687887112,\n",
       "          540965380,  1870225764,   268435472,     4117916,  -141725104,\n",
       "                305,   251658255,     4117919,  -274172832,         305,\n",
       "         -283452544,         305,  1814066030,   544502625,  1953721961,\n",
       "         1701015137,      356896,   175243264,   687865856,  1677974017],\n",
       "       dtype=torch.int32)"
      ]
     },
     "execution_count": 5,
     "metadata": {},
     "output_type": "execute_result"
    }
   ],
   "source": [
    "nn.IntTensor(100)\n",
    "# automatically creates the values for ht e100 \n"
   ]
  },
  {
   "cell_type": "code",
   "execution_count": 32,
   "metadata": {},
   "outputs": [
    {
     "data": {
      "text/plain": [
       "tensor([[[[9.2755e-39, 1.0561e-38],\n",
       "          [7.0715e-39, 8.9082e-39]],\n",
       "\n",
       "         [[1.0561e-38, 5.9694e-39],\n",
       "          [8.9082e-39, 1.0194e-38]]],\n",
       "\n",
       "\n",
       "        [[[9.1837e-39, 4.6837e-39],\n",
       "          [9.9184e-39, 9.0000e-39]],\n",
       "\n",
       "         [[1.0561e-38, 1.0653e-38],\n",
       "          [4.1327e-39, 8.9082e-39]]]])"
      ]
     },
     "execution_count": 32,
     "metadata": {},
     "output_type": "execute_result"
    }
   ],
   "source": [
    "nn.FloatTensor(2,2,2,2)"
   ]
  },
  {
   "cell_type": "code",
   "execution_count": 33,
   "metadata": {},
   "outputs": [
    {
     "data": {
      "text/plain": [
       "tensor([[1, 2, 3],\n",
       "        [4, 5, 6]], dtype=torch.int32)"
      ]
     },
     "execution_count": 33,
     "metadata": {},
     "output_type": "execute_result"
    }
   ],
   "source": [
    "nn.IntTensor([[1,2,3],[4,5,6]])"
   ]
  },
  {
   "cell_type": "code",
   "execution_count": 36,
   "metadata": {},
   "outputs": [
    {
     "data": {
      "text/plain": [
       "tensor([[1, 2, 3],\n",
       "        [4, 5, 6]], device='cuda:0', dtype=torch.int32)"
      ]
     },
     "execution_count": 36,
     "metadata": {},
     "output_type": "execute_result"
    }
   ],
   "source": [
    "nn.cuda.IntTensor([[1,2,3],[4,5,6]])"
   ]
  },
  {
   "cell_type": "code",
   "execution_count": 34,
   "metadata": {},
   "outputs": [],
   "source": [
    "# how are strings detemined in torch"
   ]
  },
  {
   "cell_type": "code",
   "execution_count": null,
   "metadata": {},
   "outputs": [],
   "source": [
    "# one hot---[0,0,0,0,1,0,0,0]\n",
    "\n",
    "# other ways are word2vec,glove\n"
   ]
  },
  {
   "cell_type": "code",
   "execution_count": 37,
   "metadata": {},
   "outputs": [],
   "source": [
    "#wana generate some random numbers"
   ]
  },
  {
   "cell_type": "code",
   "execution_count": 48,
   "metadata": {},
   "outputs": [],
   "source": [
    "a =nn.rand(1,2,3)"
   ]
  },
  {
   "cell_type": "code",
   "execution_count": 49,
   "metadata": {},
   "outputs": [
    {
     "data": {
      "text/plain": [
       "'torch.FloatTensor'"
      ]
     },
     "execution_count": 49,
     "metadata": {},
     "output_type": "execute_result"
    }
   ],
   "source": [
    "a.type()"
   ]
  },
  {
   "cell_type": "code",
   "execution_count": 77,
   "metadata": {},
   "outputs": [
    {
     "data": {
      "text/plain": [
       "tensor([[0., 0., 0., 0.],\n",
       "        [0., 0., 0., 0.]])"
      ]
     },
     "execution_count": 77,
     "metadata": {},
     "output_type": "execute_result"
    }
   ],
   "source": [
    "nn.FloatTensor(1,2,4)[0]\n",
    "# first is the dimension, and in that dimension we have the sizes represented "
   ]
  },
  {
   "cell_type": "code",
   "execution_count": 79,
   "metadata": {},
   "outputs": [
    {
     "data": {
      "text/plain": [
       "tensor([[0., 0.],\n",
       "        [0., 0.],\n",
       "        [0., 0.],\n",
       "        [0., 0.]])"
      ]
     },
     "execution_count": 79,
     "metadata": {},
     "output_type": "execute_result"
    }
   ],
   "source": [
    "nn.FloatTensor(1,4,2)[0]"
   ]
  },
  {
   "cell_type": "code",
   "execution_count": 64,
   "metadata": {},
   "outputs": [
    {
     "data": {
      "text/plain": [
       "True"
      ]
     },
     "execution_count": 64,
     "metadata": {},
     "output_type": "execute_result"
    }
   ],
   "source": [
    "isinstance(a,nn.FloatTensor)"
   ]
  },
  {
   "cell_type": "code",
   "execution_count": 68,
   "metadata": {},
   "outputs": [
    {
     "data": {
      "text/plain": [
       "array([[[0.04548107, 0.88681213, 0.70168433],\n",
       "        [0.38845682, 0.5659207 , 0.56609299]]])"
      ]
     },
     "execution_count": 68,
     "metadata": {},
     "output_type": "execute_result"
    }
   ],
   "source": [
    "import numpy as np\n",
    "np.random.rand(1,2,3)"
   ]
  },
  {
   "cell_type": "code",
   "execution_count": 71,
   "metadata": {},
   "outputs": [
    {
     "data": {
      "text/plain": [
       "array([[0.07317346, 0.09551191],\n",
       "       [0.38717328, 0.1195673 ],\n",
       "       [0.98140151, 0.31236816]])"
      ]
     },
     "execution_count": 71,
     "metadata": {},
     "output_type": "execute_result"
    }
   ],
   "source": [
    "np.random.rand(3,2)"
   ]
  },
  {
   "cell_type": "code",
   "execution_count": 81,
   "metadata": {},
   "outputs": [],
   "source": [
    "data = 0"
   ]
  },
  {
   "cell_type": "code",
   "execution_count": 82,
   "metadata": {},
   "outputs": [
    {
     "data": {
      "text/plain": [
       "False"
      ]
     },
     "execution_count": 82,
     "metadata": {},
     "output_type": "execute_result"
    }
   ],
   "source": [
    "isinstance(data,nn.cuda.FloatTensor)"
   ]
  },
  {
   "cell_type": "code",
   "execution_count": 85,
   "metadata": {},
   "outputs": [],
   "source": [
    "data = nn.cuda.FloatTensor(data)"
   ]
  },
  {
   "cell_type": "code",
   "execution_count": 86,
   "metadata": {},
   "outputs": [
    {
     "data": {
      "text/plain": [
       "True"
      ]
     },
     "execution_count": 86,
     "metadata": {},
     "output_type": "execute_result"
    }
   ],
   "source": [
    "isinstance(data,nn.cuda.FloatTensor)"
   ]
  },
  {
   "cell_type": "code",
   "execution_count": 97,
   "metadata": {},
   "outputs": [
    {
     "data": {
      "text/plain": [
       "tensor([[1, 2],\n",
       "        [3, 4]], dtype=torch.int32)"
      ]
     },
     "execution_count": 97,
     "metadata": {},
     "output_type": "execute_result"
    }
   ],
   "source": [
    "nn.tensor(np.array([[1,2],[3,4]]))"
   ]
  },
  {
   "cell_type": "code",
   "execution_count": 98,
   "metadata": {},
   "outputs": [
    {
     "data": {
      "text/plain": [
       "tensor([[1, 2],\n",
       "        [3, 4]], dtype=torch.int32)"
      ]
     },
     "execution_count": 98,
     "metadata": {},
     "output_type": "execute_result"
    }
   ],
   "source": [
    "nn.from_numpy(np.array([[1,2],[3,4]]))"
   ]
  },
  {
   "cell_type": "code",
   "execution_count": 101,
   "metadata": {},
   "outputs": [
    {
     "data": {
      "text/plain": [
       "tensor([[[1., 1.],\n",
       "         [1., 1.]],\n",
       "\n",
       "        [[1., 1.],\n",
       "         [1., 1.]]])"
      ]
     },
     "execution_count": 101,
     "metadata": {},
     "output_type": "execute_result"
    }
   ],
   "source": [
    "nn.ones(2,2,2)"
   ]
  },
  {
   "cell_type": "code",
   "execution_count": 104,
   "metadata": {},
   "outputs": [
    {
     "data": {
      "text/plain": [
       "(torch.Tensor, 'torch.FloatTensor')"
      ]
     },
     "execution_count": 104,
     "metadata": {},
     "output_type": "execute_result"
    }
   ],
   "source": [
    "type(a),a.type()"
   ]
  },
  {
   "cell_type": "code",
   "execution_count": 108,
   "metadata": {},
   "outputs": [
    {
     "data": {
      "text/plain": [
       "3"
      ]
     },
     "execution_count": 108,
     "metadata": {},
     "output_type": "execute_result"
    }
   ],
   "source": [
    "a.size(2)"
   ]
  },
  {
   "cell_type": "code",
   "execution_count": 122,
   "metadata": {},
   "outputs": [
    {
     "data": {
      "text/plain": [
       "(torch.Size([1, 2, 3]), [1, 2, 3])"
      ]
     },
     "execution_count": 122,
     "metadata": {},
     "output_type": "execute_result"
    }
   ],
   "source": [
    "a.size(), list(a.size())"
   ]
  },
  {
   "cell_type": "code",
   "execution_count": 131,
   "metadata": {},
   "outputs": [
    {
     "data": {
      "text/plain": [
       "3"
      ]
     },
     "execution_count": 131,
     "metadata": {},
     "output_type": "execute_result"
    }
   ],
   "source": [
    "a[0][0].numel()\n",
    "#number of elements"
   ]
  },
  {
   "cell_type": "code",
   "execution_count": 133,
   "metadata": {},
   "outputs": [
    {
     "data": {
      "text/plain": [
       "6"
      ]
     },
     "execution_count": 133,
     "metadata": {},
     "output_type": "execute_result"
    }
   ],
   "source": [
    "a.numel()"
   ]
  },
  {
   "cell_type": "code",
   "execution_count": 136,
   "metadata": {},
   "outputs": [
    {
     "data": {
      "text/plain": [
       "(3, 6)"
      ]
     },
     "execution_count": 136,
     "metadata": {},
     "output_type": "execute_result"
    }
   ],
   "source": [
    "a.dim(),a.numel()"
   ]
  },
  {
   "cell_type": "code",
   "execution_count": 139,
   "metadata": {},
   "outputs": [
    {
     "data": {
      "text/plain": [
       "torch.Size([3])"
      ]
     },
     "execution_count": 139,
     "metadata": {},
     "output_type": "execute_result"
    }
   ],
   "source": [
    "nn.tensor([1,2,3]).size()"
   ]
  },
  {
   "cell_type": "code",
   "execution_count": 147,
   "metadata": {},
   "outputs": [],
   "source": [
    "x =nn.cuda.FloatTensor([1,2,3])"
   ]
  },
  {
   "cell_type": "code",
   "execution_count": 148,
   "metadata": {},
   "outputs": [
    {
     "data": {
      "text/plain": [
       "tensor([1., 2., 3.], device='cuda:0')"
      ]
     },
     "execution_count": 148,
     "metadata": {},
     "output_type": "execute_result"
    }
   ],
   "source": [
    "x"
   ]
  },
  {
   "cell_type": "code",
   "execution_count": 153,
   "metadata": {},
   "outputs": [],
   "source": [
    "empty =nn.empty(1,2,3)"
   ]
  },
  {
   "cell_type": "code",
   "execution_count": 156,
   "metadata": {},
   "outputs": [],
   "source": [
    "#creating an empty tensor"
   ]
  },
  {
   "cell_type": "code",
   "execution_count": 157,
   "metadata": {},
   "outputs": [
    {
     "data": {
      "text/plain": [
       "tensor([[[0., 0., 0.],\n",
       "         [0., 0., 0.]]])"
      ]
     },
     "execution_count": 157,
     "metadata": {},
     "output_type": "execute_result"
    }
   ],
   "source": [
    "empty"
   ]
  },
  {
   "cell_type": "code",
   "execution_count": 158,
   "metadata": {},
   "outputs": [],
   "source": [
    "# how to set defaiult type for tensor"
   ]
  },
  {
   "cell_type": "code",
   "execution_count": 173,
   "metadata": {},
   "outputs": [],
   "source": [
    "ten = nn.tensor([1.234234,2.234524,3,4],dtype= nn.double) #nn.DoubleTensor..doesnt work\n",
    "\n",
    "# we need to understand the difference between the dtype and tensor type \n",
    "#dtype is a datatype, like torch.float or torch.double\n",
    "#tensortype is a type of tensor, like torch.FloatTensor, torch.DoubleTensor."
   ]
  },
  {
   "cell_type": "code",
   "execution_count": 174,
   "metadata": {},
   "outputs": [
    {
     "data": {
      "text/plain": [
       "'torch.DoubleTensor'"
      ]
     },
     "execution_count": 174,
     "metadata": {},
     "output_type": "execute_result"
    }
   ],
   "source": [
    "ten.type()"
   ]
  },
  {
   "cell_type": "code",
   "execution_count": 176,
   "metadata": {},
   "outputs": [],
   "source": [
    "#if you wanna set a default tensor type....no matetr what everytime you conevetrt a data it justs gets converted to the\n",
    "# defaut type"
   ]
  },
  {
   "cell_type": "code",
   "execution_count": 177,
   "metadata": {},
   "outputs": [],
   "source": [
    "nn.set_default_tensor_type(nn.FloatTensor)"
   ]
  },
  {
   "cell_type": "code",
   "execution_count": 178,
   "metadata": {},
   "outputs": [],
   "source": [
    "# if you have a tensor m*n ..you wanna create  clone architecture of that "
   ]
  },
  {
   "cell_type": "code",
   "execution_count": 179,
   "metadata": {},
   "outputs": [],
   "source": [
    "d = nn.rand(3,3)"
   ]
  },
  {
   "cell_type": "code",
   "execution_count": 185,
   "metadata": {},
   "outputs": [
    {
     "data": {
      "text/plain": [
       "(tensor([[0.4769, 0.1096, 0.3830],\n",
       "         [0.2435, 0.7474, 0.1194],\n",
       "         [0.3414, 0.0579, 0.7013]]), tensor([[0.9662, 0.7450, 0.5403],\n",
       "         [0.6057, 0.8083, 0.1417],\n",
       "         [0.9703, 0.2093, 0.4561]]))"
      ]
     },
     "execution_count": 185,
     "metadata": {},
     "output_type": "execute_result"
    }
   ],
   "source": [
    "d,nn.rand_like(d)\n",
    "# creates a clone architecture of that type"
   ]
  },
  {
   "cell_type": "code",
   "execution_count": 199,
   "metadata": {},
   "outputs": [
    {
     "data": {
      "text/plain": [
       "tensor([[6, 7],\n",
       "        [3, 6]])"
      ]
     },
     "execution_count": 199,
     "metadata": {},
     "output_type": "execute_result"
    }
   ],
   "source": [
    "nn.randint(1,10,(2,2))"
   ]
  },
  {
   "cell_type": "code",
   "execution_count": 200,
   "metadata": {},
   "outputs": [],
   "source": [
    "# lets create a normal distributioN\n",
    "nn.arange()"
   ]
  },
  {
   "cell_type": "code",
   "execution_count": 217,
   "metadata": {},
   "outputs": [
    {
     "data": {
      "text/plain": [
       "tensor([[ 0.0000,  0.0403, -0.0596, -0.1972,  0.1528,  0.0160,  0.1416, -0.9541,\n",
       "          0.1418,  0.1132]])"
      ]
     },
     "execution_count": 217,
     "metadata": {},
     "output_type": "execute_result"
    }
   ],
   "source": [
    "nn.normal(mean = nn.full((1,10),0),std=nn.arange(0,1,0.1)) #defining size either use() or []"
   ]
  },
  {
   "cell_type": "code",
   "execution_count": 208,
   "metadata": {},
   "outputs": [
    {
     "data": {
      "text/plain": [
       "tensor([0.0000, 0.1000, 0.2000, 0.3000, 0.4000, 0.5000, 0.6000, 0.7000, 0.8000,\n",
       "        0.9000])"
      ]
     },
     "execution_count": 208,
     "metadata": {},
     "output_type": "execute_result"
    }
   ],
   "source": [
    "nn.arange(0,1,0.1)"
   ]
  },
  {
   "cell_type": "code",
   "execution_count": 215,
   "metadata": {},
   "outputs": [],
   "source": [
    "import matplotlib.pyplot as plt"
   ]
  },
  {
   "cell_type": "code",
   "execution_count": 226,
   "metadata": {},
   "outputs": [
    {
     "data": {
      "text/plain": [
       "(tensor(10.), tensor([10.]), tensor(10.))"
      ]
     },
     "execution_count": 226,
     "metadata": {},
     "output_type": "execute_result"
    }
   ],
   "source": [
    "nn.full([],10) , nn.full([1],10), nn.full([1],10)[0]"
   ]
  },
  {
   "cell_type": "code",
   "execution_count": 221,
   "metadata": {},
   "outputs": [
    {
     "data": {
      "text/plain": [
       "(tensor(1), tensor([1]))"
      ]
     },
     "execution_count": 221,
     "metadata": {},
     "output_type": "execute_result"
    }
   ],
   "source": [
    "nn.tensor(1), nn.tensor([1])"
   ]
  },
  {
   "cell_type": "code",
   "execution_count": 229,
   "metadata": {},
   "outputs": [
    {
     "data": {
      "text/plain": [
       "tensor([0.0000, 0.1111, 0.2222, 0.3333, 0.4444, 0.5556, 0.6667, 0.7778, 0.8889,\n",
       "        1.0000])"
      ]
     },
     "execution_count": 229,
     "metadata": {},
     "output_type": "execute_result"
    }
   ],
   "source": [
    "nn.linspace(0,1,10) # divide the range into 10 parts"
   ]
  },
  {
   "cell_type": "code",
   "execution_count": 230,
   "metadata": {},
   "outputs": [
    {
     "data": {
      "text/plain": [
       "tensor([ 1.0000,  1.2915,  1.6681,  2.1544,  2.7826,  3.5938,  4.6416,  5.9948,\n",
       "         7.7426, 10.0000])"
      ]
     },
     "execution_count": 230,
     "metadata": {},
     "output_type": "execute_result"
    }
   ],
   "source": [
    "nn.logspace(0,1,10)"
   ]
  },
  {
   "cell_type": "code",
   "execution_count": 231,
   "metadata": {},
   "outputs": [
    {
     "data": {
      "text/plain": [
       "tensor([[1., 0., 0.],\n",
       "        [0., 1., 0.],\n",
       "        [0., 0., 1.]])"
      ]
     },
     "execution_count": 231,
     "metadata": {},
     "output_type": "execute_result"
    }
   ],
   "source": [
    "nn.eye(3,3)"
   ]
  },
  {
   "cell_type": "code",
   "execution_count": 260,
   "metadata": {},
   "outputs": [
    {
     "data": {
      "text/plain": [
       "tensor(0.7218)"
      ]
     },
     "execution_count": 260,
     "metadata": {},
     "output_type": "execute_result"
    }
   ],
   "source": [
    "s[0][2]"
   ]
  },
  {
   "cell_type": "code",
   "execution_count": 51,
   "metadata": {},
   "outputs": [],
   "source": [
    "import torch as tt"
   ]
  },
  {
   "cell_type": "code",
   "execution_count": 57,
   "metadata": {},
   "outputs": [
    {
     "data": {
      "text/plain": [
       "tensor([1., 1., 1., 1., 1., 1., 1., 1., 1., 1.])"
      ]
     },
     "execution_count": 57,
     "metadata": {},
     "output_type": "execute_result"
    }
   ],
   "source": [
    "tt.full([10],1)"
   ]
  },
  {
   "cell_type": "code",
   "execution_count": 58,
   "metadata": {},
   "outputs": [
    {
     "data": {
      "text/plain": [
       "tensor([0, 2, 4, 6, 8])"
      ]
     },
     "execution_count": 58,
     "metadata": {},
     "output_type": "execute_result"
    }
   ],
   "source": [
    "tt.arange(0,10,2)"
   ]
  },
  {
   "cell_type": "code",
   "execution_count": 70,
   "metadata": {},
   "outputs": [
    {
     "data": {
      "text/plain": [
       "tensor([ 0.0000,  0.0704,  0.3608, -0.3531, -0.7354, -0.1851, -0.2147, -0.3897,\n",
       "        -1.5214, -1.2675])"
      ]
     },
     "execution_count": 70,
     "metadata": {},
     "output_type": "execute_result"
    }
   ],
   "source": [
    "tt.normal(tt.full([10],0),tt.arange(0,1,0.1))"
   ]
  },
  {
   "cell_type": "code",
   "execution_count": 72,
   "metadata": {},
   "outputs": [
    {
     "data": {
      "text/plain": [
       "[<matplotlib.lines.Line2D at 0x1baa1555b38>]"
      ]
     },
     "execution_count": 72,
     "metadata": {},
     "output_type": "execute_result"
    },
    {
     "data": {
      "image/png": "[encoded data removed]",
      "text/plain": [
       "<Figure size 432x288 with 1 Axes>"
      ]
     },
     "metadata": {},
     "output_type": "display_data"
    }
   ],
   "source": [
    "import matplotlib.pyplot as plt\n",
    "plt.plot([ 0.0000,  0.0704,  0.3608, -0.3531, -0.7354, -0.1851, -0.2147, -0.3897, -1.5214, -1.2675])"
   ]
  },
  {
   "cell_type": "code",
   "execution_count": 64,
   "metadata": {},
   "outputs": [],
   "source": [
    "tt.set_default_tensor_type(tt.FloatTensor)"
   ]
  },
  {
   "cell_type": "code",
   "execution_count": 75,
   "metadata": {},
   "outputs": [
    {
     "data": {
      "text/plain": [
       "tensor([17, 78, 43, 89, 51, 63, 18, 34,  2, 19, 21, 31, 41,  6, 46, 65, 61, 56,\n",
       "        75, 90, 88, 86, 26, 27,  7, 76, 45, 60, 24, 50, 42,  0, 47, 49, 58, 66,\n",
       "         1, 44, 36, 64, 82, 59, 40, 39, 71, 37, 69, 15,  3, 74, 91, 38, 99, 11,\n",
       "        97, 30, 67, 81, 92, 22, 98,  8, 85, 70, 95, 68, 79, 23, 72, 10, 73, 14,\n",
       "        93, 57, 25, 12, 80, 94, 28, 33, 48, 35, 55, 84, 62, 53, 16,  4, 20, 52,\n",
       "         9, 29, 54, 32, 77, 96, 13,  5, 87, 83])"
      ]
     },
     "execution_count": 75,
     "metadata": {},
     "output_type": "execute_result"
    }
   ],
   "source": [
    "tt.randperm(100)# thiscan be used as the ranodm indexing"
   ]
  },
  {
   "cell_type": "code",
   "execution_count": 82,
   "metadata": {},
   "outputs": [
    {
     "data": {
      "text/plain": [
       "tensor([[[0.0579, 0.5482, 0.5328],\n",
       "         [0.6688, 0.8723, 0.3189]],\n",
       "\n",
       "        [[0.9089, 0.3516, 0.6337],\n",
       "         [0.1679, 0.0966, 0.8925]]])"
      ]
     },
     "execution_count": 82,
     "metadata": {},
     "output_type": "execute_result"
    }
   ],
   "source": [
    "tt.rand((2,2,3))"
   ]
  },
  {
   "cell_type": "code",
   "execution_count": 105,
   "metadata": {},
   "outputs": [],
   "source": [
    "x=tt.rand(2,6,3,2)"
   ]
  },
  {
   "cell_type": "code",
   "execution_count": 104,
   "metadata": {},
   "outputs": [
    {
     "data": {
      "text/plain": [
       "torch.Size([2, 6])"
      ]
     },
     "execution_count": 104,
     "metadata": {},
     "output_type": "execute_result"
    }
   ],
   "source": [
    "tt.rand(2,6).shape"
   ]
  },
  {
   "cell_type": "code",
   "execution_count": 122,
   "metadata": {},
   "outputs": [
    {
     "data": {
      "text/plain": [
       "tensor([[0.3485, 0.1911],\n",
       "        [0.8708, 0.7682]])"
      ]
     },
     "execution_count": 122,
     "metadata": {},
     "output_type": "execute_result"
    }
   ],
   "source": [
    "x[1][1][:2]"
   ]
  },
  {
   "cell_type": "code",
   "execution_count": 123,
   "metadata": {},
   "outputs": [
    {
     "data": {
      "text/plain": [
       "tensor([0.1911, 0.7682])"
      ]
     },
     "execution_count": 123,
     "metadata": {},
     "output_type": "execute_result"
    }
   ],
   "source": [
    "x[1][1][:2,1]\n",
    "# this method of slicing"
   ]
  },
  {
   "cell_type": "code",
   "execution_count": 125,
   "metadata": {},
   "outputs": [
    {
     "data": {
      "text/plain": [
       "tensor([0.8708, 0.7682])"
      ]
     },
     "execution_count": 125,
     "metadata": {},
     "output_type": "execute_result"
    }
   ],
   "source": [
    "x[1][1][:2][1]\n",
    "#this methid of slicing"
   ]
  },
  {
   "cell_type": "code",
   "execution_count": 162,
   "metadata": {},
   "outputs": [
    {
     "data": {
      "text/plain": [
       "tensor([[0.5358, 0.7316],\n",
       "        [0.1980, 0.9736],\n",
       "        [0.2258, 0.5493]])"
      ]
     },
     "execution_count": 162,
     "metadata": {},
     "output_type": "execute_result"
    }
   ],
   "source": [
    "# you want the bellow result\n",
    "x[0][0]"
   ]
  },
  {
   "cell_type": "code",
   "execution_count": 177,
   "metadata": {},
   "outputs": [
    {
     "data": {
      "text/plain": [
       "tensor([[[[0.5358, 0.7316],\n",
       "          [0.1980, 0.9736]],\n",
       "\n",
       "         [[0.7846, 0.9102],\n",
       "          [0.6590, 0.4086]],\n",
       "\n",
       "         [[0.2588, 0.3197],\n",
       "          [0.8207, 0.9894]],\n",
       "\n",
       "         [[0.3920, 0.7115],\n",
       "          [0.8776, 0.6192]],\n",
       "\n",
       "         [[0.6015, 0.1988],\n",
       "          [0.0469, 0.3255]],\n",
       "\n",
       "         [[0.6375, 0.2508],\n",
       "          [0.0403, 0.8029]]],\n",
       "\n",
       "\n",
       "        [[[0.2338, 0.0840],\n",
       "          [0.1014, 0.3892]],\n",
       "\n",
       "         [[0.3485, 0.1911],\n",
       "          [0.8708, 0.7682]],\n",
       "\n",
       "         [[0.6072, 0.3784],\n",
       "          [0.7860, 0.7342]],\n",
       "\n",
       "         [[0.1548, 0.5581],\n",
       "          [0.2138, 0.9987]],\n",
       "\n",
       "         [[0.5720, 0.4192],\n",
       "          [0.0982, 0.5902]],\n",
       "\n",
       "         [[0.4537, 0.7831],\n",
       "          [0.2210, 0.7710]]]])"
      ]
     },
     "execution_count": 177,
     "metadata": {},
     "output_type": "execute_result"
    }
   ],
   "source": [
    "x.index_select(2,tt.arange(0,2))"
   ]
  },
  {
   "cell_type": "code",
   "execution_count": 171,
   "metadata": {},
   "outputs": [
    {
     "data": {
      "text/plain": [
       "tensor([[[[0.5358, 0.7316],\n",
       "          [0.1980, 0.9736],\n",
       "          [0.2258, 0.5493]],\n",
       "\n",
       "         [[0.7846, 0.9102],\n",
       "          [0.6590, 0.4086],\n",
       "          [0.7727, 0.7772]],\n",
       "\n",
       "         [[0.2588, 0.3197],\n",
       "          [0.8207, 0.9894],\n",
       "          [0.1916, 0.4166]],\n",
       "\n",
       "         [[0.3920, 0.7115],\n",
       "          [0.8776, 0.6192],\n",
       "          [0.6707, 0.5732]],\n",
       "\n",
       "         [[0.6015, 0.1988],\n",
       "          [0.0469, 0.3255],\n",
       "          [0.8339, 0.3053]],\n",
       "\n",
       "         [[0.6375, 0.2508],\n",
       "          [0.0403, 0.8029],\n",
       "          [0.0868, 0.0765]]],\n",
       "\n",
       "\n",
       "        [[[0.2338, 0.0840],\n",
       "          [0.1014, 0.3892],\n",
       "          [0.2019, 0.0523]],\n",
       "\n",
       "         [[0.3485, 0.1911],\n",
       "          [0.8708, 0.7682],\n",
       "          [0.2620, 0.0439]],\n",
       "\n",
       "         [[0.6072, 0.3784],\n",
       "          [0.7860, 0.7342],\n",
       "          [0.7951, 0.8414]],\n",
       "\n",
       "         [[0.1548, 0.5581],\n",
       "          [0.2138, 0.9987],\n",
       "          [0.4804, 0.0685]],\n",
       "\n",
       "         [[0.5720, 0.4192],\n",
       "          [0.0982, 0.5902],\n",
       "          [0.4659, 0.6349]],\n",
       "\n",
       "         [[0.4537, 0.7831],\n",
       "          [0.2210, 0.7710],\n",
       "          [0.0200, 0.0012]]]])"
      ]
     },
     "execution_count": 171,
     "metadata": {},
     "output_type": "execute_result"
    }
   ],
   "source": [
    "x"
   ]
  },
  {
   "cell_type": "code",
   "execution_count": 178,
   "metadata": {},
   "outputs": [],
   "source": [
    "x = tt.randn(3,4)"
   ]
  },
  {
   "cell_type": "code",
   "execution_count": 179,
   "metadata": {},
   "outputs": [
    {
     "data": {
      "text/plain": [
       "tensor([[ 0.0485, -0.1305,  0.4553, -0.1522],\n",
       "        [ 0.8314, -0.4469,  1.0750,  0.9331],\n",
       "        [-1.9402,  0.3177,  0.1918, -0.1947]])"
      ]
     },
     "execution_count": 179,
     "metadata": {},
     "output_type": "execute_result"
    }
   ],
   "source": [
    "x"
   ]
  },
  {
   "cell_type": "code",
   "execution_count": 245,
   "metadata": {},
   "outputs": [],
   "source": [
    "mask = x.ge(-0.8)\n",
    "#more towardds positive moew zeros.. more towards negative more ones"
   ]
  },
  {
   "cell_type": "code",
   "execution_count": 246,
   "metadata": {},
   "outputs": [
    {
     "data": {
      "text/plain": [
       "tensor([[1, 1, 1, 1],\n",
       "        [1, 1, 1, 1],\n",
       "        [0, 1, 1, 1]], dtype=torch.uint8)"
      ]
     },
     "execution_count": 246,
     "metadata": {},
     "output_type": "execute_result"
    }
   ],
   "source": [
    "mask"
   ]
  },
  {
   "cell_type": "code",
   "execution_count": 247,
   "metadata": {},
   "outputs": [
    {
     "data": {
      "text/plain": [
       "tensor([ 0.0485, -0.1305,  0.4553, -0.1522,  0.8314, -0.4469,  1.0750,  0.9331,\n",
       "         0.3177,  0.1918, -0.1947])"
      ]
     },
     "execution_count": 247,
     "metadata": {},
     "output_type": "execute_result"
    }
   ],
   "source": [
    "tt.masked_select(x,mask)"
   ]
  },
  {
   "cell_type": "code",
   "execution_count": 248,
   "metadata": {},
   "outputs": [
    {
     "data": {
      "text/plain": [
       "tensor([[ 0.0485, -0.1305,  0.4553, -0.1522],\n",
       "        [ 0.8314, -0.4469,  1.0750,  0.9331],\n",
       "        [-1.9402,  0.3177,  0.1918, -0.1947]])"
      ]
     },
     "execution_count": 248,
     "metadata": {},
     "output_type": "execute_result"
    }
   ],
   "source": [
    "tt.take()"
   ]
  },
  {
   "cell_type": "code",
   "execution_count": 251,
   "metadata": {},
   "outputs": [
    {
     "data": {
      "text/plain": [
       "tensor([-0.1305,  0.4553, -0.1522])"
      ]
     },
     "execution_count": 251,
     "metadata": {},
     "output_type": "execute_result"
    }
   ],
   "source": [
    "x.take(tt.tensor([1,2,3]))\n",
    "#take all the indices of the matiex"
   ]
  },
  {
   "cell_type": "code",
   "execution_count": 261,
   "metadata": {},
   "outputs": [
    {
     "data": {
      "text/plain": [
       "tensor([[-0.1305,  0.4553, -0.1522],\n",
       "        [-0.4469,  1.0750,  0.9331],\n",
       "        [ 0.3177,  0.1918, -0.1947]])"
      ]
     },
     "execution_count": 261,
     "metadata": {},
     "output_type": "execute_result"
    }
   ],
   "source": [
    "x.index_select(1,tt.tensor([1,2,3]))"
   ]
  },
  {
   "cell_type": "code",
   "execution_count": 268,
   "metadata": {},
   "outputs": [
    {
     "data": {
      "text/plain": [
       "tensor([2, 5, 7])"
      ]
     },
     "execution_count": 268,
     "metadata": {},
     "output_type": "execute_result"
    }
   ],
   "source": [
    "y = tt.tensor([[2,3,5],[6,7,8]])\n",
    "y.take(tt.tensor([0,2,4]))"
   ]
  },
  {
   "cell_type": "code",
   "execution_count": 255,
   "metadata": {},
   "outputs": [
    {
     "data": {
      "text/plain": [
       "torch.Size([3, 4])"
      ]
     },
     "execution_count": 255,
     "metadata": {},
     "output_type": "execute_result"
    }
   ],
   "source": [
    "x.shape"
   ]
  },
  {
   "cell_type": "code",
   "execution_count": 259,
   "metadata": {},
   "outputs": [
    {
     "data": {
      "text/plain": [
       "tensor([2])"
      ]
     },
     "execution_count": 259,
     "metadata": {},
     "output_type": "execute_result"
    }
   ],
   "source": [
    "tt.arange(2,3)"
   ]
  },
  {
   "cell_type": "code",
   "execution_count": 269,
   "metadata": {},
   "outputs": [],
   "source": [
    "# take will go on from top left to bottom righ t indexing order"
   ]
  },
  {
   "cell_type": "code",
   "execution_count": 270,
   "metadata": {},
   "outputs": [
    {
     "data": {
      "text/plain": [
       "15"
      ]
     },
     "execution_count": 270,
     "metadata": {},
     "output_type": "execute_result"
    }
   ],
   "source": [
    "1+2+3+4+5"
   ]
  },
  {
   "cell_type": "code",
   "execution_count": 275,
   "metadata": {},
   "outputs": [
    {
     "data": {
      "text/plain": [
       "tensor([[ 0.0485, -0.1305,  0.4553, -0.1522,  0.8314, -0.4469],\n",
       "        [ 1.0750,  0.9331, -1.9402,  0.3177,  0.1918, -0.1947]])"
      ]
     },
     "execution_count": 275,
     "metadata": {},
     "output_type": "execute_result"
    }
   ],
   "source": [
    "x.view(2,-1)"
   ]
  },
  {
   "cell_type": "code",
   "execution_count": 276,
   "metadata": {},
   "outputs": [],
   "source": [
    "#view will be hard if you dont remmeber the multiplication"
   ]
  },
  {
   "cell_type": "code",
   "execution_count": 277,
   "metadata": {},
   "outputs": [
    {
     "data": {
      "text/plain": [
       "torch.Size([3, 4])"
      ]
     },
     "execution_count": 277,
     "metadata": {},
     "output_type": "execute_result"
    }
   ],
   "source": [
    "x.shape\n"
   ]
  },
  {
   "cell_type": "code",
   "execution_count": 310,
   "metadata": {},
   "outputs": [
    {
     "data": {
      "text/plain": [
       "tensor([[[ 0.0485, -0.1305,  0.4553, -0.1522]],\n",
       "\n",
       "        [[ 0.8314, -0.4469,  1.0750,  0.9331]],\n",
       "\n",
       "        [[-1.9402,  0.3177,  0.1918, -0.1947]]])"
      ]
     },
     "execution_count": 310,
     "metadata": {},
     "output_type": "execute_result"
    }
   ],
   "source": [
    "x.unsqueeze(1)"
   ]
  },
  {
   "cell_type": "code",
   "execution_count": 279,
   "metadata": {},
   "outputs": [
    {
     "data": {
      "text/plain": [
       "tensor([[ 0.0485, -0.1305,  0.4553, -0.1522],\n",
       "        [ 0.8314, -0.4469,  1.0750,  0.9331],\n",
       "        [-1.9402,  0.3177,  0.1918, -0.1947]])"
      ]
     },
     "execution_count": 279,
     "metadata": {},
     "output_type": "execute_result"
    }
   ],
   "source": [
    "x"
   ]
  },
  {
   "cell_type": "code",
   "execution_count": 283,
   "metadata": {},
   "outputs": [
    {
     "data": {
      "text/plain": [
       "torch.Size([3, 4])"
      ]
     },
     "execution_count": 283,
     "metadata": {},
     "output_type": "execute_result"
    }
   ],
   "source": [
    "x.shape"
   ]
  },
  {
   "cell_type": "code",
   "execution_count": 291,
   "metadata": {},
   "outputs": [
    {
     "data": {
      "text/plain": [
       "2"
      ]
     },
     "execution_count": 291,
     "metadata": {},
     "output_type": "execute_result"
    }
   ],
   "source": [
    "x.dim()"
   ]
  },
  {
   "cell_type": "code",
   "execution_count": 311,
   "metadata": {},
   "outputs": [],
   "source": [
    "b= tt.rand(32)"
   ]
  },
  {
   "cell_type": "code",
   "execution_count": 312,
   "metadata": {},
   "outputs": [
    {
     "data": {
      "text/plain": [
       "tensor([0.9135, 0.0210, 0.9550, 0.6043, 0.8054, 0.8253, 0.4965, 0.7327, 0.0147,\n",
       "        0.2615, 0.8735, 0.3523, 0.9767, 0.8005, 0.2081, 0.4254, 0.1484, 0.9415,\n",
       "        0.5705, 0.0525, 0.9011, 0.9409, 0.8384, 0.4267, 0.6165, 0.3722, 0.8939,\n",
       "        0.5755, 0.0493, 0.0446, 0.6426, 0.8795])"
      ]
     },
     "execution_count": 312,
     "metadata": {},
     "output_type": "execute_result"
    }
   ],
   "source": [
    "b"
   ]
  },
  {
   "cell_type": "code",
   "execution_count": 323,
   "metadata": {},
   "outputs": [],
   "source": [
    "xd=b.unsqueeze(1).unsqueeze(2)"
   ]
  },
  {
   "cell_type": "code",
   "execution_count": 329,
   "metadata": {},
   "outputs": [],
   "source": [
    "# unsqueeze can go deep.... as ddep as possible"
   ]
  },
  {
   "cell_type": "code",
   "execution_count": 380,
   "metadata": {},
   "outputs": [],
   "source": [
    "a = tt.rand(1,32,14,14)"
   ]
  },
  {
   "cell_type": "code",
   "execution_count": 381,
   "metadata": {},
   "outputs": [
    {
     "data": {
      "text/plain": [
       "torch.Size([1, 32, 14, 14])"
      ]
     },
     "execution_count": 381,
     "metadata": {},
     "output_type": "execute_result"
    }
   ],
   "source": [
    "a.shape"
   ]
  },
  {
   "cell_type": "code",
   "execution_count": 384,
   "metadata": {},
   "outputs": [
    {
     "data": {
      "text/plain": [
       "tensor([[[[0.5296, 0.6107, 0.9054,  ..., 0.2891, 0.5150, 0.8039],\n",
       "          [0.1376, 0.2738, 0.6106,  ..., 0.6871, 0.8471, 0.1825],\n",
       "          [0.8496, 0.8782, 0.0367,  ..., 0.4140, 0.4843, 0.9787],\n",
       "          ...,\n",
       "          [0.9505, 0.4826, 0.5266,  ..., 0.4256, 0.8222, 0.3273],\n",
       "          [0.8634, 0.9380, 0.6757,  ..., 0.4667, 0.3809, 0.6427],\n",
       "          [0.7797, 0.8086, 0.5246,  ..., 0.9631, 0.1858, 0.7425]],\n",
       "\n",
       "         [[0.8358, 0.7916, 0.9140,  ..., 0.2143, 0.2245, 0.9063],\n",
       "          [0.9216, 0.0440, 0.2163,  ..., 0.1305, 0.6311, 0.1947],\n",
       "          [0.7947, 0.2293, 0.7581,  ..., 0.1459, 0.3911, 0.1590],\n",
       "          ...,\n",
       "          [0.6160, 0.1944, 0.0253,  ..., 0.3479, 0.3902, 0.7780],\n",
       "          [0.5968, 0.7314, 0.0117,  ..., 0.8206, 0.9422, 0.7649],\n",
       "          [0.5889, 0.4449, 0.7757,  ..., 0.5909, 0.4315, 0.7114]],\n",
       "\n",
       "         [[0.6485, 0.5580, 0.8935,  ..., 0.2655, 0.9797, 0.3457],\n",
       "          [0.1897, 0.4665, 0.3489,  ..., 0.8635, 0.9101, 0.9852],\n",
       "          [0.0411, 0.5150, 0.0981,  ..., 0.4237, 0.8629, 0.4821],\n",
       "          ...,\n",
       "          [0.7879, 0.3059, 0.8943,  ..., 0.0340, 0.6606, 0.4643],\n",
       "          [0.8472, 0.8413, 0.9197,  ..., 0.7114, 0.3060, 0.3558],\n",
       "          [0.5441, 0.8099, 0.1476,  ..., 0.7538, 0.7060, 0.6242]],\n",
       "\n",
       "         ...,\n",
       "\n",
       "         [[0.7073, 0.4349, 0.0956,  ..., 0.6563, 0.6333, 0.6308],\n",
       "          [0.5788, 0.7040, 0.1006,  ..., 0.4083, 0.5240, 0.3888],\n",
       "          [0.4613, 0.3301, 0.4219,  ..., 0.2594, 0.3674, 0.3610],\n",
       "          ...,\n",
       "          [0.7247, 0.0549, 0.4383,  ..., 0.9564, 0.4870, 0.2048],\n",
       "          [0.8502, 0.3846, 0.3223,  ..., 0.0879, 0.9875, 0.6551],\n",
       "          [0.3928, 0.9948, 0.3311,  ..., 0.0806, 0.6716, 0.5845]],\n",
       "\n",
       "         [[0.7527, 0.0539, 0.8621,  ..., 0.6721, 0.0054, 0.1747],\n",
       "          [0.8062, 0.5416, 0.8888,  ..., 0.4112, 0.1455, 0.5426],\n",
       "          [0.6320, 0.1823, 0.9311,  ..., 0.4337, 0.5462, 0.8042],\n",
       "          ...,\n",
       "          [0.5465, 0.5861, 0.2435,  ..., 0.3211, 0.6675, 0.1897],\n",
       "          [0.0286, 0.8806, 0.7001,  ..., 0.4803, 0.8746, 0.9200],\n",
       "          [0.7234, 0.4556, 0.1274,  ..., 0.8622, 0.6617, 0.9702]],\n",
       "\n",
       "         [[0.9272, 0.2947, 0.9007,  ..., 0.6892, 0.7734, 0.3278],\n",
       "          [0.5422, 0.1458, 0.3608,  ..., 0.5775, 0.6283, 0.4448],\n",
       "          [0.3364, 0.8123, 0.5299,  ..., 0.8732, 0.1233, 0.7951],\n",
       "          ...,\n",
       "          [0.1995, 0.9841, 0.6485,  ..., 0.3402, 0.3464, 0.0117],\n",
       "          [0.0501, 0.2848, 0.9685,  ..., 0.8268, 0.7935, 0.9891],\n",
       "          [0.4077, 0.2304, 0.9327,  ..., 0.4358, 0.1896, 0.0962]]]])"
      ]
     },
     "execution_count": 384,
     "metadata": {},
     "output_type": "execute_result"
    }
   ],
   "source": [
    "a.expand(-1,-1,-1,14)"
   ]
  },
  {
   "cell_type": "code",
   "execution_count": 371,
   "metadata": {},
   "outputs": [
    {
     "data": {
      "text/plain": [
       "3136.0"
      ]
     },
     "execution_count": 371,
     "metadata": {},
     "output_type": "execute_result"
    }
   ],
   "source": [
    "(14*14*32*4)/8"
   ]
  },
  {
   "cell_type": "code",
   "execution_count": 28,
   "metadata": {},
   "outputs": [
    {
     "data": {
      "text/plain": [
       "ExtraTreeRegressor(criterion='mse', max_depth=None, max_features='auto',\n",
       "          max_leaf_nodes=None, min_impurity_decrease=0.0,\n",
       "          min_impurity_split=None, min_samples_leaf=1, min_samples_split=2,\n",
       "          min_weight_fraction_leaf=0.0, random_state=None,\n",
       "          splitter='random')"
      ]
     },
     "execution_count": 28,
     "metadata": {},
     "output_type": "execute_result"
    }
   ],
   "source": [
    "et"
   ]
  },
  {
   "cell_type": "code",
   "execution_count": 33,
   "metadata": {},
   "outputs": [
    {
     "name": "stdout",
     "output_type": "stream",
     "text": [
      "yolo\n",
      "erjjbekjrj\n",
      "erbejrbvebverbew\n",
      "wkbfwkjbfwbvwbwjfbwrfjbwkrfwkrfwqrfn\n",
      "Time:  0.0006328999999993812\n"
     ]
    }
   ],
   "source": [
    "import timeit\n",
    "\n",
    "start = timeit.default_timer()\n",
    "\n",
    "print(\"yolo\")\n",
    "print(\"erjjbekjrj\")\n",
    "print(\"erbejrbvebverbew\")\n",
    "print(\"wkbfwkjbfwbvwbwjfbwrfjbwkrfwkrfwqrfn\")\n",
    "\n",
    "stop = timeit.default_timer()\n",
    "\n",
    "print('Time: ', stop - start)  "
   ]
  },
  {
   "cell_type": "code",
   "execution_count": 96,
   "metadata": {},
   "outputs": [],
   "source": [
    "import torch as tt"
   ]
  },
  {
   "cell_type": "code",
   "execution_count": 97,
   "metadata": {},
   "outputs": [],
   "source": [
    "b= tt.rand(4,32,14,14)"
   ]
  },
  {
   "cell_type": "code",
   "execution_count": 100,
   "metadata": {},
   "outputs": [
    {
     "data": {
      "text/plain": [
       "torch.Size([4, 32, 14, 14])"
      ]
     },
     "execution_count": 100,
     "metadata": {},
     "output_type": "execute_result"
    }
   ],
   "source": [
    "b.size()"
   ]
  },
  {
   "cell_type": "code",
   "execution_count": 103,
   "metadata": {},
   "outputs": [
    {
     "data": {
      "text/plain": [
       "torch.Size([1, 1, 4, 32, 14, 14])"
      ]
     },
     "execution_count": 103,
     "metadata": {},
     "output_type": "execute_result"
    }
   ],
   "source": [
    "b.unsqueeze(0).unsqueeze(0).shape"
   ]
  },
  {
   "cell_type": "code",
   "execution_count": 108,
   "metadata": {},
   "outputs": [
    {
     "data": {
      "text/plain": [
       "torch.Size([4, 32, 14, 14])"
      ]
     },
     "execution_count": 108,
     "metadata": {},
     "output_type": "execute_result"
    }
   ],
   "source": [
    "b.squeeze(2).shape"
   ]
  },
  {
   "cell_type": "code",
   "execution_count": 111,
   "metadata": {},
   "outputs": [
    {
     "data": {
      "text/plain": [
       "torch.Size([1, 4, 32, 14, 14])"
      ]
     },
     "execution_count": 111,
     "metadata": {},
     "output_type": "execute_result"
    }
   ],
   "source": [
    "b.unsqueeze(0).squeeze(0).shape"
   ]
  },
  {
   "cell_type": "code",
   "execution_count": 115,
   "metadata": {},
   "outputs": [
    {
     "data": {
      "text/plain": [
       "torch.Size([4, 32, 14, 14, 1])"
      ]
     },
     "execution_count": 115,
     "metadata": {},
     "output_type": "execute_result"
    }
   ],
   "source": [
    "#squeeze will remove the axis\n",
    "b.unsqueeze(-1).shape"
   ]
  },
  {
   "cell_type": "code",
   "execution_count": 121,
   "metadata": {},
   "outputs": [
    {
     "data": {
      "text/plain": [
       "torch.Size([4, 32, 14, 14, 1])"
      ]
     },
     "execution_count": 121,
     "metadata": {},
     "output_type": "execute_result"
    }
   ],
   "source": [
    "b.unsqueeze(-2).squeeze(-2).unsqueeze(-1).shape"
   ]
  },
  {
   "cell_type": "code",
   "execution_count": 161,
   "metadata": {},
   "outputs": [
    {
     "data": {
      "text/plain": [
       "torch.Size([1, 32, 1, -4])"
      ]
     },
     "execution_count": 161,
     "metadata": {},
     "output_type": "execute_result"
    }
   ],
   "source": [
    "a= tt.rand(,32,1,1)\n",
    "a.expand(-1,32,-1,-4).shape"
   ]
  },
  {
   "cell_type": "code",
   "execution_count": 165,
   "metadata": {},
   "outputs": [
    {
     "data": {
      "text/plain": [
       "torch.Size([1, 32, 100, 100])"
      ]
     },
     "execution_count": 165,
     "metadata": {},
     "output_type": "execute_result"
    }
   ],
   "source": [
    "a.expand(-1,32,100,100)\n",
    "#3 expand will work on the singleton axis...\n",
    "# expand will exppand into any form we want "
   ]
  },
  {
   "cell_type": "code",
   "execution_count": 167,
   "metadata": {},
   "outputs": [
    {
     "data": {
      "text/plain": [
       "tensor([[[[0.2107],\n",
       "          [0.3401]],\n",
       "\n",
       "         [[0.8392],\n",
       "          [0.1482]]],\n",
       "\n",
       "\n",
       "        [[[0.6414],\n",
       "          [0.4460]],\n",
       "\n",
       "         [[0.1144],\n",
       "          [0.0628]]]])"
      ]
     },
     "execution_count": 167,
     "metadata": {},
     "output_type": "execute_result"
    }
   ],
   "source": [
    "a = tt.rand(2,2,2,1)\n",
    "a.shape\n",
    "a"
   ]
  },
  {
   "cell_type": "code",
   "execution_count": 168,
   "metadata": {},
   "outputs": [
    {
     "data": {
      "text/plain": [
       "tensor([[[[0.2107, 0.2107, 0.2107, 0.2107, 0.2107, 0.2107, 0.2107, 0.2107,\n",
       "           0.2107, 0.2107],\n",
       "          [0.3401, 0.3401, 0.3401, 0.3401, 0.3401, 0.3401, 0.3401, 0.3401,\n",
       "           0.3401, 0.3401]],\n",
       "\n",
       "         [[0.8392, 0.8392, 0.8392, 0.8392, 0.8392, 0.8392, 0.8392, 0.8392,\n",
       "           0.8392, 0.8392],\n",
       "          [0.1482, 0.1482, 0.1482, 0.1482, 0.1482, 0.1482, 0.1482, 0.1482,\n",
       "           0.1482, 0.1482]]],\n",
       "\n",
       "\n",
       "        [[[0.6414, 0.6414, 0.6414, 0.6414, 0.6414, 0.6414, 0.6414, 0.6414,\n",
       "           0.6414, 0.6414],\n",
       "          [0.4460, 0.4460, 0.4460, 0.4460, 0.4460, 0.4460, 0.4460, 0.4460,\n",
       "           0.4460, 0.4460]],\n",
       "\n",
       "         [[0.1144, 0.1144, 0.1144, 0.1144, 0.1144, 0.1144, 0.1144, 0.1144,\n",
       "           0.1144, 0.1144],\n",
       "          [0.0628, 0.0628, 0.0628, 0.0628, 0.0628, 0.0628, 0.0628, 0.0628,\n",
       "           0.0628, 0.0628]]]])"
      ]
     },
     "execution_count": 168,
     "metadata": {},
     "output_type": "execute_result"
    }
   ],
   "source": [
    "a.expand(-1,-1,-1,10)\n",
    "#it will fill the remainng values with the same...value\n"
   ]
  },
  {
   "cell_type": "code",
   "execution_count": 191,
   "metadata": {},
   "outputs": [
    {
     "data": {
      "text/plain": [
       "torch.Size([2, 4, 4, 10])"
      ]
     },
     "execution_count": 191,
     "metadata": {},
     "output_type": "execute_result"
    }
   ],
   "source": [
    "a.squeeze(-1).repeat(2,2,2,5).shape\n",
    "# repeat will not take -1..as r=broadcasting..but expand will take -1 for broadcasting"
   ]
  },
  {
   "cell_type": "code",
   "execution_count": 193,
   "metadata": {},
   "outputs": [
    {
     "data": {
      "text/plain": [
       "tensor([[[[0.2107, 0.3401, 0.2107, 0.3401, 0.2107, 0.3401, 0.2107, 0.3401,\n",
       "           0.2107, 0.3401],\n",
       "          [0.8392, 0.1482, 0.8392, 0.1482, 0.8392, 0.1482, 0.8392, 0.1482,\n",
       "           0.8392, 0.1482],\n",
       "          [0.2107, 0.3401, 0.2107, 0.3401, 0.2107, 0.3401, 0.2107, 0.3401,\n",
       "           0.2107, 0.3401],\n",
       "          [0.8392, 0.1482, 0.8392, 0.1482, 0.8392, 0.1482, 0.8392, 0.1482,\n",
       "           0.8392, 0.1482]],\n",
       "\n",
       "         [[0.6414, 0.4460, 0.6414, 0.4460, 0.6414, 0.4460, 0.6414, 0.4460,\n",
       "           0.6414, 0.4460],\n",
       "          [0.1144, 0.0628, 0.1144, 0.0628, 0.1144, 0.0628, 0.1144, 0.0628,\n",
       "           0.1144, 0.0628],\n",
       "          [0.6414, 0.4460, 0.6414, 0.4460, 0.6414, 0.4460, 0.6414, 0.4460,\n",
       "           0.6414, 0.4460],\n",
       "          [0.1144, 0.0628, 0.1144, 0.0628, 0.1144, 0.0628, 0.1144, 0.0628,\n",
       "           0.1144, 0.0628]],\n",
       "\n",
       "         [[0.2107, 0.3401, 0.2107, 0.3401, 0.2107, 0.3401, 0.2107, 0.3401,\n",
       "           0.2107, 0.3401],\n",
       "          [0.8392, 0.1482, 0.8392, 0.1482, 0.8392, 0.1482, 0.8392, 0.1482,\n",
       "           0.8392, 0.1482],\n",
       "          [0.2107, 0.3401, 0.2107, 0.3401, 0.2107, 0.3401, 0.2107, 0.3401,\n",
       "           0.2107, 0.3401],\n",
       "          [0.8392, 0.1482, 0.8392, 0.1482, 0.8392, 0.1482, 0.8392, 0.1482,\n",
       "           0.8392, 0.1482]],\n",
       "\n",
       "         [[0.6414, 0.4460, 0.6414, 0.4460, 0.6414, 0.4460, 0.6414, 0.4460,\n",
       "           0.6414, 0.4460],\n",
       "          [0.1144, 0.0628, 0.1144, 0.0628, 0.1144, 0.0628, 0.1144, 0.0628,\n",
       "           0.1144, 0.0628],\n",
       "          [0.6414, 0.4460, 0.6414, 0.4460, 0.6414, 0.4460, 0.6414, 0.4460,\n",
       "           0.6414, 0.4460],\n",
       "          [0.1144, 0.0628, 0.1144, 0.0628, 0.1144, 0.0628, 0.1144, 0.0628,\n",
       "           0.1144, 0.0628]]],\n",
       "\n",
       "\n",
       "        [[[0.2107, 0.3401, 0.2107, 0.3401, 0.2107, 0.3401, 0.2107, 0.3401,\n",
       "           0.2107, 0.3401],\n",
       "          [0.8392, 0.1482, 0.8392, 0.1482, 0.8392, 0.1482, 0.8392, 0.1482,\n",
       "           0.8392, 0.1482],\n",
       "          [0.2107, 0.3401, 0.2107, 0.3401, 0.2107, 0.3401, 0.2107, 0.3401,\n",
       "           0.2107, 0.3401],\n",
       "          [0.8392, 0.1482, 0.8392, 0.1482, 0.8392, 0.1482, 0.8392, 0.1482,\n",
       "           0.8392, 0.1482]],\n",
       "\n",
       "         [[0.6414, 0.4460, 0.6414, 0.4460, 0.6414, 0.4460, 0.6414, 0.4460,\n",
       "           0.6414, 0.4460],\n",
       "          [0.1144, 0.0628, 0.1144, 0.0628, 0.1144, 0.0628, 0.1144, 0.0628,\n",
       "           0.1144, 0.0628],\n",
       "          [0.6414, 0.4460, 0.6414, 0.4460, 0.6414, 0.4460, 0.6414, 0.4460,\n",
       "           0.6414, 0.4460],\n",
       "          [0.1144, 0.0628, 0.1144, 0.0628, 0.1144, 0.0628, 0.1144, 0.0628,\n",
       "           0.1144, 0.0628]],\n",
       "\n",
       "         [[0.2107, 0.3401, 0.2107, 0.3401, 0.2107, 0.3401, 0.2107, 0.3401,\n",
       "           0.2107, 0.3401],\n",
       "          [0.8392, 0.1482, 0.8392, 0.1482, 0.8392, 0.1482, 0.8392, 0.1482,\n",
       "           0.8392, 0.1482],\n",
       "          [0.2107, 0.3401, 0.2107, 0.3401, 0.2107, 0.3401, 0.2107, 0.3401,\n",
       "           0.2107, 0.3401],\n",
       "          [0.8392, 0.1482, 0.8392, 0.1482, 0.8392, 0.1482, 0.8392, 0.1482,\n",
       "           0.8392, 0.1482]],\n",
       "\n",
       "         [[0.6414, 0.4460, 0.6414, 0.4460, 0.6414, 0.4460, 0.6414, 0.4460,\n",
       "           0.6414, 0.4460],\n",
       "          [0.1144, 0.0628, 0.1144, 0.0628, 0.1144, 0.0628, 0.1144, 0.0628,\n",
       "           0.1144, 0.0628],\n",
       "          [0.6414, 0.4460, 0.6414, 0.4460, 0.6414, 0.4460, 0.6414, 0.4460,\n",
       "           0.6414, 0.4460],\n",
       "          [0.1144, 0.0628, 0.1144, 0.0628, 0.1144, 0.0628, 0.1144, 0.0628,\n",
       "           0.1144, 0.0628]]]])"
      ]
     },
     "execution_count": 193,
     "metadata": {},
     "output_type": "execute_result"
    }
   ],
   "source": [
    "a.squeeze(-1).repeat(2,2,2,5)\n",
    "# make sure you work out with single ton datasets with the length given..if not it will multiplt with the previous one axis length"
   ]
  },
  {
   "cell_type": "code",
   "execution_count": 188,
   "metadata": {},
   "outputs": [
    {
     "data": {
      "text/plain": [
       "tensor([[[0.2107, 0.3401],\n",
       "         [0.8392, 0.1482]],\n",
       "\n",
       "        [[0.6414, 0.4460],\n",
       "         [0.1144, 0.0628]]])"
      ]
     },
     "execution_count": 188,
     "metadata": {},
     "output_type": "execute_result"
    }
   ],
   "source": [
    "a.squeeze(-1)"
   ]
  },
  {
   "cell_type": "code",
   "execution_count": 196,
   "metadata": {},
   "outputs": [],
   "source": [
    "a= tt.rand(2,2)"
   ]
  },
  {
   "cell_type": "code",
   "execution_count": 197,
   "metadata": {},
   "outputs": [
    {
     "data": {
      "text/plain": [
       "tensor([[0.5968, 0.4299],\n",
       "        [0.1292, 0.5385]])"
      ]
     },
     "execution_count": 197,
     "metadata": {},
     "output_type": "execute_result"
    }
   ],
   "source": [
    "a"
   ]
  },
  {
   "cell_type": "code",
   "execution_count": 198,
   "metadata": {},
   "outputs": [],
   "source": [
    "# trnapose"
   ]
  },
  {
   "cell_type": "code",
   "execution_count": 200,
   "metadata": {},
   "outputs": [
    {
     "data": {
      "text/plain": [
       "tensor([[0.5968, 0.1292],\n",
       "        [0.4299, 0.5385]])"
      ]
     },
     "execution_count": 200,
     "metadata": {},
     "output_type": "execute_result"
    }
   ],
   "source": [
    "a.t()"
   ]
  },
  {
   "cell_type": "code",
   "execution_count": 201,
   "metadata": {},
   "outputs": [],
   "source": [
    "a = tt.rand(3,4)"
   ]
  },
  {
   "cell_type": "code",
   "execution_count": 202,
   "metadata": {},
   "outputs": [
    {
     "data": {
      "text/plain": [
       "tensor([[0.8555, 0.2596, 0.6643, 0.9096],\n",
       "        [0.2600, 0.8421, 0.1813, 0.9568],\n",
       "        [0.6963, 0.6245, 0.2985, 0.3519]])"
      ]
     },
     "execution_count": 202,
     "metadata": {},
     "output_type": "execute_result"
    }
   ],
   "source": [
    "a"
   ]
  },
  {
   "cell_type": "code",
   "execution_count": 204,
   "metadata": {},
   "outputs": [
    {
     "data": {
      "text/plain": [
       "tensor([[0.8555, 0.2600, 0.6963],\n",
       "        [0.2596, 0.8421, 0.6245],\n",
       "        [0.6643, 0.1813, 0.2985],\n",
       "        [0.9096, 0.9568, 0.3519]])"
      ]
     },
     "execution_count": 204,
     "metadata": {},
     "output_type": "execute_result"
    }
   ],
   "source": [
    "a.t()"
   ]
  },
  {
   "cell_type": "code",
   "execution_count": 215,
   "metadata": {},
   "outputs": [
    {
     "data": {
      "text/plain": [
       "tensor([[0.8555, 0.2596, 0.6643, 0.9096],\n",
       "        [0.2600, 0.8421, 0.1813, 0.9568],\n",
       "        [0.6963, 0.6245, 0.2985, 0.3519]])"
      ]
     },
     "execution_count": 215,
     "metadata": {},
     "output_type": "execute_result"
    }
   ],
   "source": [
    "a.transpose(0,0) # orginal"
   ]
  },
  {
   "cell_type": "code",
   "execution_count": 218,
   "metadata": {},
   "outputs": [
    {
     "data": {
      "text/plain": [
       "tensor([[0.8555, 0.2600, 0.6963],\n",
       "        [0.2596, 0.8421, 0.6245],\n",
       "        [0.6643, 0.1813, 0.2985],\n",
       "        [0.9096, 0.9568, 0.3519]])"
      ]
     },
     "execution_count": 218,
     "metadata": {},
     "output_type": "execute_result"
    }
   ],
   "source": [
    "a.transpose(0,1)"
   ]
  },
  {
   "cell_type": "code",
   "execution_count": 221,
   "metadata": {},
   "outputs": [
    {
     "data": {
      "text/plain": [
       "tensor([[0.8555, 0.2600, 0.6963],\n",
       "        [0.2596, 0.8421, 0.6245],\n",
       "        [0.6643, 0.1813, 0.2985],\n",
       "        [0.9096, 0.9568, 0.3519]])"
      ]
     },
     "execution_count": 221,
     "metadata": {},
     "output_type": "execute_result"
    }
   ],
   "source": [
    "a.transpose(1,0)"
   ]
  },
  {
   "cell_type": "code",
   "execution_count": 222,
   "metadata": {},
   "outputs": [
    {
     "ename": "IndexError",
     "evalue": "Dimension out of range (expected to be in range of [-2, 1], but got 3)",
     "output_type": "error",
     "traceback": [
      "\u001b[1;31m---------------------------------------------------------------------------\u001b[0m",
      "\u001b[1;31mIndexError\u001b[0m                                Traceback (most recent call last)",
      "\u001b[1;32m<ipython-input-222-8acf1465892e>\u001b[0m in \u001b[0;36m<module>\u001b[1;34m()\u001b[0m\n\u001b[1;32m----> 1\u001b[1;33m \u001b[0ma\u001b[0m\u001b[1;33m.\u001b[0m\u001b[0mtranspose\u001b[0m\u001b[1;33m(\u001b[0m\u001b[1;36m1\u001b[0m\u001b[1;33m,\u001b[0m\u001b[1;36m3\u001b[0m\u001b[1;33m)\u001b[0m\u001b[1;33m\u001b[0m\u001b[0m\n\u001b[0m",
      "\u001b[1;31mIndexError\u001b[0m: Dimension out of range (expected to be in range of [-2, 1], but got 3)"
     ]
    }
   ],
   "source": [
    "a.transpose(1,3)"
   ]
  },
  {
   "cell_type": "code",
   "execution_count": 223,
   "metadata": {},
   "outputs": [],
   "source": [
    "a = tt.rand(4,3,32,32)"
   ]
  },
  {
   "cell_type": "code",
   "execution_count": 230,
   "metadata": {},
   "outputs": [
    {
     "data": {
      "text/plain": [
       "tensor([[[[0.6960, 0.3754, 0.5846, 0.5799],\n",
       "          [0.9431, 0.6264, 0.2932, 0.1182],\n",
       "          [0.8046, 0.9372, 0.0275, 0.1019],\n",
       "          ...,\n",
       "          [0.1048, 0.2718, 0.8162, 0.3633],\n",
       "          [0.1627, 0.7139, 0.6543, 0.8133],\n",
       "          [0.8359, 0.6709, 0.0927, 0.5187]],\n",
       "\n",
       "         [[0.6370, 0.4092, 0.0527, 0.9757],\n",
       "          [0.5452, 0.7780, 0.9000, 0.8926],\n",
       "          [0.1465, 0.7730, 0.3907, 0.0940],\n",
       "          ...,\n",
       "          [0.7278, 0.6781, 0.7851, 0.4075],\n",
       "          [0.3018, 0.6363, 0.9534, 0.8381],\n",
       "          [0.7926, 0.5256, 0.4161, 0.6907]],\n",
       "\n",
       "         [[0.5676, 0.1976, 0.1372, 0.4668],\n",
       "          [0.6312, 0.5303, 0.4417, 0.5394],\n",
       "          [0.7484, 0.9472, 0.2176, 0.9418],\n",
       "          ...,\n",
       "          [0.2967, 0.2170, 0.4942, 0.1562],\n",
       "          [0.8558, 0.8355, 0.8165, 0.3928],\n",
       "          [0.4598, 0.2228, 0.3295, 0.8159]]],\n",
       "\n",
       "\n",
       "        [[[0.6852, 0.8510, 0.4927, 0.2706],\n",
       "          [0.9209, 0.8242, 0.5440, 0.5797],\n",
       "          [0.1537, 0.7268, 0.1966, 0.1021],\n",
       "          ...,\n",
       "          [0.8767, 0.3444, 0.1659, 0.0507],\n",
       "          [0.6853, 0.4605, 0.8024, 0.5325],\n",
       "          [0.0824, 0.4894, 0.2827, 0.7908]],\n",
       "\n",
       "         [[0.2358, 0.9572, 0.3747, 0.8638],\n",
       "          [0.3035, 0.6968, 0.0331, 0.5783],\n",
       "          [0.9625, 0.4536, 0.2189, 0.3224],\n",
       "          ...,\n",
       "          [0.0371, 0.6924, 0.7879, 0.3380],\n",
       "          [0.6681, 0.7368, 0.8000, 0.7436],\n",
       "          [0.6028, 0.8244, 0.9450, 0.4577]],\n",
       "\n",
       "         [[0.9562, 0.8555, 0.0503, 0.1637],\n",
       "          [0.6610, 0.4713, 0.4731, 0.3093],\n",
       "          [0.4779, 0.2113, 0.9092, 0.2214],\n",
       "          ...,\n",
       "          [0.1381, 0.0093, 0.5599, 0.0547],\n",
       "          [0.5064, 0.1903, 0.5950, 0.9977],\n",
       "          [0.0944, 0.5049, 0.7347, 0.3276]]],\n",
       "\n",
       "\n",
       "        [[[0.3979, 0.0549, 0.9949, 0.3852],\n",
       "          [0.9529, 0.5297, 0.9384, 0.9893],\n",
       "          [0.9171, 0.0414, 0.4950, 0.3574],\n",
       "          ...,\n",
       "          [0.6310, 0.3091, 0.6108, 0.1182],\n",
       "          [0.7139, 0.7921, 0.7295, 0.7011],\n",
       "          [0.0305, 0.8542, 0.4044, 0.4575]],\n",
       "\n",
       "         [[0.2963, 0.7893, 0.1296, 0.6991],\n",
       "          [0.8249, 0.4003, 0.9896, 0.2513],\n",
       "          [0.4110, 0.7797, 0.2790, 0.6390],\n",
       "          ...,\n",
       "          [0.1449, 0.3700, 0.3356, 0.8783],\n",
       "          [0.3650, 0.5471, 0.5325, 0.1931],\n",
       "          [0.6177, 0.3431, 0.0655, 0.5913]],\n",
       "\n",
       "         [[0.8629, 0.7454, 0.2232, 0.5305],\n",
       "          [0.1896, 0.5174, 0.5336, 0.8320],\n",
       "          [0.5674, 0.3812, 0.4296, 0.5739],\n",
       "          ...,\n",
       "          [0.7947, 0.7316, 0.0771, 0.3579],\n",
       "          [0.9820, 0.9973, 0.6255, 0.1761],\n",
       "          [0.1890, 0.2594, 0.8054, 0.3318]]],\n",
       "\n",
       "\n",
       "        ...,\n",
       "\n",
       "\n",
       "        [[[0.9680, 0.7111, 0.7207, 0.6104],\n",
       "          [0.2713, 0.1488, 0.9071, 0.2316],\n",
       "          [0.4781, 0.7811, 0.0502, 0.0592],\n",
       "          ...,\n",
       "          [0.3469, 0.5640, 0.3277, 0.9762],\n",
       "          [0.5275, 0.1297, 0.4950, 0.7818],\n",
       "          [0.1291, 0.9689, 0.2122, 0.0278]],\n",
       "\n",
       "         [[0.1367, 0.7257, 0.3359, 0.9594],\n",
       "          [0.4879, 0.2562, 0.5564, 0.4555],\n",
       "          [0.4765, 0.9236, 0.1662, 0.9345],\n",
       "          ...,\n",
       "          [0.8653, 0.3135, 0.8678, 0.5260],\n",
       "          [0.9376, 0.1178, 0.3644, 0.6355],\n",
       "          [0.9870, 0.9076, 0.5317, 0.0248]],\n",
       "\n",
       "         [[0.7194, 0.4630, 0.8681, 0.1225],\n",
       "          [0.1113, 0.1933, 0.1613, 0.9675],\n",
       "          [0.3778, 0.7667, 0.3096, 0.8577],\n",
       "          ...,\n",
       "          [0.9695, 0.7919, 0.5885, 0.5033],\n",
       "          [0.8530, 0.5977, 0.9122, 0.5181],\n",
       "          [0.6713, 0.2084, 0.6830, 0.6145]]],\n",
       "\n",
       "\n",
       "        [[[0.4293, 0.2726, 0.2343, 0.1470],\n",
       "          [0.2538, 0.6071, 0.2727, 0.6433],\n",
       "          [0.3836, 0.1824, 0.0389, 0.7200],\n",
       "          ...,\n",
       "          [0.9738, 0.6935, 0.1513, 0.6892],\n",
       "          [0.8600, 0.2423, 0.9698, 0.3988],\n",
       "          [0.4530, 0.4353, 0.8085, 0.5014]],\n",
       "\n",
       "         [[0.5300, 0.3543, 0.6230, 0.7827],\n",
       "          [0.3969, 0.9918, 0.6500, 0.8962],\n",
       "          [0.5317, 0.0063, 0.4254, 0.0185],\n",
       "          ...,\n",
       "          [0.4737, 0.0895, 0.5251, 0.6805],\n",
       "          [0.3800, 0.6144, 0.7461, 0.3923],\n",
       "          [0.5293, 0.3332, 0.6602, 0.9078]],\n",
       "\n",
       "         [[0.8078, 0.2562, 0.9897, 0.6757],\n",
       "          [0.5774, 0.0898, 0.1146, 0.2751],\n",
       "          [0.3774, 0.6725, 0.6233, 0.3428],\n",
       "          ...,\n",
       "          [0.0238, 0.7340, 0.6107, 0.2934],\n",
       "          [0.9360, 0.8265, 0.5907, 0.4049],\n",
       "          [0.7533, 0.5218, 0.9026, 0.1383]]],\n",
       "\n",
       "\n",
       "        [[[0.7546, 0.7117, 0.4175, 0.8245],\n",
       "          [0.9422, 0.7004, 0.0908, 0.2119],\n",
       "          [0.9594, 0.7759, 0.3398, 0.8333],\n",
       "          ...,\n",
       "          [0.3291, 0.6760, 0.9408, 0.7231],\n",
       "          [0.7321, 0.1016, 0.3426, 0.3318],\n",
       "          [0.7349, 0.2295, 0.5350, 0.5512]],\n",
       "\n",
       "         [[0.0191, 0.0692, 0.1968, 0.0903],\n",
       "          [0.0978, 0.7010, 0.0335, 0.0767],\n",
       "          [0.3487, 0.4358, 0.7587, 0.2355],\n",
       "          ...,\n",
       "          [0.1189, 0.1595, 0.8032, 0.0723],\n",
       "          [0.2172, 0.0701, 0.5675, 0.0836],\n",
       "          [0.3334, 0.1900, 0.3951, 0.4162]],\n",
       "\n",
       "         [[0.3949, 0.9501, 0.0127, 0.4078],\n",
       "          [0.1344, 0.3642, 0.0363, 0.1191],\n",
       "          [0.0641, 0.9367, 0.9638, 0.0386],\n",
       "          ...,\n",
       "          [0.0953, 0.9605, 0.1649, 0.5338],\n",
       "          [0.1283, 0.4764, 0.4588, 0.1567],\n",
       "          [0.5582, 0.3975, 0.9658, 0.0396]]]])"
      ]
     },
     "execution_count": 230,
     "metadata": {},
     "output_type": "execute_result"
    }
   ],
   "source": [
    "a.transpose(0,3)\n",
    "\n",
    "# trnaspose will work on the more than 2 dimension matrixs"
   ]
  },
  {
   "cell_type": "code",
   "execution_count": 236,
   "metadata": {},
   "outputs": [
    {
     "data": {
      "text/plain": [
       "torch.Size([32, 3, 32, 4])"
      ]
     },
     "execution_count": 236,
     "metadata": {},
     "output_type": "execute_result"
    }
   ],
   "source": [
    "a.transpose(0,3).contiguous().shape\n",
    "# contiguous makes a copy of the tensor"
   ]
  },
  {
   "cell_type": "code",
   "execution_count": 234,
   "metadata": {},
   "outputs": [
    {
     "data": {
      "text/plain": [
       "torch.Size([32, 3, 32, 4])"
      ]
     },
     "execution_count": 234,
     "metadata": {},
     "output_type": "execute_result"
    }
   ],
   "source": [
    "a.transpose(0,3).shape"
   ]
  },
  {
   "cell_type": "code",
   "execution_count": 235,
   "metadata": {},
   "outputs": [],
   "source": [
    "#https://stackoverflow.com/questions/48915810/pytorch-contiguous"
   ]
  },
  {
   "cell_type": "code",
   "execution_count": null,
   "metadata": {},
   "outputs": [],
   "source": [
    "tt.all(tt.eq())"
   ]
  }
 ],
 "metadata": {
  "kernelspec": {
   "display_name": "Python 3",
   "language": "python",
   "name": "python3"
  },
  "language_info": {
   "codemirror_mode": {
    "name": "ipython",
    "version": 3
   },
   "file_extension": ".py",
   "mimetype": "text/x-python",
   "name": "python",
   "nbconvert_exporter": "python",
   "pygments_lexer": "ipython3",
   "version": "3.7.7"
  }
 },
 "nbformat": 4,
 "nbformat_minor": 2
}
